{
 "cells": [
  {
   "cell_type": "markdown",
   "metadata": {},
   "source": [
    "텐서의 연산(operations)"
   ]
  },
  {
   "cell_type": "code",
   "execution_count": 1,
   "metadata": {},
   "outputs": [],
   "source": [
    "import torch"
   ]
  },
  {
   "cell_type": "markdown",
   "metadata": {},
   "source": [
    "덧셈 1"
   ]
  },
  {
   "cell_type": "code",
   "execution_count": 3,
   "metadata": {},
   "outputs": [
    {
     "data": {
      "text/plain": [
       "tensor([[0.4816, 0.5257, 0.3127, 0.9978],\n",
       "        [0.3257, 0.2900, 0.7194, 0.4564]])"
      ]
     },
     "execution_count": 3,
     "metadata": {},
     "output_type": "execute_result"
    }
   ],
   "source": [
    "x = torch.rand(2, 4)\n",
    "x"
   ]
  },
  {
   "cell_type": "code",
   "execution_count": 4,
   "metadata": {},
   "outputs": [
    {
     "name": "stdout",
     "output_type": "stream",
     "text": [
      "tensor([[0.0259, 0.8675, 0.4614, 0.5405],\n",
      "        [0.8741, 0.0263, 0.0051, 0.0169]])\n"
     ]
    },
    {
     "data": {
      "text/plain": [
       "tensor([[0.5076, 1.3933, 0.7741, 1.5383],\n",
       "        [1.1999, 0.3163, 0.7245, 0.4733]])"
      ]
     },
     "execution_count": 4,
     "metadata": {},
     "output_type": "execute_result"
    }
   ],
   "source": [
    "y = torch.rand(2, 4)\n",
    "print(y)\n",
    "x + y"
   ]
  },
  {
   "cell_type": "markdown",
   "metadata": {},
   "source": [
    "덧셈 2"
   ]
  },
  {
   "cell_type": "code",
   "execution_count": 5,
   "metadata": {},
   "outputs": [
    {
     "data": {
      "text/plain": [
       "tensor([[0.5076, 1.3933, 0.7741, 1.5383],\n",
       "        [1.1999, 0.3163, 0.7245, 0.4733]])"
      ]
     },
     "execution_count": 5,
     "metadata": {},
     "output_type": "execute_result"
    }
   ],
   "source": [
    "torch.add(x, y) # add라는 함수를 이용하여 덧셈을 해준다"
   ]
  },
  {
   "cell_type": "markdown",
   "metadata": {},
   "source": [
    "덧셈 3 ( 결과텐서를 인자로 제공)"
   ]
  },
  {
   "cell_type": "code",
   "execution_count": 6,
   "metadata": {},
   "outputs": [
    {
     "data": {
      "text/plain": [
       "tensor([[0.5076, 1.3933, 0.7741, 1.5383],\n",
       "        [1.1999, 0.3163, 0.7245, 0.4733]])"
      ]
     },
     "execution_count": 6,
     "metadata": {},
     "output_type": "execute_result"
    }
   ],
   "source": [
    "result = torch.empty(2, 4)  # result라는 빈 공간을 만든다\n",
    "torch.add(x, y, out=result)  # x,y 를 더한 값을 result에 넣는다\n",
    "\n",
    "result       # result만 출력해도 x,y가 더한 값을 출력할 수 있다."
   ]
  },
  {
   "cell_type": "markdown",
   "metadata": {},
   "source": [
    "덧샘 4 (in-place방식)"
   ]
  },
  {
   "cell_type": "code",
   "execution_count": 7,
   "metadata": {},
   "outputs": [
    {
     "name": "stdout",
     "output_type": "stream",
     "text": [
      "tensor([[0.4816, 0.5257, 0.3127, 0.9978],\n",
      "        [0.3257, 0.2900, 0.7194, 0.4564]]) tensor([[0.0259, 0.8675, 0.4614, 0.5405],\n",
      "        [0.8741, 0.0263, 0.0051, 0.0169]])\n"
     ]
    },
    {
     "data": {
      "text/plain": [
       "tensor([[0.5076, 1.3933, 0.7741, 1.5383],\n",
       "        [1.1999, 0.3163, 0.7245, 0.4733]])"
      ]
     },
     "execution_count": 7,
     "metadata": {},
     "output_type": "execute_result"
    }
   ],
   "source": [
    "print(x, y)\n",
    "\n",
    "y.add_(x)   # y += x 와 같다. 즉 y에 x를 더한 후 그 값을 다시 y에 저장한다는 뜻\n",
    "y"
   ]
  }
 ],
 "metadata": {
  "interpreter": {
   "hash": "b69a98d3df882577ba469635c4ab08c5ae67eaedfd3a57f311f98966a6edb2d0"
  },
  "kernelspec": {
   "display_name": "Python 3.8.12 64-bit ('torch': conda)",
   "language": "python",
   "name": "python3"
  },
  "language_info": {
   "codemirror_mode": {
    "name": "ipython",
    "version": 3
   },
   "file_extension": ".py",
   "mimetype": "text/x-python",
   "name": "python",
   "nbconvert_exporter": "python",
   "pygments_lexer": "ipython3",
   "version": "3.8.12"
  },
  "orig_nbformat": 4
 },
 "nbformat": 4,
 "nbformat_minor": 2
}
