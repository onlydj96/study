{
 "cells": [
  {
   "cell_type": "markdown",
   "metadata": {},
   "source": [
    "그 외의 연산\n",
    "\n",
    "   - torch.sub : 뺄셈\n",
    "   - torch.mul : 곱셈\n",
    "   - torch.div : 나눗셈\n",
    "   - torch.mm : 내적(dot product)"
   ]
  },
  {
   "cell_type": "code",
   "execution_count": null,
   "metadata": {},
   "outputs": [],
   "source": [
    "import torch"
   ]
  },
  {
   "cell_type": "code",
   "execution_count": null,
   "metadata": {},
   "outputs": [],
   "source": [
    "x = torch.Tensor([[1, 3],\n",
    "                  [5, 7]])\n",
    "\n",
    "y = torch.Tensor([[2, 4],\n",
    "                  [6, 8]])\n",
    "\n",
    "print(x - y)\n",
    "print(torch.sub(x, y))\n",
    "print(x.sub(y))           # 동일한 뺄셈 수식"
   ]
  },
  {
   "cell_type": "code",
   "execution_count": null,
   "metadata": {},
   "outputs": [],
   "source": [
    "x = torch.Tensor([[1, 3],\n",
    "                  [5, 7]])\n",
    "\n",
    "y = torch.Tensor([[2, 4],\n",
    "                  [6, 8]])\n",
    "\n",
    "print(x * y)\n",
    "print(torch.mul(x, y))\n",
    "print(x.mul(y))         # 동일한 곱셈 수식"
   ]
  },
  {
   "cell_type": "code",
   "execution_count": null,
   "metadata": {},
   "outputs": [],
   "source": [
    "x = torch.Tensor([[1, 3],\n",
    "                  [5, 7]])\n",
    "\n",
    "y = torch.Tensor([[2, 4],\n",
    "                  [6, 8]])\n",
    "\n",
    "print(x / y)\n",
    "print(torch.div(x, y))\n",
    "print(x.div(y))           # 동일한 나눗셈 연산"
   ]
  },
  {
   "cell_type": "code",
   "execution_count": null,
   "metadata": {},
   "outputs": [],
   "source": [
    "x = torch.Tensor([[1, 3],\n",
    "                  [5, 7]])\n",
    "\n",
    "y = torch.Tensor([[2, 4],\n",
    "                  [6, 8]])\n",
    "\n",
    "print(torch.mm(x, y))    # 행렬 곱 연산"
   ]
  }
 ],
 "metadata": {
  "language_info": {
   "name": "python"
  },
  "orig_nbformat": 4
 },
 "nbformat": 4,
 "nbformat_minor": 2
}
