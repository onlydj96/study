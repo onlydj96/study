{
 "cells": [
  {
   "cell_type": "markdown",
   "metadata": {},
   "source": [
    "view\n",
    "  - 텐서의 크기(size)나 모양(shape)을 변경"
   ]
  },
  {
   "cell_type": "code",
   "execution_count": 2,
   "metadata": {},
   "outputs": [],
   "source": [
    "import torch"
   ]
  },
  {
   "cell_type": "code",
   "execution_count": 3,
   "metadata": {},
   "outputs": [
    {
     "name": "stdout",
     "output_type": "stream",
     "text": [
      "tensor([[-0.6984, -0.5993, -1.1867, -0.0773,  0.2250],\n",
      "        [-0.5453,  1.2168,  0.4741, -0.9119,  1.3085],\n",
      "        [-0.4203,  0.2201,  1.8024,  0.2192,  0.7347],\n",
      "        [ 1.4662, -0.1076,  1.0363,  0.0125,  1.6532]])\n",
      "tensor([-0.6984, -0.5993, -1.1867, -0.0773,  0.2250, -0.5453,  1.2168,  0.4741,\n",
      "        -0.9119,  1.3085, -0.4203,  0.2201,  1.8024,  0.2192,  0.7347,  1.4662,\n",
      "        -0.1076,  1.0363,  0.0125,  1.6532])\n",
      "tensor([[-0.6984, -0.5993, -1.1867, -0.0773],\n",
      "        [ 0.2250, -0.5453,  1.2168,  0.4741],\n",
      "        [-0.9119,  1.3085, -0.4203,  0.2201],\n",
      "        [ 1.8024,  0.2192,  0.7347,  1.4662],\n",
      "        [-0.1076,  1.0363,  0.0125,  1.6532]])\n"
     ]
    }
   ],
   "source": [
    "x = torch.randn(4, 5)\n",
    "y = x.view(20)           # 2차원의 텐서를 쭉 나열된 형태로 출력, 즉 1차원 텐서로 바뀜\n",
    "z = x.view(5, -1)        # x의 텐서의 shape을 변경\n",
    "\n",
    "print(x)\n",
    "print(y)\n",
    "print(z)"
   ]
  }
 ],
 "metadata": {
  "interpreter": {
   "hash": "b69a98d3df882577ba469635c4ab08c5ae67eaedfd3a57f311f98966a6edb2d0"
  },
  "kernelspec": {
   "display_name": "Python 3.8.12 64-bit ('torch': conda)",
   "language": "python",
   "name": "python3"
  },
  "language_info": {
   "codemirror_mode": {
    "name": "ipython",
    "version": 3
   },
   "file_extension": ".py",
   "mimetype": "text/x-python",
   "name": "python",
   "nbconvert_exporter": "python",
   "pygments_lexer": "ipython3",
   "version": "3.8.12"
  },
  "orig_nbformat": 4
 },
 "nbformat": 4,
 "nbformat_minor": 2
}
