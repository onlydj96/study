{
 "cells": [
  {
   "cell_type": "markdown",
   "metadata": {},
   "source": [
    "오디어 용어 정의\n",
    "   - 위상(Phase; Degress of displacement)\n",
    "   - 진폭(Amplitude; Intensity)\n",
    "   - 주파수(Frequency)\n",
    "\n",
    "소리는 진동으로 인한 공기의 압축으로 생성\n",
    "압축이 얼마나 됬느냐에 따라 진동하며, 공간이나 매질을 전파해 나가는 현상인 Wave(파동)으로 표현"
   ]
  },
  {
   "cell_type": "markdown",
   "metadata": {},
   "source": [
    "Audio Library\n",
    "   - librosa : 각종 음성 처리에 유용한 라이브러리\n",
    "   - torchaudio : "
   ]
  },
  {
   "cell_type": "code",
   "execution_count": null,
   "metadata": {},
   "outputs": [],
   "source": []
  }
 ],
 "metadata": {
  "language_info": {
   "name": "python"
  },
  "orig_nbformat": 4
 },
 "nbformat": 4,
 "nbformat_minor": 2
}
