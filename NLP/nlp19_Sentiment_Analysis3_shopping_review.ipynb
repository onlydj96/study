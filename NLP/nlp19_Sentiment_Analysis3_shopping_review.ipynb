{
 "cells": [
  {
   "cell_type": "markdown",
   "metadata": {},
   "source": [
    "네이버 쇼핑 데이터\n",
    "   - https://raw.githubusercontent.com/bab2min/corpus/master/sentiment/naver_shopping.txt\n"
   ]
  },
  {
   "cell_type": "code",
   "execution_count": 3,
   "metadata": {},
   "outputs": [],
   "source": [
    "import numpy as np\n",
    "import pandas as pd\n",
    "from tensorflow.keras.preprocessing.text import Tokenizer\n",
    "from tensorflow.keras.preprocessing.sequence import pad_sequences\n",
    "from tensorflow.keras.models import Sequential\n",
    "from tensorflow.keras.layers import Dense, Embedding, GRU, Dropout\n",
    "from tensorflow.keras.callbacks import EarlyStopping\n",
    "from sklearn.model_selection import train_test_split\n",
    "from konlpy.tag import Mecab\n",
    "import matplotlib.pyplot as plt\n",
    "plt.style.use('seaborn-white')\n",
    "import warnings\n",
    "warnings.filterwarnings('ignore')"
   ]
  },
  {
   "cell_type": "markdown",
   "metadata": {},
   "source": [
    "데이터 로드"
   ]
  },
  {
   "cell_type": "code",
   "execution_count": 4,
   "metadata": {},
   "outputs": [
    {
     "data": {
      "text/plain": [
       "('shopping.txt', <http.client.HTTPMessage at 0x17324a6f648>)"
      ]
     },
     "execution_count": 4,
     "metadata": {},
     "output_type": "execute_result"
    }
   ],
   "source": [
    "import urllib.request\n",
    "\n",
    "urllib.request.urlretrieve('https://raw.githubusercontent.com/bab2min/corpus/master/sentiment/naver_shopping.txt', filename='shopping.txt')"
   ]
  },
  {
   "cell_type": "code",
   "execution_count": 5,
   "metadata": {},
   "outputs": [
    {
     "name": "stdout",
     "output_type": "stream",
     "text": [
      "200000\n"
     ]
    }
   ],
   "source": [
    "total_data = pd.read_table('shopping.txt', names=['ratings', 'reviews'])\n",
    "print(len(total_data))"
   ]
  },
  {
   "cell_type": "markdown",
   "metadata": {},
   "source": [
    "훈련 데이터와 테스트 데이터 분리"
   ]
  },
  {
   "cell_type": "code",
   "execution_count": 6,
   "metadata": {},
   "outputs": [],
   "source": [
    "# 평점이 4점 이상일 경우에는 1, 아니면 0을 주는 column인 'label' 생성\n",
    "total_data['label'] = np.select([total_data.ratings > 3], [1], default=0)"
   ]
  },
  {
   "cell_type": "code",
   "execution_count": 7,
   "metadata": {},
   "outputs": [
    {
     "data": {
      "text/plain": [
       "(4, 199908, 2)"
      ]
     },
     "execution_count": 7,
     "metadata": {},
     "output_type": "execute_result"
    }
   ],
   "source": [
    "total_data['ratings'].nunique(), total_data['reviews'].nunique(), total_data['label'].nunique()"
   ]
  },
  {
   "cell_type": "code",
   "execution_count": 8,
   "metadata": {},
   "outputs": [
    {
     "name": "stdout",
     "output_type": "stream",
     "text": [
      "199908\n"
     ]
    }
   ],
   "source": [
    "# 중복 제거\n",
    "total_data.drop_duplicates(subset=['reviews'], inplace=True)\n",
    "print(len(total_data))"
   ]
  },
  {
   "cell_type": "code",
   "execution_count": 9,
   "metadata": {},
   "outputs": [],
   "source": [
    "train_data, test_data = train_test_split(total_data, test_size=0.25, random_state=111)"
   ]
  },
  {
   "cell_type": "markdown",
   "metadata": {},
   "source": [
    "레이블 분포 확인"
   ]
  },
  {
   "cell_type": "code",
   "execution_count": 10,
   "metadata": {},
   "outputs": [
    {
     "data": {
      "image/png": "[encoded data removed]",
      "text/plain": [
       "<Figure size 432x288 with 1 Axes>"
      ]
     },
     "metadata": {},
     "output_type": "display_data"
    }
   ],
   "source": [
    "train_data['label'].value_counts().plot(kind='bar');"
   ]
  },
  {
   "cell_type": "code",
   "execution_count": 11,
   "metadata": {},
   "outputs": [
    {
     "data": {
      "text/html": [
       "<div>\n",
       "<style scoped>\n",
       "    .dataframe tbody tr th:only-of-type {\n",
       "        vertical-align: middle;\n",
       "    }\n",
       "\n",
       "    .dataframe tbody tr th {\n",
       "        vertical-align: top;\n",
       "    }\n",
       "\n",
       "    .dataframe thead th {\n",
       "        text-align: right;\n",
       "    }\n",
       "</style>\n",
       "<table border=\"1\" class=\"dataframe\">\n",
       "  <thead>\n",
       "    <tr style=\"text-align: right;\">\n",
       "      <th></th>\n",
       "      <th>label</th>\n",
       "      <th>count</th>\n",
       "    </tr>\n",
       "  </thead>\n",
       "  <tbody>\n",
       "    <tr>\n",
       "      <th>0</th>\n",
       "      <td>0</td>\n",
       "      <td>74974</td>\n",
       "    </tr>\n",
       "    <tr>\n",
       "      <th>1</th>\n",
       "      <td>1</td>\n",
       "      <td>74957</td>\n",
       "    </tr>\n",
       "  </tbody>\n",
       "</table>\n",
       "</div>"
      ],
      "text/plain": [
       "   label  count\n",
       "0      0  74974\n",
       "1      1  74957"
      ]
     },
     "execution_count": 11,
     "metadata": {},
     "output_type": "execute_result"
    }
   ],
   "source": [
    "train_data.groupby('label').size().reset_index(name='count')"
   ]
  },
  {
   "cell_type": "markdown",
   "metadata": {},
   "source": [
    "데이터 정제"
   ]
  },
  {
   "cell_type": "code",
   "execution_count": 12,
   "metadata": {},
   "outputs": [
    {
     "name": "stdout",
     "output_type": "stream",
     "text": [
      "149931\n",
      "49977\n"
     ]
    }
   ],
   "source": [
    "# 정규화\n",
    "train_data['reviews'] = train_data['reviews'].str.replace(\"[^ㄱ-ㅎ ㅏ-ㅣ 가-힣 ]\", \"\")\n",
    "train_data['reviews'].replace(\"\", np.nan, inplace=True)\n",
    "print(len(train_data))\n",
    "\n",
    "test_data['reviews'] = test_data['reviews'].str.replace(\"[^ㄱ-ㅎ ㅏ-ㅣ 가-힣 ]\", \"\")\n",
    "test_data['reviews'].replace(\"\", np.nan, inplace=True)\n",
    "print(len(test_data))"
   ]
  },
  {
   "cell_type": "markdown",
   "metadata": {},
   "source": [
    "토큰화 및 불용어 제거\n",
    "   - 불용어 사전 : '도','는','다','의','가','이','은','한','에','하','고','을','를','인','듯','과','와','네','들','듯','지','임','게'"
   ]
  },
  {
   "cell_type": "code",
   "execution_count": 13,
   "metadata": {},
   "outputs": [],
   "source": [
    "stopwords = [ '도','는','다','의','가','이','은','한','에','하','고','을','를','인','듯','과','와','네','들','듯','지','임','게']"
   ]
  },
  {
   "cell_type": "code",
   "execution_count": 14,
   "metadata": {},
   "outputs": [],
   "source": [
    "# 불용어 제거 및 형태소분섯\n",
    "mecab = Mecab(\"C:/mecab/mecab-ko-dic\")\n",
    "\n",
    "train_data['reviews'] = train_data['reviews'].apply(mecab.morphs)\n",
    "train_data['reviews'] = train_data['reviews'].apply(lambda x: [item for item in x if item not in stopwords])\n",
    "\n",
    "test_data['reviews'] = test_data['reviews'].apply(mecab.morphs)\n",
    "test_data['reviews'] = test_data['reviews'].apply(lambda x: [item for item in x if item not in stopwords])"
   ]
  },
  {
   "cell_type": "code",
   "execution_count": 15,
   "metadata": {},
   "outputs": [
    {
     "name": "stdout",
     "output_type": "stream",
     "text": [
      "(149931,) (149931,) (49977,) (49977,)\n"
     ]
    }
   ],
   "source": [
    "# x와 y 나누기\n",
    "x_train = train_data['reviews'].values\n",
    "y_train = train_data['label'].values\n",
    "x_test = test_data['reviews'].values\n",
    "y_test = test_data['label'].values\n",
    "\n",
    "print(x_train.shape, y_train.shape, x_test.shape, y_test.shape)"
   ]
  },
  {
   "cell_type": "markdown",
   "metadata": {},
   "source": [
    "빈도 수가 낮은 단어 제거"
   ]
  },
  {
   "cell_type": "code",
   "execution_count": 16,
   "metadata": {},
   "outputs": [],
   "source": [
    "# x_train 토큰화\n",
    "tokenizer = Tokenizer()\n",
    "tokenizer.fit_on_texts(x_train)"
   ]
  },
  {
   "cell_type": "code",
   "execution_count": 17,
   "metadata": {},
   "outputs": [
    {
     "name": "stdout",
     "output_type": "stream",
     "text": [
      "전체 단어 수 :  40060\n",
      "빈도가 2 이하인 희귀 단어 수 : 23111\n",
      "희귀 단어 비율 : 57.690963554667995\n"
     ]
    }
   ],
   "source": [
    "threshold = 3\n",
    "word_cnt = len(tokenizer.word_index)\n",
    "rare_cnt = 0\n",
    "words_freq = 0 \n",
    "rare_freq = 0\n",
    "\n",
    "for key, value in tokenizer.word_counts.items():\n",
    "    word_freq = words_freq + value\n",
    "    \n",
    "    if value < threshold:\n",
    "        rare_cnt += 1\n",
    "        rare_freq = rare_freq + value\n",
    "print(\"전체 단어 수 : \", word_cnt)\n",
    "print(\"빈도가 {} 이하인 희귀 단어 수 : {}\".format(threshold-1, rare_cnt))\n",
    "print(\"희귀 단어 비율 : {}\".format((rare_cnt / word_cnt)*100))\n",
    "# print(\"희귀 단어 등장 빈도 비율 : {}\".format((rare_freq / words_freq)*100))"
   ]
  },
  {
   "cell_type": "code",
   "execution_count": 18,
   "metadata": {},
   "outputs": [
    {
     "name": "stdout",
     "output_type": "stream",
     "text": [
      "16951\n"
     ]
    }
   ],
   "source": [
    "vocab_size = word_cnt - rare_cnt + 2\n",
    "print(vocab_size)"
   ]
  },
  {
   "cell_type": "code",
   "execution_count": 19,
   "metadata": {},
   "outputs": [],
   "source": [
    "# 토큰화된 단어들을 숫자로 변형\n",
    "tokenizer = Tokenizer(vocab_size, oov_token=\"OOV\")\n",
    "tokenizer.fit_on_texts(x_train)\n",
    "x_train = tokenizer.texts_to_sequences(x_train)\n",
    "x_test = tokenizer.texts_to_sequences(x_test)"
   ]
  },
  {
   "cell_type": "markdown",
   "metadata": {},
   "source": [
    "패딩\n",
    "   - 단어의 길이를 맞춰줌"
   ]
  },
  {
   "cell_type": "code",
   "execution_count": 20,
   "metadata": {},
   "outputs": [
    {
     "name": "stdout",
     "output_type": "stream",
     "text": [
      "리뷰 최대 길이 :  85\n",
      "리뷰 평균 길이 :  15.329031354423035\n"
     ]
    }
   ],
   "source": [
    "print(\"리뷰 최대 길이 : \", max(len(l) for l in x_train))\n",
    "print(\"리뷰 평균 길이 : \", sum(map(len, x_train))/len(x_train))"
   ]
  },
  {
   "cell_type": "code",
   "execution_count": 21,
   "metadata": {},
   "outputs": [
    {
     "data": {
      "image/png": "[encoded data removed]",
      "text/plain": [
       "<Figure size 432x288 with 1 Axes>"
      ]
     },
     "metadata": {},
     "output_type": "display_data"
    }
   ],
   "source": [
    "# 시각화\n",
    "plt.hist([len(s) for s in x_train], bins=50)\n",
    "plt.xlabel(\"Length of Sample\")\n",
    "plt.ylabel(\"Number of Sample\")\n",
    "plt.show()"
   ]
  },
  {
   "cell_type": "code",
   "execution_count": 22,
   "metadata": {},
   "outputs": [],
   "source": [
    "max_len = 60\n",
    "\n",
    "x_train = pad_sequences(x_train, maxlen=max_len)\n",
    "x_test = pad_sequences(x_test, maxlen=max_len)"
   ]
  },
  {
   "cell_type": "markdown",
   "metadata": {},
   "source": [
    "모델 생성 및 훈련"
   ]
  },
  {
   "cell_type": "code",
   "execution_count": 23,
   "metadata": {},
   "outputs": [],
   "source": [
    "model = Sequential()\n",
    "\n",
    "model.add(Embedding(vocab_size, 100))\n",
    "model.add(GRU(128))\n",
    "model.add(Dense(64, activation='relu'))\n",
    "model.add(Dropout(0.2))\n",
    "model.add(Dense(1, activation='sigmoid'))"
   ]
  },
  {
   "cell_type": "code",
   "execution_count": 24,
   "metadata": {},
   "outputs": [
    {
     "name": "stdout",
     "output_type": "stream",
     "text": [
      "Epoch 1/15\n",
      "1875/1875 [==============================] - 21s 10ms/step - loss: 0.2719 - acc: 0.8970 - val_loss: 0.2294 - val_acc: 0.9157\n",
      "Epoch 2/15\n",
      "1875/1875 [==============================] - 18s 9ms/step - loss: 0.2131 - acc: 0.9238 - val_loss: 0.2207 - val_acc: 0.9207\n",
      "Epoch 3/15\n",
      "1875/1875 [==============================] - 18s 9ms/step - loss: 0.1978 - acc: 0.9299 - val_loss: 0.2114 - val_acc: 0.9243\n",
      "Epoch 4/15\n",
      "1875/1875 [==============================] - 18s 9ms/step - loss: 0.1883 - acc: 0.9336 - val_loss: 0.2130 - val_acc: 0.9240\n",
      "Epoch 5/15\n",
      "1875/1875 [==============================] - 18s 9ms/step - loss: 0.1800 - acc: 0.9370 - val_loss: 0.2173 - val_acc: 0.9217\n",
      "Epoch 6/15\n",
      "1875/1875 [==============================] - 18s 9ms/step - loss: 0.1718 - acc: 0.9401 - val_loss: 0.2216 - val_acc: 0.9227\n",
      "Epoch 7/15\n",
      "1875/1875 [==============================] - 18s 10ms/step - loss: 0.1638 - acc: 0.9434 - val_loss: 0.2162 - val_acc: 0.9216\n",
      "Epoch 8/15\n",
      "1875/1875 [==============================] - 18s 10ms/step - loss: 0.1546 - acc: 0.9467 - val_loss: 0.2252 - val_acc: 0.9225\n",
      "Epoch 00008: early stopping\n"
     ]
    }
   ],
   "source": [
    "model.compile(optimizer='rmsprop', loss='binary_crossentropy', metrics=['acc'])\n",
    "\n",
    "es = EarlyStopping(monitor='val_loss', mode='min', verbose=1, patience=5)\n",
    "hist = model.fit(x_train, y_train, epochs=15, callbacks=[es], batch_size=64, validation_split=0.2)"
   ]
  },
  {
   "cell_type": "code",
   "execution_count": 25,
   "metadata": {},
   "outputs": [
    {
     "name": "stdout",
     "output_type": "stream",
     "text": [
      "1562/1562 [==============================] - 6s 4ms/step - loss: 0.2246 - acc: 0.9250\n"
     ]
    },
    {
     "data": {
      "text/plain": [
       "[0.2246340960264206, 0.924965500831604]"
      ]
     },
     "execution_count": 25,
     "metadata": {},
     "output_type": "execute_result"
    }
   ],
   "source": [
    "model.evaluate(x_test, y_test)"
   ]
  },
  {
   "cell_type": "markdown",
   "metadata": {},
   "source": [
    "시각화"
   ]
  },
  {
   "cell_type": "code",
   "execution_count": 26,
   "metadata": {},
   "outputs": [
    {
     "data": {
      "image/png": "[encoded data removed]",
      "text/plain": [
       "<Figure size 432x288 with 1 Axes>"
      ]
     },
     "metadata": {},
     "output_type": "display_data"
    },
    {
     "data": {
      "image/png": "[encoded data removed]",
      "text/plain": [
       "<Figure size 432x288 with 1 Axes>"
      ]
     },
     "metadata": {},
     "output_type": "display_data"
    }
   ],
   "source": [
    "hist_dict = hist.history\n",
    "loss = hist_dict['loss']\n",
    "val_loss = hist_dict['val_loss']\n",
    "acc = hist_dict['acc']\n",
    "val_acc = hist_dict['val_acc']\n",
    "\n",
    "plt.plot(loss, 'b--', label=\"training loss\")\n",
    "plt.plot(val_loss, 'r:', label=\"validation loss\")\n",
    "plt.legend()\n",
    "plt.grid()\n",
    "\n",
    "plt.figure()\n",
    "plt.plot(acc, 'b--', label=\"training acc\")\n",
    "plt.plot(val_acc, 'r:', label=\"validation loss\")\n",
    "plt.legend()\n",
    "plt.grid()"
   ]
  },
  {
   "cell_type": "markdown",
   "metadata": {},
   "source": [
    "감정 예측"
   ]
  },
  {
   "cell_type": "code",
   "execution_count": 27,
   "metadata": {},
   "outputs": [],
   "source": [
    "def sentiment_predict(new_sentence):\n",
    "    new_token = [word for word in mecab.morphs(new_sentence) if not word in stopwords]\n",
    "    new_sequences = tokenizer.texts_to_sequences([new_token])\n",
    "    new_pad = pad_sequences(new_sequences, maxlen=max_len)\n",
    "    score = float(model.predict(new_pad))\n",
    "    \n",
    "    if score > 0.5:\n",
    "        print(\"{} -> 긍정({:.2f})%\".format(new_sentence, score*100))\n",
    "    else:\n",
    "        print(\"{} -> 부정({:.2f})%\".format(new_sentence, (1-score)*100))"
   ]
  },
  {
   "cell_type": "code",
   "execution_count": 28,
   "metadata": {},
   "outputs": [
    {
     "name": "stdout",
     "output_type": "stream",
     "text": [
      "처음 써봤는데 대박 좋아요. -> 긍정(97.71)%\n",
      "원래 배송이 이렇게 늦나요? -> 부정(96.01)%\n",
      "추가 구매 의향이 있습니다. 대박! -> 긍정(89.56)%\n",
      "이거 정말 리뷰쓰는것조차 아깝네... -> 부정(91.13)%\n"
     ]
    }
   ],
   "source": [
    "sentiment_predict('처음 써봤는데 대박 좋아요.')\n",
    "sentiment_predict('원래 배송이 이렇게 늦나요?')\n",
    "sentiment_predict('추가 구매 의향이 있습니다. 대박!')\n",
    "sentiment_predict('이거 정말 리뷰쓰는것조차 아깝네...')"
   ]
  }
 ],
 "metadata": {
  "interpreter": {
   "hash": "3caf13703c5b1c02abff9fa597e671e1239d1d668b6a345ae62ddadff9d8fc63"
  },
  "kernelspec": {
   "display_name": "Python 3.7.11 ('py37')",
   "language": "python",
   "name": "python3"
  },
  "language_info": {
   "codemirror_mode": {
    "name": "ipython",
    "version": 3
   },
   "file_extension": ".py",
   "mimetype": "text/x-python",
   "name": "python",
   "nbconvert_exporter": "python",
   "pygments_lexer": "ipython3",
   "version": "3.7.11"
  },
  "orig_nbformat": 4
 },
 "nbformat": 4,
 "nbformat_minor": 2
}
