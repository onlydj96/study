{
 "cells": [
  {
   "cell_type": "markdown",
   "metadata": {},
   "source": [
    "영어 처리\n",
    "   - 영어와 한국어는 언어의 문화와 구성이 다르기때문에 처리하는 방법이 매우 다르다"
   ]
  },
  {
   "cell_type": "markdown",
   "metadata": {},
   "source": [
    "대소문자 통합\n",
    "   - 대소문자를 통합하지 않는다면 컴퓨터는 같은 단어를 다르게 받아들임\n",
    "   - 파이썬의 내장함수 lower(), upper()를 통해 간단하게 통합가능"
   ]
  },
  {
   "cell_type": "code",
   "execution_count": 1,
   "metadata": {},
   "outputs": [
    {
     "name": "stdout",
     "output_type": "stream",
     "text": [
      "abcdefgh ABCDEFGH\n"
     ]
    }
   ],
   "source": [
    "s = 'AbCdEfGh'\n",
    "str_lower = s.lower()  # 소문자형태로 변환\n",
    "str_upper = s.upper() # 대문자형태로 변환\n",
    "print(str_lower, str_upper)"
   ]
  },
  {
   "cell_type": "markdown",
   "metadata": {},
   "source": [
    "정규화(Normalization)\n",
    "   - replace"
   ]
  },
  {
   "cell_type": "code",
   "execution_count": 2,
   "metadata": {},
   "outputs": [
    {
     "name": "stdout",
     "output_type": "stream",
     "text": [
      "I visited UK from US on 22-09-20\n"
     ]
    }
   ],
   "source": [
    "s = \"I visited UK from US on 22-09-20\"\n",
    "print(s)"
   ]
  },
  {
   "cell_type": "code",
   "execution_count": 3,
   "metadata": {},
   "outputs": [
    {
     "name": "stdout",
     "output_type": "stream",
     "text": [
      "I visited United Kingdom from United States on 22-09-2020\n"
     ]
    }
   ],
   "source": [
    "new_s = s.replace(\"UK\", \"United Kingdom\").replace('US', 'United States').replace(\"-20\", \"-2020\")  # replace 함수를 통해 (a, b) a를 b로 바꿈\n",
    "print(new_s) "
   ]
  },
  {
   "cell_type": "markdown",
   "metadata": {},
   "source": [
    "정규 표현식 문법"
   ]
  },
  {
   "cell_type": "markdown",
   "metadata": {},
   "source": [
    "       - . : 앞의 문자 1개를 표현\n",
    "       - ? : 문자 한개를 표현하나 존재할 수도, 존재하지 않을 수도 있음(0개 또는 1개)\n",
    "       - * : 앞의 문자가 0개 이상\n",
    "       - + : 앞의 문자가 최소 1개 이상\n",
    "       - ^ : 뒤의 문자로 문자열이 시작\n",
    "       - \\$ : 앞의 문자로 문자열이 끝남\n",
    "       - \\{n\\} : n번 만큼 반복\n",
    "       - \\{n1, n2\\} : n1이상, n2이하만큼 반복, n2를 지정하지 않으면 n1이상만 반복\n",
    "       - \\[ abc \\] : 안에 문자들 중 한 개의 문자와 매치, a-z처럼 범위도 지정 가능 \n",
    "       - \\[ ^a \\] : 해당 문자를 제외하고 매치\n",
    "       - a:b : a 또는 b를 나타냄\n"
   ]
  },
  {
   "cell_type": "markdown",
   "metadata": {},
   "source": [
    "   - 정규 표현식에서 자주 사용하는 역슬래시(\\)를 이용한 문자규칙"
   ]
  },
  {
   "cell_type": "markdown",
   "metadata": {},
   "source": [
    "      - \\\\ : 역슬래시 자체를 의미\n",
    "      - \\d : 모든 숫자를 의미, [0-9]와 동일 \n",
    "      - \\D : 숫자를 제외한 모든 문자를 의미, [^0-9]와 동일\n",
    "      - \\s : 공백을 의미, [\\t\\n\\r\\f\\v]와 동일\n",
    "      - \\S : 공백을 제외한 모든 문자를 의미, [^\\t\\n\\r\\f\\v]와 동일\n",
    "      - \\w : 문자와 숫자를 의미, [a-z, A-Z, 0-9]와 동일\n",
    "      - \\W : 문자와 숫자를 제외한 다른 문자를 의미, [^a-zA-Z0-9]와 동일"
   ]
  },
  {
   "cell_type": "code",
   "execution_count": null,
   "metadata": {},
   "outputs": [],
   "source": []
  }
 ],
 "metadata": {
  "interpreter": {
   "hash": "3b2a3e2f2f3becee12495ea02e16c44ac6a87253b3da619be1b2ce1aceff9a27"
  },
  "kernelspec": {
   "display_name": "Python 3.9.7 64-bit ('tf270gpu': conda)",
   "language": "python",
   "name": "python3"
  },
  "language_info": {
   "codemirror_mode": {
    "name": "ipython",
    "version": 3
   },
   "file_extension": ".py",
   "mimetype": "text/x-python",
   "name": "python",
   "nbconvert_exporter": "python",
   "pygments_lexer": "ipython3",
   "version": "3.9.7"
  },
  "orig_nbformat": 4
 },
 "nbformat": 4,
 "nbformat_minor": 2
}
