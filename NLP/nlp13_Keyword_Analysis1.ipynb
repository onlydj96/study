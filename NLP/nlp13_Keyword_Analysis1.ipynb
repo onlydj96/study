{
 "cells": [
  {
   "cell_type": "markdown",
   "metadata": {},
   "source": [
    "키워드 분석(Keyword Analysis)"
   ]
  },
  {
   "cell_type": "markdown",
   "metadata": {},
   "source": [
    "   - 핵심어(keyword)란 텍스트 자료의 중요한 내용을 압축적으로 제시하는 단어 또는 문구\n",
    "   - 핵심어 분석이란 불용어 제거와 어간추출 및 형태소 분석 등의 자연어 처리를 시행한 후 텍스트에서 많이 등장하는 형태소의 등장 빈도를 분석함으로써 핵심어를 추출\n",
    "   - 특정 텍스트 자료에 많이 나타나는 형태소가 그 텍스트 주제를 표출할 가능성이 높다는 가정에 기초\n",
    "   - 물론 빈도 분석에 영어의 전치사나 한국어의 조사와 같이 의미를 별로 담고 있지 않은 불용어는 제외하는 것이 좋음\n",
    "   - 키워드 분석은 텍스트의 주제 추정, 텍스트 유사도, 검색 엔진의 우선 순위 측정 등 다양하게 사용될 수 있음"
   ]
  },
  {
   "cell_type": "markdown",
   "metadata": {},
   "source": [
    "한글 폰트 설정 방법\n",
    "   - https://koosco.tistory.com/38\n",
    "   - https://programmers.co.kr/learn/courses/21/lessons/950"
   ]
  },
  {
   "cell_type": "code",
   "execution_count": 1,
   "metadata": {},
   "outputs": [],
   "source": [
    "# 코랩(Colab)에서 한글 폰트 설정\n",
    "\n",
    "# import matplotlib as mpl\n",
    "# import matplotlib.pyplot as plt\n",
    "\n",
    "# plt.style.use('seaborn-white')\n",
    "\n",
    "# %config InlineBackend.figure_format='retina'\n",
    "\n",
    "# !apt -qq -y install fonts-nanum\n",
    "\n",
    "# import matplotlib.font_manager as fm\n",
    "# fontpath = '/usr/share/fonts/truetype/nanum/NanumBarunGothic.ttf'\n",
    "# font = fm.FontProperties(fname=fontpath, size=10)\n",
    "# plt.rc('font', family='NanumBarunGothic')\n",
    "# mpl.font_manager._rebuild()"
   ]
  },
  {
   "cell_type": "code",
   "execution_count": 1,
   "metadata": {},
   "outputs": [],
   "source": [
    "import matplotlib as mpl\n",
    "import matplotlib.pyplot as plt\n",
    "import matplotlib.font_manager as fm\n",
    "\n",
    "font_path = 'D:/나눔 글꼴/나눔고딕/NanumGothic.ttf'\n",
    "font = fm.FontProperties(fname=font_path, size=10)\n",
    "plt.rc('font', family='NanumGothic')"
   ]
  },
  {
   "cell_type": "markdown",
   "metadata": {},
   "source": [
    "네이버 영화 리뷰\n",
    "   - 키워드 분석에는 네이버 영화 리뷰 데이터를 사용\n",
    "   - 데이터 다운로드 : https://raw.githubusercontent.com/e9t/nsmc/master/ratings.txt"
   ]
  },
  {
   "cell_type": "code",
   "execution_count": 2,
   "metadata": {},
   "outputs": [
    {
     "name": "stdout",
     "output_type": "stream",
     "text": [
      "[b'id\\tdocument\\tlabel\\n', b'8112052\\t\\xec\\x96\\xb4\\xeb\\xa6\\xb4\\xeb\\x95\\x8c\\xeb\\xb3\\xb4\\xea\\xb3\\xa0 \\xec\\xa7\\x80\\xea\\xb8\\x88\\xeb\\x8b\\xa4\\xec\\x8b\\x9c\\xeb\\xb4\\x90\\xeb\\x8f\\x84 \\xec\\x9e\\xac\\xeb\\xb0\\x8c\\xec\\x96\\xb4\\xec\\x9a\\x94\\xe3\\x85\\x8b\\xe3\\x85\\x8b\\t1\\n', b'8132799\\t\\xeb\\x94\\x94\\xec\\x9e\\x90\\xec\\x9d\\xb8\\xec\\x9d\\x84 \\xeb\\xb0\\xb0\\xec\\x9a\\xb0\\xeb\\x8a\\x94 \\xed\\x95\\x99\\xec\\x83\\x9d\\xec\\x9c\\xbc\\xeb\\xa1\\x9c, \\xec\\x99\\xb8\\xea\\xb5\\xad\\xeb\\x94\\x94\\xec\\x9e\\x90\\xec\\x9d\\xb4\\xeb\\x84\\x88\\xec\\x99\\x80 \\xea\\xb7\\xb8\\xeb\\x93\\xa4\\xec\\x9d\\xb4 \\xec\\x9d\\xbc\\xea\\xb5\\xb0 \\xec\\xa0\\x84\\xed\\x86\\xb5\\xec\\x9d\\x84 \\xed\\x86\\xb5\\xed\\x95\\xb4 \\xeb\\xb0\\x9c\\xec\\xa0\\x84\\xed\\x95\\xb4\\xea\\xb0\\x80\\xeb\\x8a\\x94 \\xeb\\xac\\xb8\\xed\\x99\\x94\\xec\\x82\\xb0\\xec\\x97\\x85\\xec\\x9d\\xb4 \\xeb\\xb6\\x80\\xeb\\x9f\\xac\\xec\\x9b\\xa0\\xeb\\x8a\\x94\\xeb\\x8d\\xb0. \\xec\\x82\\xac\\xec\\x8b\\xa4 \\xec\\x9a\\xb0\\xeb\\xa6\\xac\\xeb\\x82\\x98\\xeb\\x9d\\xbc\\xec\\x97\\x90\\xec\\x84\\x9c\\xeb\\x8f\\x84 \\xea\\xb7\\xb8 \\xec\\x96\\xb4\\xeb\\xa0\\xa4\\xec\\x9a\\xb4\\xec\\x8b\\x9c\\xec\\xa0\\x88\\xec\\x97\\x90 \\xeb\\x81\\x9d\\xea\\xb9\\x8c\\xec\\xa7\\x80 \\xec\\x97\\xb4\\xec\\xa0\\x95\\xec\\x9d\\x84 \\xec\\xa7\\x80\\xed\\x82\\xa8 \\xeb\\x85\\xb8\\xeb\\x9d\\xbc\\xeb\\x85\\xb8 \\xea\\xb0\\x99\\xec\\x9d\\x80 \\xec\\xa0\\x84\\xed\\x86\\xb5\\xec\\x9d\\xb4\\xec\\x9e\\x88\\xec\\x96\\xb4 \\xec\\xa0\\x80\\xec\\x99\\x80 \\xea\\xb0\\x99\\xec\\x9d\\x80 \\xec\\x82\\xac\\xeb\\x9e\\x8c\\xeb\\x93\\xa4\\xec\\x9d\\xb4 \\xea\\xbf\\x88\\xec\\x9d\\x84 \\xea\\xbe\\xb8\\xea\\xb3\\xa0 \\xec\\x9d\\xb4\\xeb\\xa4\\x84\\xeb\\x82\\x98\\xea\\xb0\\x88 \\xec\\x88\\x98 \\xec\\x9e\\x88\\xeb\\x8b\\xa4\\xeb\\x8a\\x94 \\xea\\xb2\\x83\\xec\\x97\\x90 \\xea\\xb0\\x90\\xec\\x82\\xac\\xed\\x95\\xa9\\xeb\\x8b\\x88\\xeb\\x8b\\xa4.\\t1\\n', b'4655635\\t\\xed\\x8f\\xb4\\xeb\\xa6\\xac\\xec\\x8a\\xa4\\xec\\x8a\\xa4\\xed\\x86\\xa0\\xeb\\xa6\\xac \\xec\\x8b\\x9c\\xeb\\xa6\\xac\\xec\\xa6\\x88\\xeb\\x8a\\x94 1\\xeb\\xb6\\x80\\xed\\x84\\xb0 \\xeb\\x89\\xb4\\xea\\xb9\\x8c\\xec\\xa7\\x80 \\xeb\\xb2\\x84\\xeb\\xa6\\xb4\\xea\\xbb\\x98 \\xed\\x95\\x98\\xeb\\x82\\x98\\xeb\\x8f\\x84 \\xec\\x97\\x86\\xec\\x9d\\x8c.. \\xec\\xb5\\x9c\\xea\\xb3\\xa0.\\t1\\n', b'9251303\\t\\xec\\x99\\x80.. \\xec\\x97\\xb0\\xea\\xb8\\xb0\\xea\\xb0\\x80 \\xec\\xa7\\x84\\xec\\xa7\\x9c \\xea\\xb0\\x9c\\xec\\xa9\\x94\\xea\\xb5\\xac\\xeb\\x82\\x98.. \\xec\\xa7\\x80\\xeb\\xa3\\xa8\\xed\\x95\\xa0\\xea\\xb1\\xb0\\xeb\\x9d\\xbc\\xea\\xb3\\xa0 \\xec\\x83\\x9d\\xea\\xb0\\x81\\xed\\x96\\x88\\xeb\\x8a\\x94\\xeb\\x8d\\xb0 \\xeb\\xaa\\xb0\\xec\\x9e\\x85\\xed\\x95\\xb4\\xec\\x84\\x9c \\xeb\\xb4\\xa4\\xeb\\x8b\\xa4.. \\xea\\xb7\\xb8\\xeb\\x9e\\x98 \\xec\\x9d\\xb4\\xeb\\x9f\\xb0\\xea\\xb2\\x8c \\xec\\xa7\\x84\\xec\\xa7\\x9c \\xec\\x98\\x81\\xed\\x99\\x94\\xec\\xa7\\x80\\t1\\n']\n",
      "<class 'list'>\n"
     ]
    }
   ],
   "source": [
    "import urllib.request\n",
    "\n",
    "raw = urllib.request.urlopen('https://raw.githubusercontent.com/e9t/nsmc/master/ratings.txt').readlines()\n",
    "\n",
    "print(raw[:5])\n",
    "print(type(raw))"
   ]
  },
  {
   "cell_type": "markdown",
   "metadata": {},
   "source": [
    "   - 데이터를 확인해보면 모두 바이트로 이루어져 있으며, 리뷰 외에 다른 데이터도 존재\n",
    "   - 데이터를 문자열로 변환하고 리뷰만 추출"
   ]
  },
  {
   "cell_type": "code",
   "execution_count": 3,
   "metadata": {},
   "outputs": [
    {
     "name": "stdout",
     "output_type": "stream",
     "text": [
      "['어릴때보고 지금다시봐도 재밌어요ㅋㅋ', '디자인을 배우는 학생으로, 외국디자이너와 그들이 일군 전통을 통해 발전해가는 문화산업이 부러웠는데. 사실 우리나라에서도 그 어려운시절에 끝까지 열정을 지킨 노라노 같은 전통이있어 저와 같은 사람들이 꿈을 꾸고 이뤄나갈 수 있다는 것에 감사합니다.', '폴리스스토리 시리즈는 1부터 뉴까지 버릴께 하나도 없음.. 최고.', '와.. 연기가 진짜 개쩔구나.. 지루할거라고 생각했는데 몰입해서 봤다.. 그래 이런게 진짜 영화지', '안개 자욱한 밤하늘에 떠 있는 초승달 같은 영화.']\n"
     ]
    }
   ],
   "source": [
    "raw = [x.decode() for x in raw[1:]]\n",
    "\n",
    "reviews = []\n",
    "for i in raw:\n",
    "    reviews.append(i.split('\\t')[1])\n",
    "    \n",
    "print(reviews[:5])"
   ]
  },
  {
   "cell_type": "markdown",
   "metadata": {},
   "source": [
    "1. 형태소 분석을 이용한 명사 추출\n",
    "   - 형태소 분석기 Mecab으로 명사만 추출"
   ]
  },
  {
   "cell_type": "code",
   "execution_count": 4,
   "metadata": {},
   "outputs": [
    {
     "data": {
      "text/plain": [
       "['때', '디자인', '학생', '외국', '디자이너', '그', '전통', '발전', '문화', '산업']"
      ]
     },
     "execution_count": 4,
     "metadata": {},
     "output_type": "execute_result"
    }
   ],
   "source": [
    "from konlpy.tag import Mecab\n",
    "tagger = Mecab('C:/Mecab/mecab-ko-dic')\n",
    "\n",
    "nouns = []\n",
    "for review in reviews:\n",
    "    for noun in tagger.nouns(review):\n",
    "        nouns.append(noun)\n",
    "    \n",
    "nouns[:10]"
   ]
  },
  {
   "cell_type": "markdown",
   "metadata": {},
   "source": [
    "2. 불용어(Stop words) 사전 만들기\n",
    "   - 형태소 분석을 통해 조사, 접속사 등의 제거 가능\n",
    "   - 하지만 한국어는 명사에서도 상당히 많은 불필요한 단어들이 포함\n",
    "   - 사용자가 직접 불용어 사전을 유지하면서 불필요한 단어 제거 필요\n",
    "   - 불용어 예 : 전 난 일 걸 뭐 줄 만 건 분 개 끝 잼 이거 번 중 듯 때 게 내 말 나 수 거 점 것\n",
    "   - 빈도가 너무 커서 분석에 방해되는 단어도 제거 필요(예 : 영화)"
   ]
  },
  {
   "cell_type": "code",
   "execution_count": 5,
   "metadata": {},
   "outputs": [
    {
     "name": "stdout",
     "output_type": "stream",
     "text": [
      "['영화', '전', '난', '일', '걸', '뭐', '줄', '만', '건', '분', '개', '끝', '잼', '이거', '번', '중', '듯', '때', '게', '내', '말', '나', '수', '거', '점', '것']\n"
     ]
    }
   ],
   "source": [
    "stop_words = '영화 전 난 일 걸 뭐 줄 만 건 분 개 끝 잼 이거 번 중 듯 때 게 내 말 나 수 거 점 것'\n",
    "stop_words = stop_words.split(' ')\n",
    "\n",
    "print(stop_words)"
   ]
  },
  {
   "cell_type": "markdown",
   "metadata": {},
   "source": [
    "3. 불용어를 제외하여 형태소 분석 수행\n",
    "   - 한글 텍스트에 대해서 형태소 분석 수행\n",
    "   - 분석으로 추출하는 명사 중에서 불용어에 포함되지 않은 텍스트만 추출하여 저장"
   ]
  },
  {
   "cell_type": "code",
   "execution_count": 6,
   "metadata": {},
   "outputs": [
    {
     "data": {
      "text/plain": [
       "['디자인', '학생', '외국', '디자이너', '그', '전통', '발전', '문화', '산업', '우리']"
      ]
     },
     "execution_count": 6,
     "metadata": {},
     "output_type": "execute_result"
    }
   ],
   "source": [
    "nouns = []\n",
    "for review in reviews:\n",
    "    for noun in tagger.nouns(review):\n",
    "        if noun not in stop_words:\n",
    "            nouns.append(noun)\n",
    "\n",
    "nouns[:10]"
   ]
  },
  {
   "cell_type": "markdown",
   "metadata": {},
   "source": [
    "4. 단어 빈도수 측정\n",
    "   - 단어 빈도수 측정에는 collections 라이브러리의  Counter 함수를 이용\n",
    "   - collections 라이브러리는 내장 라이브러리로 별도 설치가 필요없음\n",
    "   - counter를 이용하면 각 단어와 각 단어의 빈도 수를 딕셔너리로 편리하게 생성 가능"
   ]
  },
  {
   "cell_type": "code",
   "execution_count": 7,
   "metadata": {},
   "outputs": [
    {
     "data": {
      "text/plain": [
       "{'연기': 9175,\n",
       " '최고': 8813,\n",
       " '평점': 8514,\n",
       " '스토리': 7163,\n",
       " '생각': 6943,\n",
       " '드라마': 6896,\n",
       " '사람': 6742,\n",
       " '감동': 6489,\n",
       " '배우': 5893,\n",
       " '내용': 5731,\n",
       " '감독': 5629,\n",
       " '재미': 5479,\n",
       " '시간': 5320,\n",
       " '년': 4936,\n",
       " '사랑': 4741,\n",
       " '쓰레기': 4585,\n",
       " '작품': 3985,\n",
       " '하나': 3923,\n",
       " '정도': 3656,\n",
       " '이건': 3650,\n",
       " '마지막': 3647,\n",
       " '액션': 3568,\n",
       " '기대': 3465,\n",
       " '장면': 3262,\n",
       " '이게': 3046,\n",
       " '편': 3044,\n",
       " '최악': 3019,\n",
       " '돈': 2980,\n",
       " '이야기': 2947,\n",
       " '이해': 2745,\n",
       " '애': 2730,\n",
       " '명작': 2685,\n",
       " '여자': 2678,\n",
       " '이상': 2676,\n",
       " '처음': 2673,\n",
       " '한국': 2640,\n",
       " '주인공': 2553,\n",
       " '우리': 2531,\n",
       " '연출': 2376,\n",
       " '때문': 2371,\n",
       " '기억': 2364,\n",
       " '현실': 2193,\n",
       " '마음': 2128,\n",
       " '굿': 2110,\n",
       " '남자': 2078,\n",
       " '결말': 2066,\n",
       " '인생': 2060,\n",
       " '공포': 2048,\n",
       " '전개': 2035,\n",
       " '짜증': 2011}"
      ]
     },
     "execution_count": 7,
     "metadata": {},
     "output_type": "execute_result"
    }
   ],
   "source": [
    "from collections import Counter\n",
    "\n",
    "nouns_counter = Counter(nouns)\n",
    "top_nouns = dict(nouns_counter.most_common(50)) # most_common : 제일 빈도수가 높은 것을 가져오는 함수, ()안에는 Int형\n",
    "top_nouns"
   ]
  }
 ],
 "metadata": {
  "interpreter": {
   "hash": "b3d248056fa68818de2d262d28f08c17eec72d9a948bd5f949ae4b63a5944d4e"
  },
  "kernelspec": {
   "display_name": "Python 3.7.11 64-bit ('py37': conda)",
   "language": "python",
   "name": "python3"
  },
  "language_info": {
   "codemirror_mode": {
    "name": "ipython",
    "version": 3
   },
   "file_extension": ".py",
   "mimetype": "text/x-python",
   "name": "python",
   "nbconvert_exporter": "python",
   "pygments_lexer": "ipython3",
   "version": "3.7.11"
  },
  "orig_nbformat": 4
 },
 "nbformat": 4,
 "nbformat_minor": 2
}
