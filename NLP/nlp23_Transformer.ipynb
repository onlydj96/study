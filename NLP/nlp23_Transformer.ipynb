{
 "cells": [
  {
   "cell_type": "markdown",
   "metadata": {},
   "source": [
    "트랜스포머(Transformer)\n",
    "======================"
   ]
  },
  {
   "cell_type": "markdown",
   "metadata": {},
   "source": [
    "   - attention mechanism은 seq2seq의 입력 시퀀스 정보 손실을 보정해주기 위해 사용됨\n",
    "   - attention mechanism을 보정 목적이 아닌, 인코더와 디코더로 구성한 모델이 트랜스포머이다\n",
    "   - 트랜스 포머는 RNN을 사용하지 않고 인코더와 디코더를 설계하였으며, 성능도 RNN보다 우수함"
   ]
  },
  {
   "cell_type": "code",
   "execution_count": 1,
   "metadata": {},
   "outputs": [],
   "source": [
    "import numpy as np\n",
    "import pandas as pd\n",
    "import tensorflow as tf"
   ]
  },
  {
   "cell_type": "markdown",
   "metadata": {},
   "source": [
    "포지셔널 인코딩\n",
    "   - 기존의 RNN은 단어의 위치를 따라 순차적으로 입력받아 단어의 위치정보를 활용할 수 있었음\n",
    "   - 트랜스포머의 경우, RNN을 활용하지 않았기 때문에 단어의 위치정보를 다른 방식으로 줄 필요가 있음\n",
    "   - 이를 위해 각 단어의 임베딩 벡터에 위치 정보들을 더하게 되는데 이를 포지셔널 인코딩이라고 한다.\n",
    "      - 보통 포지셔널 인코딩은 sin, cos을 이용하여 계산\n",
    "      "
   ]
  },
  {
   "cell_type": "code",
   "execution_count": 2,
   "metadata": {},
   "outputs": [],
   "source": [
    "def positional_encoding(dim, sentence_length):       # 차원, 문장의 길이\n",
    "    encoded_vec = np.array([pos / np.power(10000, 2 *i / dim) for pos in range(sentence_length) for i in range(dim)])\n",
    "    encoded_vec[::2] = np.sin(encoded_vec[::2])\n",
    "    encoded_vec[1::2] = np.cos(encoded_vec[1::2])\n",
    "    return tf.constant(encoded_vec.reshape([sentence_length, dim]), dtype=tf.float32)"
   ]
  },
  {
   "cell_type": "markdown",
   "metadata": {},
   "source": [
    "레이어 정규화\n",
    "   - 레이어 정규화에서는 텐서의 마지막 차원에 대해 평균과 분산을 구하고, 이 값을 통해 정규화함\n",
    "   - 해당 정규화를 각 층의 연결에 편리하게 적용하기 위해 함수화한 sublayer_connection()을 선언"
   ]
  },
  {
   "cell_type": "code",
   "execution_count": 3,
   "metadata": {},
   "outputs": [],
   "source": [
    "def layer_norm(inputs, eps=1e-6):\n",
    "    feature_shape = inputs.get_shape()[-1:]\n",
    "    mean = tf.keras.backend.mean(inputs, [-1], keepdims=True)\n",
    "    std = tf.keras.backend.std(inputs, [-1], keepdims=True)\n",
    "    beta = tf.Variable(tf.zeros(feature_shape), trainable=False)\n",
    "    gamma = tf.Variable(tf.ones(feature_shape), trainable=False)\n",
    "    return gamma * (inputs - mean) / (std + eps) + beta"
   ]
  },
  {
   "cell_type": "code",
   "execution_count": 4,
   "metadata": {},
   "outputs": [],
   "source": [
    "def sublayer_connection(inputs, sublayer, dropout=0.2):\n",
    "    outputs = layer_norm(inputs + tf.keras.layers.Dropout(dropout)(sublayer))\n",
    "    return outputs"
   ]
  },
  {
   "cell_type": "markdown",
   "metadata": {},
   "source": [
    "### 어텐션\n",
    "   - 트랜스포머의 핵심이 되는 부분\n",
    "   - 트랜스포머에서는 Multi-head attention과 self attention이라는 개념을 사용"
   ]
  },
  {
   "cell_type": "markdown",
   "metadata": {},
   "source": [
    "- 1. multi-head attention\n",
    "   - 디코더가 가지는 차원을 나누어 병렬로 어텐션을 진행\n",
    "   - 마지막엔 병렬로 각 진행해 얻은 어텐션 헤드를 모두 연결\n",
    "   - 이로 인해 다양한 시각에서 정보를 수집할 수 있는 효과를 얻음\n",
    "\n",
    "- 2. self attention\n",
    "   - 일반적인 어텐션의 경우, 특정 시점의 디코더 은닉상태와 모든 시점의 인코더 은닉상태를 활용\n",
    "   - 이는 입력 문장과 다른 문장에 존재하는 단어간의 어텐션을 의미함\n",
    "   - 반면 self attention은 은닉 상태를 동일하게 하여 어텐션을 진행\n",
    "   - 이는 입력 문장 내 단어간의 어텐션을 의미한\n",
    "- 트랜스포머 제안 논문에서는 scaled-dot product attention을 활용해 모델을 작성함"
   ]
  },
  {
   "cell_type": "markdown",
   "metadata": {},
   "source": [
    "### Scaled-dot product attention 구현\n",
    "   - scaled-dot product attention은 앞서 학습한 dot product attention과 거의 유사함\n",
    "   - 단 attention을 진행할 때 어텐션 스코어를 게산할 때 내적 값을 정규화\n",
    "   - 트랜스포머에서는 정규화할 때 K 벡터(=디코더 셀의 은닉 상태)의 차원을 루트를 취한 값을 사용"
   ]
  },
  {
   "cell_type": "code",
   "execution_count": 5,
   "metadata": {},
   "outputs": [],
   "source": [
    "def scaled_dot_product_attention(query, key, value, masked=False):\n",
    "    key_dim_size = float(key.get_shape().as_list()[-1])\n",
    "    key = tf.transpose(key, perm=[0, 2, 1])\n",
    "    \n",
    "    outputs = tf.matmul(query, key) / tf.sqrt(key_dim_size)\n",
    "    \n",
    "    if masked:\n",
    "        diag_vals = tf.ones_like(outputs[0, :, :])\n",
    "        tril = tf.linalg.LinearOperatorLowerTriangular(diag_vals).to_dense()\n",
    "        masks = tf.tile(tf.expand_dims(tril, 0), [tf.shape(outputs)[0], 1, 1])\n",
    "        paddings = tf.ones_like(masks)*(-2**30)\n",
    "        outputs = tf.where(tf.equal(masks, 0), paddings, outputs)\n",
    "        \n",
    "    attention_map = tf.nn.softmax(outputs)\n",
    "    return tf.matmul(attention_map, value)\n"
   ]
  },
  {
   "cell_type": "markdown",
   "metadata": {},
   "source": [
    "### Multi-head attention 구현\n",
    "   - multi-head attention의 구현과정\n",
    "      1. query, key, value에 해당하는 값을 받고, 해당 값에 해당하는 행렬을 생성\n",
    "      2. 생성된 행렬들을 heads에 해당하는 수만큼 분리\n",
    "      3. 분리한 행렬들에 대해 각각 어텐션을 수행\n",
    "      4. 각 어텐션 결과들을 연결해 최종 어텐션 결과 생성"
   ]
  },
  {
   "cell_type": "code",
   "execution_count": 6,
   "metadata": {},
   "outputs": [],
   "source": [
    "def multi_head_attention(query, key, value, num_units, heads, masked=False):\n",
    "    query = tf.keras.layers.Dense(num_units, activation=tf.nn.relu)(query)\n",
    "    key = tf.keras.layers.Dense(num_units, activation=tf.nn.relu)(key)\n",
    "    value = tf.keras.layers.Dense(num_units, activation=tf.nn.relu)(value)\n",
    "    \n",
    "    # 해드 수많큼 분리시킨 후 concat\n",
    "    query = tf.concat(tf.split(query, heads, axis=-1), axis=0)\n",
    "    key = tf.concat(tf.split(key, heads, axis=-1), axis=0)\n",
    "    value = tf.concat(tf.split(value, heads, axis=-1), axis=0)\n",
    "    \n",
    "    # concat한 각 값을 attention에 보내준다.\n",
    "    attention_map = scaled_dot_product_attention(query, key, value, masked)\n",
    "    attn_outputs = tf.concat(tf.split(attention_map, heads, axis=0), axis=-1)\n",
    "    attn_outputs = tf.keras.layers.Dense(num_units, activation=tf.nn.relu)(attn_outputs)\n",
    "    \n",
    "    return attn_outputs"
   ]
  },
  {
   "cell_type": "markdown",
   "metadata": {},
   "source": [
    "### 포지션-와이즈 피드 포워드 신경망\n",
    "   - multi-head attention의 결과인 행렬을 입력받아 연산\n",
    "   - 일반적인 완전 연결 신경망(Dense layer)를 사용\n",
    "   - position-wise FFNN(Feed Forward Neural Network은 인코더와 디코더에 모두 존재"
   ]
  },
  {
   "cell_type": "code",
   "execution_count": 7,
   "metadata": {},
   "outputs": [],
   "source": [
    "def feed_forward(inputs, num_units):\n",
    "    feature_shape = inputs.get_shape()[-1]\n",
    "    inner_layer = tf.keras.layers.Dense(num_units, activation=tf.nn.relu)(inputs)\n",
    "    outputs = tf.keras.layers.Dense(feature_shape)(inner_layer)\n",
    "    return outputs"
   ]
  },
  {
   "cell_type": "markdown",
   "metadata": {},
   "source": [
    "인코더 \n",
    "   - encoder self-attention (multi-head self-attention과 동일)"
   ]
  },
  {
   "cell_type": "code",
   "execution_count": 8,
   "metadata": {},
   "outputs": [],
   "source": [
    "def encoder_modules(inputs, model_dim, ffn_dim, heads):\n",
    "    self_attn = sublayer_connection(inputs, multi_head_attention(inputs, inputs, inputs, model_dim, heads))\n",
    "    outputs = sublayer_connection(self_attn, feed_forward(self_attn, ffn_dim))\n",
    "    return outputs\n",
    "\n",
    "def encoder(inputs, model_dim, ffn_dim, heads, num_layers):\n",
    "    outputs = inputs\n",
    "    for i in range(num_layers):\n",
    "        outputs = encoder_modules(outputs, model_dim, ffn_dim, heads)\n",
    "    \n",
    "    return outputs"
   ]
  },
  {
   "cell_type": "markdown",
   "metadata": {},
   "source": [
    "디코더 \n",
    "   - 디코더는 다음과 같은 구성의 반복으로 이루어짐\n",
    "      1. masked decoder self-attention\n",
    "      2. encoder-decoder attention\n",
    "      3. position-wise FFNN\n",
    "   - 디코더에서는 2종류의 어텐션을 사용\n",
    "      1. masked decoder self-attention\n",
    "         - 디코더에서는 인코더와는 달리 순차적으로 결과를 만들어 내야하기 때문에 다른 어텐션 방법을 사용함\n",
    "         - 디코더 예측 시점 이후의 위치에 attention을 할 수 없도록 masking 처리\n",
    "         - 결국 예측 시점에서 예측은 미리 알고 있는 위치까지만의 결과에 의존\n",
    "      2. encoder-decoder attention\n",
    "         - 앞서 설명한 multi-head attention과 동일"
   ]
  },
  {
   "cell_type": "code",
   "execution_count": 9,
   "metadata": {},
   "outputs": [],
   "source": [
    "def decoder_module(inputs, encoder_outputs, model_dim, ffn_dim, heads):\n",
    "    masked_self_attn = sublayer_connection(inputs,\n",
    "                                           multi_head_attention(inputs, inputs, inputs,\n",
    "                                                                model_dim, heads, masked=True))\n",
    "    self_attn = sublayer_connection(masked_self_attn,\n",
    "                                    multi_head_attention(masked_self_attn, \n",
    "                                                         encoder_outputs,\n",
    "                                                         encoder_outputs,\n",
    "                                                         model_dim, heads))\n",
    "    outputs = sublayer_connection(self_attn, feed_forward(self_attn, ffn_dim))\n",
    "    return outputs\n",
    "\n",
    "def decoder(inputs, encoder_outputs, model_dim, ffn_dim, heads, num_layers):\n",
    "    outputs = inputs\n",
    "    for i in range(num_layers):\n",
    "        outputs = decoder_module(outputs, encoder_outputs, model_dim, ffn_dim, heads)\n",
    "        \n",
    "    return outputs"
   ]
  },
  {
   "cell_type": "markdown",
   "metadata": {},
   "source": [
    "### 트랜스포머를 활용한 챗봇"
   ]
  },
  {
   "cell_type": "code",
   "execution_count": 10,
   "metadata": {},
   "outputs": [],
   "source": [
    "import re\n",
    "\n",
    "filters = \"([~., !?\\\"':;)(])\"\n",
    "PAD = '<PADDING>'\n",
    "STD = '<START>'\n",
    "END = '<END>'\n",
    "UNK = '<UNKNOWN'\n",
    "\n",
    "PAD_INDEX = 0\n",
    "STD_INDEX = 1\n",
    "END_INDEX = 2\n",
    "UNK_INDEX = 3\n",
    "\n",
    "MARKER = [PAD, STD, END, UNK]\n",
    "CHANGE_FILTER = re.compile(filters)"
   ]
  },
  {
   "cell_type": "markdown",
   "metadata": {},
   "source": [
    "   - 데이터 로드"
   ]
  },
  {
   "cell_type": "code",
   "execution_count": 11,
   "metadata": {},
   "outputs": [],
   "source": [
    "from sklearn.model_selection import train_test_split\n",
    "\n",
    "def load_data(data_path):\n",
    "    data_df = pd.read_csv(data_path, header=0)\n",
    "    question, answer = list(data_df['Q']), list(data_df['A'])\n",
    "    train_input, eval_input, train_label, eval_label = train_test_split(question, answer,\n",
    "                                                                        test_size=0.33, random_state=111)\n",
    "    \n",
    "    return train_input, eval_input, train_label, eval_label"
   ]
  },
  {
   "cell_type": "markdown",
   "metadata": {},
   "source": [
    "  - prepro_like_morphlized() : 문자열 데이터를 학습에 사용 될 수 있도록 변환해주는 함수"
   ]
  },
  {
   "cell_type": "code",
   "execution_count": 12,
   "metadata": {},
   "outputs": [],
   "source": [
    "from konlpy.tag import Okt\n",
    "\n",
    "def prepro_like_morphlized(data):\n",
    "    morph_analyzer = Okt()\n",
    "    result_data = list()\n",
    "    for seq in data:\n",
    "        morphlized_seq = \" \".join(morph_analyzer.morphs(seq.replace(' ', '')))\n",
    "        result_data.append(morphlized_seq)\n",
    "    return result_data"
   ]
  },
  {
   "cell_type": "markdown",
   "metadata": {},
   "source": [
    "   - data_tokenizer() : 단어 사전을 만들기 위해 단어들을 분리하는 함수"
   ]
  },
  {
   "cell_type": "code",
   "execution_count": 13,
   "metadata": {},
   "outputs": [],
   "source": [
    "def data_tokenizer(data):\n",
    "    words = []\n",
    "    for sentence in data:\n",
    "        sentence = re.sub(CHANGE_FILTER, \"\", sentence)\n",
    "        for word in sentence.split():\n",
    "            words.append(word)\n",
    "    return [word for word in words if word]"
   ]
  },
  {
   "cell_type": "markdown",
   "metadata": {},
   "source": [
    "   - Load_vocab() : 처리에 필요한 단어 사전을 생성"
   ]
  },
  {
   "cell_type": "code",
   "execution_count": 14,
   "metadata": {},
   "outputs": [],
   "source": [
    "def load_vocabulary(data_path):\n",
    "    data_df = pd.read_csv(data_path, encoding='utf-8')\n",
    "    question, answer = list(data_df['Q']), list(data_df['A'])\n",
    "    if tokenize_as_morph:\n",
    "        question = prepro_like_morphlized(question)\n",
    "        answer = prepro_like_morphlized(question)\n",
    "        \n",
    "    data = []\n",
    "    data.extend(question)\n",
    "    data.extend(answer)\n",
    "    words = data_tokenizer(data)\n",
    "    words = list(set(words))\n",
    "    words[:0] = MARKER\n",
    "    \n",
    "    char2idx = {char:idx for idx, char in enumerate(words)}\n",
    "    idx2char = {idx:char for idx, char in enumerate(words)}\n",
    "    \n",
    "    return char2idx, idx2char, len(char2idx)    "
   ]
  },
  {
   "cell_type": "markdown",
   "metadata": {},
   "source": [
    "   - enc_processing() : encoder의 입력을 구성하기 위한 함수"
   ]
  },
  {
   "cell_type": "code",
   "execution_count": 15,
   "metadata": {},
   "outputs": [],
   "source": [
    "def enc_processing(value, dictionary):\n",
    "    sequences_input_index = []\n",
    "    sequences_length = []\n",
    "    \n",
    "    if tokenize_as_morph:\n",
    "        value = prepro_like_morphlized(value)\n",
    "        \n",
    "    for sequence in value:\n",
    "        sequence = re.sub(CHANGE_FILTER, \"\", sequence)\n",
    "        sequence_index = []\n",
    "        for word in sequence.split():\n",
    "            if dictionary.get(word) is not None:\n",
    "                sequence_index.extend([dictionary[word]])\n",
    "            else:\n",
    "                sequence_index.extend([dictionary[UNK]])\n",
    "        if len(sequence_index) > max_len:\n",
    "            sequence_index = sequence_index[:max_len]\n",
    "        sequences_length.append(len(sequence_index))\n",
    "        sequence_index += (max_len - len(sequence_index)) * [dictionary[PAD]]\n",
    "        sequences_input_index.append(sequence_index) \n",
    "    return np.asarray(sequences_input_index), sequences_length"
   ]
  },
  {
   "cell_type": "markdown",
   "metadata": {},
   "source": [
    "  - dec_output_processing() : decoder의 입력을 구성하기 위한 함수?"
   ]
  },
  {
   "cell_type": "code",
   "execution_count": 16,
   "metadata": {},
   "outputs": [],
   "source": [
    "def dec_output_processing(value, dictionary):\n",
    "    sequences_output_index = []\n",
    "    sequences_length = []\n",
    "    \n",
    "    if tokenize_as_morph:\n",
    "        value = prepro_like_morphlized(value)\n",
    "        \n",
    "    for sequence in value:\n",
    "        sequence = re.sub(CHANGE_FILTER, \"\", sequence)\n",
    "        sequence_index = []\n",
    "        sequence_index = [dictionary[STD]] + [dictionary[word] for word in sequence.split()]\n",
    "\n",
    "        if len(sequence_index) > max_len:\n",
    "            sequence_index = sequence_index[:max_len]\n",
    "        sequences_length.append(len(sequence_index))\n",
    "        sequence_index += (max_len - len(sequence_index)) * [dictionary[PAD]]\n",
    "        sequences_output_index.append(sequence_index)\n",
    "    return np.asarray(sequences_output_index), sequences_length"
   ]
  },
  {
   "cell_type": "markdown",
   "metadata": {},
   "source": [
    "dec_target_processing() : decoder의 출력을 구성하기 위한 함수"
   ]
  },
  {
   "cell_type": "code",
   "execution_count": 17,
   "metadata": {},
   "outputs": [],
   "source": [
    "def dec_target_processing(value, dictionary):\n",
    "    sequences_target_index = []\n",
    "    \n",
    "    if tokenize_as_morph:\n",
    "        value = prepro_like_morphlized(value)\n",
    "        \n",
    "    for sequence in value:\n",
    "        sequence = re.sub(CHANGE_FILTER, \"\", sequence)\n",
    "        sequence_index = [dictionary[word] for word in sequence.split()]\n",
    "\n",
    "        if len(sequence_index) >= max_len:\n",
    "            sequence_index = sequence_index[:max_len - 1] + [dictionary[END]]\n",
    "        else:\n",
    "            sequence_index += [dictionary[END]]  \n",
    "        sequence_index += (max_len - len(sequence_index)) * [dictionary[PAD]]\n",
    "        sequences_target_index.append(sequence_index)\n",
    "    return np.asarray(sequences_target_index)"
   ]
  },
  {
   "cell_type": "markdown",
   "metadata": {},
   "source": [
    "   - train_input_fn(), eval_input_fn() : 모델에 데이터를 효율적으로 투입하기 위한 함수\n",
    "   - rearrange() : dataset 객체가 데이터를 어떻게 변형시킬지 정의해둔 함수\n",
    "   - dataset.map은 rearrange 함수를 기반으로 데이터를 변형"
   ]
  },
  {
   "cell_type": "code",
   "execution_count": 18,
   "metadata": {},
   "outputs": [],
   "source": [
    "def train_input_fn(train_input_enc, train_output_enc, train_target_dec, batch_size):\n",
    "    dataset = tf.compat.v1.data.Dataset.from_tensor_slices((train_input_enc, train_output_enc, train_target_dec))\n",
    "    dataset = dataset.shuffle(buffer_size = len(train_input_enc))\n",
    "    dataset = dataset.batch(batch_size)\n",
    "    dataset = dataset.map(rearrange)\n",
    "    dataset = dataset.repeat()\n",
    "    iterator = dataset.make_one_shot_iterator()\n",
    "    return iterator.get_next()\n",
    "\n",
    "def eval_input_fn(eval_input_enc, eval_output_enc, eval_target_dec, batch_size):\n",
    "    dataset = tf.compat.v1.data.Dataset.from_tensor_slices((eval_input_enc, eval_output_enc, eval_target_dec))\n",
    "    dataset = dataset.shuffle(buffer_size = len(eval_input_enc))\n",
    "    dataset = dataset.batch(batch_size)\n",
    "    dataset = dataset.map(rearrange)\n",
    "    dataset = dataset.repeat()\n",
    "    iterator = dataset.make_one_shot_iterator()\n",
    "    return iterator.get_next()\n",
    "\n",
    "def rearrange(input, output, target):\n",
    "    features = {'input':input, 'output':output}\n",
    "    return features, target"
   ]
  },
  {
   "cell_type": "markdown",
   "metadata": {},
   "source": [
    "   - 모델의 에측은 배열로 생성되기 때문에 이를 확인하기 위해선 문자열로 변환이 필요\n",
    "   - pred2string() : 예측을 문자열로 변환해주는 함수"
   ]
  },
  {
   "cell_type": "code",
   "execution_count": 19,
   "metadata": {},
   "outputs": [],
   "source": [
    "def pred2string(value, dictionary):\n",
    "    sentence_string = []\n",
    "    is_finished = False\n",
    "    \n",
    "    for v in value:\n",
    "        sentence_string = [dictionary[index] for index in v['indexs']]\n",
    "\n",
    "    answer = \"\"\n",
    "    for word in sentence_string:\n",
    "        if word == END:\n",
    "            if_finished = True\n",
    "            break\n",
    "        \n",
    "        if word != PAD and word != END:\n",
    "            answer += word\n",
    "            answer += \" \"\n",
    "        \n",
    "    return answer, is_finished"
   ]
  },
  {
   "cell_type": "markdown",
   "metadata": {},
   "source": [
    "  - 챗봇 데이터 URL : https://raw.githubusercontent.com/songys/Chatbot_data/master/ChatbotData.csv\n",
    "  - 데이터 주소에서 데이터를 읽어들여 단어 사전과 사용 데이터 구성"
   ]
  },
  {
   "cell_type": "code",
   "execution_count": 20,
   "metadata": {},
   "outputs": [],
   "source": [
    "import pandas as pd\n",
    "\n",
    "tokenize_as_morph = True\n",
    "\n",
    "data_path = \"https://raw.githubusercontent.com/songys/Chatbot_data/master/ChatbotData.csv\"\n",
    "\n",
    "char2idx, idx2char, len_vocab = load_vocabulary(data_path)\n",
    "train_input, train_label, eval_input, eval_label = load_data(data_path)"
   ]
  },
  {
   "cell_type": "markdown",
   "metadata": {},
   "source": [
    "### 모델구성"
   ]
  },
  {
   "cell_type": "code",
   "execution_count": 21,
   "metadata": {},
   "outputs": [],
   "source": [
    "def model(features, labels, mode, params):\n",
    "    TRAIN = mode == tf.estimator.ModeKeys.TRAIN\n",
    "    EVAL = mode == tf.estimator.ModeKeys.EVAL\n",
    "    PREDICT = mode == tf.estimator.ModeKeys.PREDICT\n",
    "    \n",
    "    position_encode = positional_encoding(params['embedding_size'], params['max_len'])\n",
    "    if params['xavier_initializer']:\n",
    "        embedding_initializer = 'glorot_normal'\n",
    "    else:\n",
    "        embedding_initializer = 'uniform'\n",
    "    \n",
    "    embedding = tf.keras.layers.Embedding(params['len_vocab'],\n",
    "                                          params['embedding_size'],\n",
    "                                          embedding_initializer=embedding_initializer)\n",
    "    \n",
    "    x_embedded_matrix = embedding(features['input']) + position_encode\n",
    "    y_embedded_matrix = embedding(features['output']) + position_encode\n",
    "    \n",
    "    encoder_outputs = encoder(x_embedded_matrix, params['model_hidden_size'], params['ffn_hidden_size'],\n",
    "                              params['attention_head_size'], params['layer_size'])\n",
    "    decoder_outputs = encoder(y_embedded_matrix, encoder_outputs, params['model_hidden_size'], \n",
    "                              params['ffn_hidden_size'], params['attention_head_size'], params['layer_size'])\n",
    "    \n",
    "    logits = tf.keras.layers.Dense(params['len_vocab'])(decoder_outputs)\n",
    "    predict = tf.argmax(logits, 2)\n",
    "    \n",
    "    if PREDICT:\n",
    "        predictions = {'index': predict,\n",
    "                       'logits': logits}\n",
    "        return tf.estimator.EstimatorSpec(mode, predictions=predictions)\n",
    "    \n",
    "    labels_ =tf.one_hot(labels, params['len_vocab'])\n",
    "    loss = tf.reduce_mean(tf.compat.v1.nn.softmax_cross_entropy_with_logits_v2(logits=logits, labels=labels_))\n",
    "    accuracy = tf.compat.v1.metrics.accuracy(labels=labels, predictions=predict)\n",
    "    \n",
    "    metrics = {'accuracy': accuracy}\n",
    "    tf.summary.scaler('accuracy', accuracy[1])\n",
    "    \n",
    "    if EVAL:\n",
    "        return tf.estimator.EstimatorSpec(mode, loss=loss, eval_metric_ops=metrics)\n",
    "    assert TRAIN\n",
    "    \n",
    "    optimizer = tf.compat.v1.train.AdadeltaOptimizer(learning_rate=params['learning_rate'])\n",
    "    train_op = optimizer.minimize(loss, global_step=tf.compat.v1.train.get_global_step())\n",
    "    return tf.estimator.EstimatorSpec(mode, loss=loss, train_op=train_op)"
   ]
  },
  {
   "cell_type": "markdown",
   "metadata": {},
   "source": [
    "### 모델 학습"
   ]
  },
  {
   "cell_type": "markdown",
   "metadata": {},
   "source": [
    "   - 하이퍼 파라미터 값 설정"
   ]
  },
  {
   "cell_type": "code",
   "execution_count": 22,
   "metadata": {},
   "outputs": [],
   "source": [
    "max_len = 25\n",
    "epoch = 5000\n",
    "batch_size = 256\n",
    "embedding_size = 100\n",
    "model_hidden_size = 100\n",
    "ffn_hidden_size = 100\n",
    "attention_head_size = 100\n",
    "lr = 0.001\n",
    "layer_size = 3\n",
    "xavier_initializer = True"
   ]
  },
  {
   "cell_type": "markdown",
   "metadata": {},
   "source": [
    "   - 앞서 선언한 processing 함수로 데이터를 모델에 투입할 수 있도록 가공\n",
    "   - 평가 데이터도 동일하게 가공"
   ]
  },
  {
   "cell_type": "code",
   "execution_count": 23,
   "metadata": {},
   "outputs": [
    {
     "ename": "KeyError",
     "evalue": "'식초넣고빨래해보세요'",
     "output_type": "error",
     "traceback": [
      "\u001b[1;31m---------------------------------------------------------------------------\u001b[0m",
      "\u001b[1;31mKeyError\u001b[0m                                  Traceback (most recent call last)",
      "\u001b[1;32m~\\AppData\\Local\\Temp/ipykernel_21812/2104367309.py\u001b[0m in \u001b[0;36m<module>\u001b[1;34m\u001b[0m\n\u001b[0;32m      4\u001b[0m \u001b[1;33m\u001b[0m\u001b[0m\n\u001b[0;32m      5\u001b[0m \u001b[0meval_input_enc\u001b[0m\u001b[1;33m,\u001b[0m \u001b[0meval_input_enc_length\u001b[0m \u001b[1;33m=\u001b[0m \u001b[0menc_processing\u001b[0m\u001b[1;33m(\u001b[0m\u001b[0meval_input\u001b[0m\u001b[1;33m,\u001b[0m \u001b[0mchar2idx\u001b[0m\u001b[1;33m)\u001b[0m\u001b[1;33m\u001b[0m\u001b[1;33m\u001b[0m\u001b[0m\n\u001b[1;32m----> 6\u001b[1;33m \u001b[0meval_output_enc\u001b[0m\u001b[1;33m,\u001b[0m \u001b[0meval_output_dec_length\u001b[0m \u001b[1;33m=\u001b[0m \u001b[0mdec_output_processing\u001b[0m\u001b[1;33m(\u001b[0m\u001b[0meval_label\u001b[0m\u001b[1;33m,\u001b[0m \u001b[0mchar2idx\u001b[0m\u001b[1;33m)\u001b[0m\u001b[1;33m\u001b[0m\u001b[1;33m\u001b[0m\u001b[0m\n\u001b[0m\u001b[0;32m      7\u001b[0m \u001b[0meval_target_dec\u001b[0m \u001b[1;33m=\u001b[0m \u001b[0mdec_target_processing\u001b[0m\u001b[1;33m(\u001b[0m\u001b[0meval_label\u001b[0m\u001b[1;33m,\u001b[0m \u001b[0mchar2idx\u001b[0m\u001b[1;33m)\u001b[0m\u001b[1;33m\u001b[0m\u001b[1;33m\u001b[0m\u001b[0m\n",
      "\u001b[1;32m~\\AppData\\Local\\Temp/ipykernel_21812/933717379.py\u001b[0m in \u001b[0;36mdec_output_processing\u001b[1;34m(value, dictionary)\u001b[0m\n\u001b[0;32m      9\u001b[0m         \u001b[0msequence\u001b[0m \u001b[1;33m=\u001b[0m \u001b[0mre\u001b[0m\u001b[1;33m.\u001b[0m\u001b[0msub\u001b[0m\u001b[1;33m(\u001b[0m\u001b[0mCHANGE_FILTER\u001b[0m\u001b[1;33m,\u001b[0m \u001b[1;34m\"\"\u001b[0m\u001b[1;33m,\u001b[0m \u001b[0msequence\u001b[0m\u001b[1;33m)\u001b[0m\u001b[1;33m\u001b[0m\u001b[1;33m\u001b[0m\u001b[0m\n\u001b[0;32m     10\u001b[0m         \u001b[0msequence_index\u001b[0m \u001b[1;33m=\u001b[0m \u001b[1;33m[\u001b[0m\u001b[1;33m]\u001b[0m\u001b[1;33m\u001b[0m\u001b[1;33m\u001b[0m\u001b[0m\n\u001b[1;32m---> 11\u001b[1;33m         \u001b[0msequence_index\u001b[0m \u001b[1;33m=\u001b[0m \u001b[1;33m[\u001b[0m\u001b[0mdictionary\u001b[0m\u001b[1;33m[\u001b[0m\u001b[0mSTD\u001b[0m\u001b[1;33m]\u001b[0m\u001b[1;33m]\u001b[0m \u001b[1;33m+\u001b[0m \u001b[1;33m[\u001b[0m\u001b[0mdictionary\u001b[0m\u001b[1;33m[\u001b[0m\u001b[0mword\u001b[0m\u001b[1;33m]\u001b[0m \u001b[1;32mfor\u001b[0m \u001b[0mword\u001b[0m \u001b[1;32min\u001b[0m \u001b[0msequence\u001b[0m\u001b[1;33m.\u001b[0m\u001b[0msplit\u001b[0m\u001b[1;33m(\u001b[0m\u001b[1;33m)\u001b[0m\u001b[1;33m]\u001b[0m\u001b[1;33m\u001b[0m\u001b[1;33m\u001b[0m\u001b[0m\n\u001b[0m\u001b[0;32m     12\u001b[0m \u001b[1;33m\u001b[0m\u001b[0m\n\u001b[0;32m     13\u001b[0m         \u001b[1;32mif\u001b[0m \u001b[0mlen\u001b[0m\u001b[1;33m(\u001b[0m\u001b[0msequence_index\u001b[0m\u001b[1;33m)\u001b[0m \u001b[1;33m>\u001b[0m \u001b[0mmax_len\u001b[0m\u001b[1;33m:\u001b[0m\u001b[1;33m\u001b[0m\u001b[1;33m\u001b[0m\u001b[0m\n",
      "\u001b[1;32m~\\AppData\\Local\\Temp/ipykernel_21812/933717379.py\u001b[0m in \u001b[0;36m<listcomp>\u001b[1;34m(.0)\u001b[0m\n\u001b[0;32m      9\u001b[0m         \u001b[0msequence\u001b[0m \u001b[1;33m=\u001b[0m \u001b[0mre\u001b[0m\u001b[1;33m.\u001b[0m\u001b[0msub\u001b[0m\u001b[1;33m(\u001b[0m\u001b[0mCHANGE_FILTER\u001b[0m\u001b[1;33m,\u001b[0m \u001b[1;34m\"\"\u001b[0m\u001b[1;33m,\u001b[0m \u001b[0msequence\u001b[0m\u001b[1;33m)\u001b[0m\u001b[1;33m\u001b[0m\u001b[1;33m\u001b[0m\u001b[0m\n\u001b[0;32m     10\u001b[0m         \u001b[0msequence_index\u001b[0m \u001b[1;33m=\u001b[0m \u001b[1;33m[\u001b[0m\u001b[1;33m]\u001b[0m\u001b[1;33m\u001b[0m\u001b[1;33m\u001b[0m\u001b[0m\n\u001b[1;32m---> 11\u001b[1;33m         \u001b[0msequence_index\u001b[0m \u001b[1;33m=\u001b[0m \u001b[1;33m[\u001b[0m\u001b[0mdictionary\u001b[0m\u001b[1;33m[\u001b[0m\u001b[0mSTD\u001b[0m\u001b[1;33m]\u001b[0m\u001b[1;33m]\u001b[0m \u001b[1;33m+\u001b[0m \u001b[1;33m[\u001b[0m\u001b[0mdictionary\u001b[0m\u001b[1;33m[\u001b[0m\u001b[0mword\u001b[0m\u001b[1;33m]\u001b[0m \u001b[1;32mfor\u001b[0m \u001b[0mword\u001b[0m \u001b[1;32min\u001b[0m \u001b[0msequence\u001b[0m\u001b[1;33m.\u001b[0m\u001b[0msplit\u001b[0m\u001b[1;33m(\u001b[0m\u001b[1;33m)\u001b[0m\u001b[1;33m]\u001b[0m\u001b[1;33m\u001b[0m\u001b[1;33m\u001b[0m\u001b[0m\n\u001b[0m\u001b[0;32m     12\u001b[0m \u001b[1;33m\u001b[0m\u001b[0m\n\u001b[0;32m     13\u001b[0m         \u001b[1;32mif\u001b[0m \u001b[0mlen\u001b[0m\u001b[1;33m(\u001b[0m\u001b[0msequence_index\u001b[0m\u001b[1;33m)\u001b[0m \u001b[1;33m>\u001b[0m \u001b[0mmax_len\u001b[0m\u001b[1;33m:\u001b[0m\u001b[1;33m\u001b[0m\u001b[1;33m\u001b[0m\u001b[0m\n",
      "\u001b[1;31mKeyError\u001b[0m: '식초넣고빨래해보세요'"
     ]
    }
   ],
   "source": [
    "train_input_enc, train_input_enc_length = enc_processing(train_input, char2idx)\n",
    "train_output_enc, train_output_dec_length = dec_output_processing(train_label, char2idx)\n",
    "train_target_dec = dec_target_processing(train_label, char2idx)\n",
    "\n",
    "eval_input_enc, eval_input_enc_length = enc_processing(eval_input, char2idx)\n",
    "eval_output_enc, eval_output_dec_length = dec_output_processing(eval_label, char2idx)\n",
    "eval_target_dec = dec_target_processing(eval_label, char2idx)"
   ]
  },
  {
   "cell_type": "markdown",
   "metadata": {},
   "source": [
    "  - 앞서 선언한 함수를 통해 모델을 선언하고 학습\n",
    "  - tf.estimator를 사용해 간편하게 학습 모듈 구성"
   ]
  },
  {
   "cell_type": "code",
   "execution_count": null,
   "metadata": {},
   "outputs": [],
   "source": [
    "transformer = tf.estimator.Estimator(\n",
    "    model_fn = model,\n",
    "    params = {'embedding_size' : embedding_size,\n",
    "              'model_hidden_size' : model_hidden_size}\n",
    ")"
   ]
  },
  {
   "cell_type": "markdown",
   "metadata": {},
   "source": [
    "  - 학습한 모델을 사용해 챗봇을 사용\n",
    "  - 예측 결과를 문자열로 변환할 때는 앞서 선언한 pred2string() 함수를 이용\n",
    "  - 입력에 대한 응답이 생성되는 것을 확인할 수 있음"
   ]
  },
  {
   "cell_type": "markdown",
   "metadata": {},
   "source": []
  }
 ],
 "metadata": {
  "interpreter": {
   "hash": "3caf13703c5b1c02abff9fa597e671e1239d1d668b6a345ae62ddadff9d8fc63"
  },
  "kernelspec": {
   "display_name": "Python 3.7.11 ('py37')",
   "language": "python",
   "name": "python3"
  },
  "language_info": {
   "codemirror_mode": {
    "name": "ipython",
    "version": 3
   },
   "file_extension": ".py",
   "mimetype": "text/x-python",
   "name": "python",
   "nbconvert_exporter": "python",
   "pygments_lexer": "ipython3",
   "version": "3.7.11"
  },
  "orig_nbformat": 4
 },
 "nbformat": 4,
 "nbformat_minor": 2
}
