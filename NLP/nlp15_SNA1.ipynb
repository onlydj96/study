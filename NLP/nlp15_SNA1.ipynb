{
 "cells": [
  {
   "cell_type": "markdown",
   "metadata": {},
   "source": [
    "의미 연결망 분석(Semantic Network Analysis)"
   ]
  },
  {
   "cell_type": "markdown",
   "metadata": {},
   "source": [
    "  - 사회 연결망 분석(Social Network Analysis)는 분석 대상 및 분석 대상들간의 관계를 연결망 구조로 표현하고 이를 계랑적으로 제시하는 분석 기법\n",
    "  - 사회 연결망 분석은 사람, 장소, 물품 등의 객체 간의 관계를 분석하는데 효과적이며 주로 친구 관계, 전력 공급 등을 분석하는데 사용\n",
    "  - 사회 연결망 분석 기법을 텍스트 내 단어의 관계에 적용한 것이 바로 의미 연결망 분석\n",
    "  - 의미 연결망 분석에는 일정한 범위 내에서 어휘가 동시에 등장하면 서로 연결된 것으로 간주, 이 연결 관계들을 분석"
   ]
  },
  {
   "cell_type": "markdown",
   "metadata": {},
   "source": [
    "n-gram\n",
    "   - nltk는 편하게 n-gram을 생성할 수 있는 함수를 제공\n",
    "   - 많이 사용되는 bigrams의 경우에는 별도의 함수를 제공하니 해당 내용을 참조하여 n-gram 생성"
   ]
  },
  {
   "cell_type": "code",
   "execution_count": 3,
   "metadata": {},
   "outputs": [
    {
     "name": "stderr",
     "output_type": "stream",
     "text": [
      "[nltk_data] Downloading package punkt to\n",
      "[nltk_data]     C:\\Users\\bitcamp\\AppData\\Roaming\\nltk_data...\n",
      "[nltk_data]   Package punkt is already up-to-date!\n"
     ]
    },
    {
     "data": {
      "text/plain": [
       "True"
      ]
     },
     "execution_count": 3,
     "metadata": {},
     "output_type": "execute_result"
    }
   ],
   "source": [
    "import nltk\n",
    "nltk.download('punkt')"
   ]
  },
  {
   "cell_type": "code",
   "execution_count": 4,
   "metadata": {},
   "outputs": [
    {
     "name": "stdout",
     "output_type": "stream",
     "text": [
      "[('I', 'love'), ('love', 'data'), ('data', 'science'), ('science', 'and'), ('and', 'deep'), ('deep', 'learning')]\n"
     ]
    }
   ],
   "source": [
    "from nltk import word_tokenize, bigrams\n",
    "\n",
    "sentence = 'I love data science and deep learning'\n",
    "tokens = word_tokenize(sentence)\n",
    "\n",
    "bgram = bigrams(tokens)\n",
    "bgram_list = [x for x in bgram]\n",
    "print(bgram_list)"
   ]
  },
  {
   "cell_type": "code",
   "execution_count": 5,
   "metadata": {},
   "outputs": [
    {
     "name": "stdout",
     "output_type": "stream",
     "text": [
      "[('I', 'love', 'data'), ('love', 'data', 'science'), ('data', 'science', 'and'), ('science', 'and', 'deep'), ('and', 'deep', 'learning')]\n",
      "[('I', 'love', 'data', 'science'), ('love', 'data', 'science', 'and'), ('data', 'science', 'and', 'deep'), ('science', 'and', 'deep', 'learning')]\n"
     ]
    }
   ],
   "source": [
    "from nltk.util import ngrams\n",
    "\n",
    "tgram = ngrams(tokens, 3)    # 단어들을 순서대로 세 개씩 묶기\n",
    "qgram = ngrams(tokens, 4)    # 단어들을 순서대로 네 개씩 묶기\n",
    "\n",
    "tgram_list = [x for x in tgram]\n",
    "qgram_list = [x for x in qgram]\n",
    "\n",
    "print(tgram_list)\n",
    "print(qgram_list)"
   ]
  },
  {
   "cell_type": "markdown",
   "metadata": {},
   "source": [
    "어휘 동시 출현 빈도의 계수화"
   ]
  },
  {
   "cell_type": "markdown",
   "metadata": {},
   "source": [
    "  - 동시 출현(Co-occurrence)란 두 개 이상의 어휘가 일정한 범위나 거리 내에서 함께 출현하는 것을 의미\n",
    "  - 단어간의 동시 출현 관계를 분석하면 문서나 문장으로부터 두 단어가 유사한 의미를 가졌는지 등의 추상화된 정보를 얻을 수 있음\n",
    "  - 동시 출현 빈도는 Window라는 지정 범위 내에서 동시 등장한 어휘를 확률 등으로 계수화 가능\n",
    "  - 예를 들어, 단어 뒤 잘못된 단어가 온다면, 이를 동시 출현 빈도가 높은 단어로 교정 가능"
   ]
  },
  {
   "cell_type": "markdown",
   "metadata": {},
   "source": [
    "- 어휘 동시 출현 빈도 행렬은 하나하나 측정할 수도 있지만, bigram개수를 정리하면 편리하게 만들어 볼 수 있음\n",
    "- nltk에서 제공하는 ConditionalFreqDist 함수를 이용하면 문맥별 단어 빈도를 쉽게 측정 가능"
   ]
  },
  {
   "cell_type": "code",
   "execution_count": 6,
   "metadata": {},
   "outputs": [
    {
     "data": {
      "text/plain": [
       "['I', 'love', 'data', 'science', 'and', 'deep', 'know', 'this']"
      ]
     },
     "execution_count": 6,
     "metadata": {},
     "output_type": "execute_result"
    }
   ],
   "source": [
    "from nltk import ConditionalFreqDist\n",
    "\n",
    "sentences = ['I love data science and deep learning', 'I love science', 'I know this code']\n",
    "tokens = [word_tokenize(x) for x in sentences]\n",
    "bgrams = [bigrams(x) for x in tokens]\n",
    "\n",
    "token = []\n",
    "for i in bgrams:\n",
    "    token += ([x for x in i])\n",
    "\n",
    "cfd = ConditionalFreqDist(token)\n",
    "cfd.conditions()"
   ]
  },
  {
   "cell_type": "code",
   "execution_count": 8,
   "metadata": {},
   "outputs": [
    {
     "name": "stdout",
     "output_type": "stream",
     "text": [
      "<FreqDist with 2 samples and 3 outcomes>\n"
     ]
    }
   ],
   "source": [
    "print(cfd['I'])  # I에 대한 FreqDist 객체를 출력"
   ]
  },
  {
   "cell_type": "code",
   "execution_count": 9,
   "metadata": {},
   "outputs": [
    {
     "name": "stdout",
     "output_type": "stream",
     "text": [
      "2\n"
     ]
    }
   ],
   "source": [
    "print(cfd['I']['love'])  # 한 문장 안에 두 단어가 동시의 출현한 횟수"
   ]
  },
  {
   "cell_type": "code",
   "execution_count": 11,
   "metadata": {},
   "outputs": [
    {
     "name": "stdout",
     "output_type": "stream",
     "text": [
      "[('love', 2)]\n"
     ]
    }
   ],
   "source": [
    "print(cfd['I'].most_common(1))  # 'I'에 관련되어 가장 동시 출현 빈도수가 높은 단어와 횟수를 출력"
   ]
  },
  {
   "cell_type": "code",
   "execution_count": 14,
   "metadata": {},
   "outputs": [
    {
     "name": "stdout",
     "output_type": "stream",
     "text": [
      "dict_keys(['I', 'love', 'data', 'science', 'and', 'deep', 'know', 'this'])\n",
      "[[0 2 0 0 0 0 1 0]\n",
      " [0 0 1 1 0 0 0 0]\n",
      " [0 0 0 1 0 0 0 0]\n",
      " [0 0 0 0 1 0 0 0]\n",
      " [0 0 0 0 0 1 0 0]\n",
      " [0 0 0 0 0 0 0 0]\n",
      " [0 0 0 0 0 0 0 1]\n",
      " [0 0 0 0 0 0 0 0]]\n"
     ]
    }
   ],
   "source": [
    "import numpy as np\n",
    "\n",
    "freq_matrix = []\n",
    "\n",
    "for i in cfd.keys():\n",
    "    temp = []\n",
    "    for j in cfd.keys():\n",
    "        temp.append(cfd[i][j])\n",
    "    freq_matrix.append(temp)\n",
    "freq_matrix = np.array(freq_matrix)\n",
    "\n",
    "print(cfd.keys())   # 출현빈도 높은 단어(keys)들을 출력\n",
    "print(freq_matrix)  # keys들의 동시 출현 회수를 행렬로 표현"
   ]
  },
  {
   "cell_type": "markdown",
   "metadata": {},
   "source": [
    "  - 해당 동시 출현 빈도 행렬을 좀 더 보기 쉽도록 데이터프레임으로 시각화"
   ]
  },
  {
   "cell_type": "code",
   "execution_count": 15,
   "metadata": {},
   "outputs": [
    {
     "data": {
      "text/html": [
       "<style type=\"text/css\">\n",
       "#T_c529c_row0_col0, #T_c529c_row0_col2, #T_c529c_row0_col3, #T_c529c_row0_col4, #T_c529c_row0_col5, #T_c529c_row0_col7, #T_c529c_row1_col0, #T_c529c_row1_col1, #T_c529c_row1_col4, #T_c529c_row1_col5, #T_c529c_row1_col6, #T_c529c_row1_col7, #T_c529c_row2_col0, #T_c529c_row2_col1, #T_c529c_row2_col2, #T_c529c_row2_col4, #T_c529c_row2_col5, #T_c529c_row2_col6, #T_c529c_row2_col7, #T_c529c_row3_col0, #T_c529c_row3_col1, #T_c529c_row3_col2, #T_c529c_row3_col3, #T_c529c_row3_col5, #T_c529c_row3_col6, #T_c529c_row3_col7, #T_c529c_row4_col0, #T_c529c_row4_col1, #T_c529c_row4_col2, #T_c529c_row4_col3, #T_c529c_row4_col4, #T_c529c_row4_col6, #T_c529c_row4_col7, #T_c529c_row5_col0, #T_c529c_row5_col1, #T_c529c_row5_col2, #T_c529c_row5_col3, #T_c529c_row5_col4, #T_c529c_row5_col5, #T_c529c_row5_col6, #T_c529c_row5_col7, #T_c529c_row6_col0, #T_c529c_row6_col1, #T_c529c_row6_col2, #T_c529c_row6_col3, #T_c529c_row6_col4, #T_c529c_row6_col5, #T_c529c_row6_col6, #T_c529c_row7_col0, #T_c529c_row7_col1, #T_c529c_row7_col2, #T_c529c_row7_col3, #T_c529c_row7_col4, #T_c529c_row7_col5, #T_c529c_row7_col6, #T_c529c_row7_col7 {\n",
       "  background-color: #3b4cc0;\n",
       "  color: #f1f1f1;\n",
       "}\n",
       "#T_c529c_row0_col1, #T_c529c_row0_col6, #T_c529c_row1_col2, #T_c529c_row1_col3, #T_c529c_row2_col3, #T_c529c_row3_col4, #T_c529c_row4_col5, #T_c529c_row6_col7 {\n",
       "  background-color: #b40426;\n",
       "  color: #f1f1f1;\n",
       "}\n",
       "</style>\n",
       "<table id=\"T_c529c_\">\n",
       "  <thead>\n",
       "    <tr>\n",
       "      <th class=\"blank level0\" >&nbsp;</th>\n",
       "      <th class=\"col_heading level0 col0\" >I</th>\n",
       "      <th class=\"col_heading level0 col1\" >love</th>\n",
       "      <th class=\"col_heading level0 col2\" >data</th>\n",
       "      <th class=\"col_heading level0 col3\" >science</th>\n",
       "      <th class=\"col_heading level0 col4\" >and</th>\n",
       "      <th class=\"col_heading level0 col5\" >deep</th>\n",
       "      <th class=\"col_heading level0 col6\" >know</th>\n",
       "      <th class=\"col_heading level0 col7\" >this</th>\n",
       "    </tr>\n",
       "  </thead>\n",
       "  <tbody>\n",
       "    <tr>\n",
       "      <th id=\"T_c529c_level0_row0\" class=\"row_heading level0 row0\" >I</th>\n",
       "      <td id=\"T_c529c_row0_col0\" class=\"data row0 col0\" >0</td>\n",
       "      <td id=\"T_c529c_row0_col1\" class=\"data row0 col1\" >2</td>\n",
       "      <td id=\"T_c529c_row0_col2\" class=\"data row0 col2\" >0</td>\n",
       "      <td id=\"T_c529c_row0_col3\" class=\"data row0 col3\" >0</td>\n",
       "      <td id=\"T_c529c_row0_col4\" class=\"data row0 col4\" >0</td>\n",
       "      <td id=\"T_c529c_row0_col5\" class=\"data row0 col5\" >0</td>\n",
       "      <td id=\"T_c529c_row0_col6\" class=\"data row0 col6\" >1</td>\n",
       "      <td id=\"T_c529c_row0_col7\" class=\"data row0 col7\" >0</td>\n",
       "    </tr>\n",
       "    <tr>\n",
       "      <th id=\"T_c529c_level0_row1\" class=\"row_heading level0 row1\" >love</th>\n",
       "      <td id=\"T_c529c_row1_col0\" class=\"data row1 col0\" >0</td>\n",
       "      <td id=\"T_c529c_row1_col1\" class=\"data row1 col1\" >0</td>\n",
       "      <td id=\"T_c529c_row1_col2\" class=\"data row1 col2\" >1</td>\n",
       "      <td id=\"T_c529c_row1_col3\" class=\"data row1 col3\" >1</td>\n",
       "      <td id=\"T_c529c_row1_col4\" class=\"data row1 col4\" >0</td>\n",
       "      <td id=\"T_c529c_row1_col5\" class=\"data row1 col5\" >0</td>\n",
       "      <td id=\"T_c529c_row1_col6\" class=\"data row1 col6\" >0</td>\n",
       "      <td id=\"T_c529c_row1_col7\" class=\"data row1 col7\" >0</td>\n",
       "    </tr>\n",
       "    <tr>\n",
       "      <th id=\"T_c529c_level0_row2\" class=\"row_heading level0 row2\" >data</th>\n",
       "      <td id=\"T_c529c_row2_col0\" class=\"data row2 col0\" >0</td>\n",
       "      <td id=\"T_c529c_row2_col1\" class=\"data row2 col1\" >0</td>\n",
       "      <td id=\"T_c529c_row2_col2\" class=\"data row2 col2\" >0</td>\n",
       "      <td id=\"T_c529c_row2_col3\" class=\"data row2 col3\" >1</td>\n",
       "      <td id=\"T_c529c_row2_col4\" class=\"data row2 col4\" >0</td>\n",
       "      <td id=\"T_c529c_row2_col5\" class=\"data row2 col5\" >0</td>\n",
       "      <td id=\"T_c529c_row2_col6\" class=\"data row2 col6\" >0</td>\n",
       "      <td id=\"T_c529c_row2_col7\" class=\"data row2 col7\" >0</td>\n",
       "    </tr>\n",
       "    <tr>\n",
       "      <th id=\"T_c529c_level0_row3\" class=\"row_heading level0 row3\" >science</th>\n",
       "      <td id=\"T_c529c_row3_col0\" class=\"data row3 col0\" >0</td>\n",
       "      <td id=\"T_c529c_row3_col1\" class=\"data row3 col1\" >0</td>\n",
       "      <td id=\"T_c529c_row3_col2\" class=\"data row3 col2\" >0</td>\n",
       "      <td id=\"T_c529c_row3_col3\" class=\"data row3 col3\" >0</td>\n",
       "      <td id=\"T_c529c_row3_col4\" class=\"data row3 col4\" >1</td>\n",
       "      <td id=\"T_c529c_row3_col5\" class=\"data row3 col5\" >0</td>\n",
       "      <td id=\"T_c529c_row3_col6\" class=\"data row3 col6\" >0</td>\n",
       "      <td id=\"T_c529c_row3_col7\" class=\"data row3 col7\" >0</td>\n",
       "    </tr>\n",
       "    <tr>\n",
       "      <th id=\"T_c529c_level0_row4\" class=\"row_heading level0 row4\" >and</th>\n",
       "      <td id=\"T_c529c_row4_col0\" class=\"data row4 col0\" >0</td>\n",
       "      <td id=\"T_c529c_row4_col1\" class=\"data row4 col1\" >0</td>\n",
       "      <td id=\"T_c529c_row4_col2\" class=\"data row4 col2\" >0</td>\n",
       "      <td id=\"T_c529c_row4_col3\" class=\"data row4 col3\" >0</td>\n",
       "      <td id=\"T_c529c_row4_col4\" class=\"data row4 col4\" >0</td>\n",
       "      <td id=\"T_c529c_row4_col5\" class=\"data row4 col5\" >1</td>\n",
       "      <td id=\"T_c529c_row4_col6\" class=\"data row4 col6\" >0</td>\n",
       "      <td id=\"T_c529c_row4_col7\" class=\"data row4 col7\" >0</td>\n",
       "    </tr>\n",
       "    <tr>\n",
       "      <th id=\"T_c529c_level0_row5\" class=\"row_heading level0 row5\" >deep</th>\n",
       "      <td id=\"T_c529c_row5_col0\" class=\"data row5 col0\" >0</td>\n",
       "      <td id=\"T_c529c_row5_col1\" class=\"data row5 col1\" >0</td>\n",
       "      <td id=\"T_c529c_row5_col2\" class=\"data row5 col2\" >0</td>\n",
       "      <td id=\"T_c529c_row5_col3\" class=\"data row5 col3\" >0</td>\n",
       "      <td id=\"T_c529c_row5_col4\" class=\"data row5 col4\" >0</td>\n",
       "      <td id=\"T_c529c_row5_col5\" class=\"data row5 col5\" >0</td>\n",
       "      <td id=\"T_c529c_row5_col6\" class=\"data row5 col6\" >0</td>\n",
       "      <td id=\"T_c529c_row5_col7\" class=\"data row5 col7\" >0</td>\n",
       "    </tr>\n",
       "    <tr>\n",
       "      <th id=\"T_c529c_level0_row6\" class=\"row_heading level0 row6\" >know</th>\n",
       "      <td id=\"T_c529c_row6_col0\" class=\"data row6 col0\" >0</td>\n",
       "      <td id=\"T_c529c_row6_col1\" class=\"data row6 col1\" >0</td>\n",
       "      <td id=\"T_c529c_row6_col2\" class=\"data row6 col2\" >0</td>\n",
       "      <td id=\"T_c529c_row6_col3\" class=\"data row6 col3\" >0</td>\n",
       "      <td id=\"T_c529c_row6_col4\" class=\"data row6 col4\" >0</td>\n",
       "      <td id=\"T_c529c_row6_col5\" class=\"data row6 col5\" >0</td>\n",
       "      <td id=\"T_c529c_row6_col6\" class=\"data row6 col6\" >0</td>\n",
       "      <td id=\"T_c529c_row6_col7\" class=\"data row6 col7\" >1</td>\n",
       "    </tr>\n",
       "    <tr>\n",
       "      <th id=\"T_c529c_level0_row7\" class=\"row_heading level0 row7\" >this</th>\n",
       "      <td id=\"T_c529c_row7_col0\" class=\"data row7 col0\" >0</td>\n",
       "      <td id=\"T_c529c_row7_col1\" class=\"data row7 col1\" >0</td>\n",
       "      <td id=\"T_c529c_row7_col2\" class=\"data row7 col2\" >0</td>\n",
       "      <td id=\"T_c529c_row7_col3\" class=\"data row7 col3\" >0</td>\n",
       "      <td id=\"T_c529c_row7_col4\" class=\"data row7 col4\" >0</td>\n",
       "      <td id=\"T_c529c_row7_col5\" class=\"data row7 col5\" >0</td>\n",
       "      <td id=\"T_c529c_row7_col6\" class=\"data row7 col6\" >0</td>\n",
       "      <td id=\"T_c529c_row7_col7\" class=\"data row7 col7\" >0</td>\n",
       "    </tr>\n",
       "  </tbody>\n",
       "</table>\n"
      ],
      "text/plain": [
       "<pandas.io.formats.style.Styler at 0x1ff75d8bfc8>"
      ]
     },
     "execution_count": 15,
     "metadata": {},
     "output_type": "execute_result"
    }
   ],
   "source": [
    "import pandas as pd\n",
    " \n",
    "df = pd.DataFrame(freq_matrix, index=cfd.keys(), columns=cfd.keys()) \n",
    "df.style.background_gradient(cmap='coolwarm')"
   ]
  },
  {
   "cell_type": "markdown",
   "metadata": {},
   "source": [
    "  - 동시 출현 빈도 행렬은 인접 행렬로도 간주 할 수 있음\n",
    "  - networkx를 사용해 해당 행렬을 그래프로 시각화 (앞서 만든 데이터프레임을 그래프로 변환)\n",
    "  - 넘파이 배열등으로도 가능하나, 이 경우 별도의 라벨을 지정해줘야만 함"
   ]
  },
  {
   "cell_type": "code",
   "execution_count": 16,
   "metadata": {},
   "outputs": [
    {
     "name": "stdout",
     "output_type": "stream",
     "text": [
      "['I', 'love', 'data', 'science', 'and', 'deep', 'know', 'this']\n",
      "[('I', 'love'), ('I', 'know'), ('love', 'data'), ('love', 'science'), ('data', 'science'), ('science', 'and'), ('and', 'deep'), ('know', 'this')]\n"
     ]
    }
   ],
   "source": [
    "import networkx as nx\n",
    "\n",
    "G = nx.from_pandas_adjacency(df)   # 판다스 인접행렬을 불러오는 함수\n",
    "\n",
    "print(G.nodes())\n",
    "print(G.edges())   # edges는 관계를 의미함. 서로 합쳐질 때 의미가 통하는 단어들을 모아준다."
   ]
  },
  {
   "cell_type": "markdown",
   "metadata": {},
   "source": [
    "  - 각 엣지에 접근해보면 각 엣지의 가중치에 각 단어간의 빈도가 사용된 것을 확인 가능"
   ]
  },
  {
   "cell_type": "code",
   "execution_count": 17,
   "metadata": {},
   "outputs": [
    {
     "name": "stdout",
     "output_type": "stream",
     "text": [
      "{'weight': 2}\n",
      "{'weight': 1}\n"
     ]
    }
   ],
   "source": [
    "print(G.edges()[('I', 'love')])   # I와 Love 사이에 있는 가중치가 2라는 것은 2번 연속 등장 했던 것을 의미한다.\n",
    "print(G.edges()[('I', 'know')])"
   ]
  },
  {
   "cell_type": "markdown",
   "metadata": {},
   "source": [
    "  - nx.draw를 통해 간편하게 그래프를 시각화할 수 있음"
   ]
  },
  {
   "cell_type": "code",
   "execution_count": 19,
   "metadata": {},
   "outputs": [
    {
     "data": {
      "image/png": "[encoded data removed]",
      "text/plain": [
       "<Figure size 432x288 with 1 Axes>"
      ]
     },
     "metadata": {},
     "output_type": "display_data"
    }
   ],
   "source": [
    "nx.draw(G, with_labels=True)  # 단어들이 연결되어 문장을 형성할 수 있음"
   ]
  },
  {
   "cell_type": "markdown",
   "metadata": {},
   "source": [
    "  - 어휘 동시 출현 빈도를 이용하면 어휘 동시 출현 확률까지 측정 가능\n",
    "  - 어휘 동시 출현 확률 계산에는 nltk의 ConditionalProbDist를 이용"
   ]
  },
  {
   "cell_type": "code",
   "execution_count": 21,
   "metadata": {},
   "outputs": [
    {
     "data": {
      "text/plain": [
       "['I', 'love', 'data', 'science', 'and', 'deep', 'know', 'this']"
      ]
     },
     "execution_count": 21,
     "metadata": {},
     "output_type": "execute_result"
    }
   ],
   "source": [
    "from nltk import ConditionalProbDist, MLEProbDist\n",
    "\n",
    "cpd = ConditionalProbDist(cfd, MLEProbDist)\n",
    "cpd.conditions()"
   ]
  },
  {
   "cell_type": "code",
   "execution_count": 23,
   "metadata": {},
   "outputs": [
    {
     "name": "stdout",
     "output_type": "stream",
     "text": [
      "dict_keys(['I', 'love', 'data', 'science', 'and', 'deep', 'know', 'this'])\n",
      "[[0.         0.66666667 0.         0.         0.         0.\n",
      "  0.33333333 0.        ]\n",
      " [0.         0.         0.5        0.5        0.         0.\n",
      "  0.         0.        ]\n",
      " [0.         0.         0.         1.         0.         0.\n",
      "  0.         0.        ]\n",
      " [0.         0.         0.         0.         1.         0.\n",
      "  0.         0.        ]\n",
      " [0.         0.         0.         0.         0.         1.\n",
      "  0.         0.        ]\n",
      " [0.         0.         0.         0.         0.         0.\n",
      "  0.         0.        ]\n",
      " [0.         0.         0.         0.         0.         0.\n",
      "  0.         1.        ]\n",
      " [0.         0.         0.         0.         0.         0.\n",
      "  0.         0.        ]]\n"
     ]
    }
   ],
   "source": [
    "prob_matrix = []\n",
    "\n",
    "for i in cpd.keys():\n",
    "    prob_matrix.append([cpd[i].prob(j) for j in cpd.keys()])\n",
    "\n",
    "prob_matrix = np.array(prob_matrix)\n",
    "\n",
    "print(cpd.keys())\n",
    "print(prob_matrix)  # 어휘 동시 출현 빈도를 확률형태의 리스트로 반환"
   ]
  },
  {
   "cell_type": "code",
   "execution_count": 24,
   "metadata": {},
   "outputs": [
    {
     "data": {
      "text/html": [
       "<style type=\"text/css\">\n",
       "#T_4b194_row0_col0, #T_4b194_row0_col2, #T_4b194_row0_col3, #T_4b194_row0_col4, #T_4b194_row0_col5, #T_4b194_row0_col7, #T_4b194_row1_col0, #T_4b194_row1_col1, #T_4b194_row1_col4, #T_4b194_row1_col5, #T_4b194_row1_col6, #T_4b194_row1_col7, #T_4b194_row2_col0, #T_4b194_row2_col1, #T_4b194_row2_col2, #T_4b194_row2_col4, #T_4b194_row2_col5, #T_4b194_row2_col6, #T_4b194_row2_col7, #T_4b194_row3_col0, #T_4b194_row3_col1, #T_4b194_row3_col2, #T_4b194_row3_col3, #T_4b194_row3_col5, #T_4b194_row3_col6, #T_4b194_row3_col7, #T_4b194_row4_col0, #T_4b194_row4_col1, #T_4b194_row4_col2, #T_4b194_row4_col3, #T_4b194_row4_col4, #T_4b194_row4_col6, #T_4b194_row4_col7, #T_4b194_row5_col0, #T_4b194_row5_col1, #T_4b194_row5_col2, #T_4b194_row5_col3, #T_4b194_row5_col4, #T_4b194_row5_col5, #T_4b194_row5_col6, #T_4b194_row5_col7, #T_4b194_row6_col0, #T_4b194_row6_col1, #T_4b194_row6_col2, #T_4b194_row6_col3, #T_4b194_row6_col4, #T_4b194_row6_col5, #T_4b194_row6_col6, #T_4b194_row7_col0, #T_4b194_row7_col1, #T_4b194_row7_col2, #T_4b194_row7_col3, #T_4b194_row7_col4, #T_4b194_row7_col5, #T_4b194_row7_col6, #T_4b194_row7_col7 {\n",
       "  background-color: #3b4cc0;\n",
       "  color: #f1f1f1;\n",
       "}\n",
       "#T_4b194_row0_col1, #T_4b194_row0_col6, #T_4b194_row1_col2, #T_4b194_row2_col3, #T_4b194_row3_col4, #T_4b194_row4_col5, #T_4b194_row6_col7 {\n",
       "  background-color: #b40426;\n",
       "  color: #f1f1f1;\n",
       "}\n",
       "#T_4b194_row1_col3 {\n",
       "  background-color: #dddcdc;\n",
       "  color: #000000;\n",
       "}\n",
       "</style>\n",
       "<table id=\"T_4b194_\">\n",
       "  <thead>\n",
       "    <tr>\n",
       "      <th class=\"blank level0\" >&nbsp;</th>\n",
       "      <th class=\"col_heading level0 col0\" >I</th>\n",
       "      <th class=\"col_heading level0 col1\" >love</th>\n",
       "      <th class=\"col_heading level0 col2\" >data</th>\n",
       "      <th class=\"col_heading level0 col3\" >science</th>\n",
       "      <th class=\"col_heading level0 col4\" >and</th>\n",
       "      <th class=\"col_heading level0 col5\" >deep</th>\n",
       "      <th class=\"col_heading level0 col6\" >know</th>\n",
       "      <th class=\"col_heading level0 col7\" >this</th>\n",
       "    </tr>\n",
       "  </thead>\n",
       "  <tbody>\n",
       "    <tr>\n",
       "      <th id=\"T_4b194_level0_row0\" class=\"row_heading level0 row0\" >I</th>\n",
       "      <td id=\"T_4b194_row0_col0\" class=\"data row0 col0\" >0.000000</td>\n",
       "      <td id=\"T_4b194_row0_col1\" class=\"data row0 col1\" >0.666667</td>\n",
       "      <td id=\"T_4b194_row0_col2\" class=\"data row0 col2\" >0.000000</td>\n",
       "      <td id=\"T_4b194_row0_col3\" class=\"data row0 col3\" >0.000000</td>\n",
       "      <td id=\"T_4b194_row0_col4\" class=\"data row0 col4\" >0.000000</td>\n",
       "      <td id=\"T_4b194_row0_col5\" class=\"data row0 col5\" >0.000000</td>\n",
       "      <td id=\"T_4b194_row0_col6\" class=\"data row0 col6\" >0.333333</td>\n",
       "      <td id=\"T_4b194_row0_col7\" class=\"data row0 col7\" >0.000000</td>\n",
       "    </tr>\n",
       "    <tr>\n",
       "      <th id=\"T_4b194_level0_row1\" class=\"row_heading level0 row1\" >love</th>\n",
       "      <td id=\"T_4b194_row1_col0\" class=\"data row1 col0\" >0.000000</td>\n",
       "      <td id=\"T_4b194_row1_col1\" class=\"data row1 col1\" >0.000000</td>\n",
       "      <td id=\"T_4b194_row1_col2\" class=\"data row1 col2\" >0.500000</td>\n",
       "      <td id=\"T_4b194_row1_col3\" class=\"data row1 col3\" >0.500000</td>\n",
       "      <td id=\"T_4b194_row1_col4\" class=\"data row1 col4\" >0.000000</td>\n",
       "      <td id=\"T_4b194_row1_col5\" class=\"data row1 col5\" >0.000000</td>\n",
       "      <td id=\"T_4b194_row1_col6\" class=\"data row1 col6\" >0.000000</td>\n",
       "      <td id=\"T_4b194_row1_col7\" class=\"data row1 col7\" >0.000000</td>\n",
       "    </tr>\n",
       "    <tr>\n",
       "      <th id=\"T_4b194_level0_row2\" class=\"row_heading level0 row2\" >data</th>\n",
       "      <td id=\"T_4b194_row2_col0\" class=\"data row2 col0\" >0.000000</td>\n",
       "      <td id=\"T_4b194_row2_col1\" class=\"data row2 col1\" >0.000000</td>\n",
       "      <td id=\"T_4b194_row2_col2\" class=\"data row2 col2\" >0.000000</td>\n",
       "      <td id=\"T_4b194_row2_col3\" class=\"data row2 col3\" >1.000000</td>\n",
       "      <td id=\"T_4b194_row2_col4\" class=\"data row2 col4\" >0.000000</td>\n",
       "      <td id=\"T_4b194_row2_col5\" class=\"data row2 col5\" >0.000000</td>\n",
       "      <td id=\"T_4b194_row2_col6\" class=\"data row2 col6\" >0.000000</td>\n",
       "      <td id=\"T_4b194_row2_col7\" class=\"data row2 col7\" >0.000000</td>\n",
       "    </tr>\n",
       "    <tr>\n",
       "      <th id=\"T_4b194_level0_row3\" class=\"row_heading level0 row3\" >science</th>\n",
       "      <td id=\"T_4b194_row3_col0\" class=\"data row3 col0\" >0.000000</td>\n",
       "      <td id=\"T_4b194_row3_col1\" class=\"data row3 col1\" >0.000000</td>\n",
       "      <td id=\"T_4b194_row3_col2\" class=\"data row3 col2\" >0.000000</td>\n",
       "      <td id=\"T_4b194_row3_col3\" class=\"data row3 col3\" >0.000000</td>\n",
       "      <td id=\"T_4b194_row3_col4\" class=\"data row3 col4\" >1.000000</td>\n",
       "      <td id=\"T_4b194_row3_col5\" class=\"data row3 col5\" >0.000000</td>\n",
       "      <td id=\"T_4b194_row3_col6\" class=\"data row3 col6\" >0.000000</td>\n",
       "      <td id=\"T_4b194_row3_col7\" class=\"data row3 col7\" >0.000000</td>\n",
       "    </tr>\n",
       "    <tr>\n",
       "      <th id=\"T_4b194_level0_row4\" class=\"row_heading level0 row4\" >and</th>\n",
       "      <td id=\"T_4b194_row4_col0\" class=\"data row4 col0\" >0.000000</td>\n",
       "      <td id=\"T_4b194_row4_col1\" class=\"data row4 col1\" >0.000000</td>\n",
       "      <td id=\"T_4b194_row4_col2\" class=\"data row4 col2\" >0.000000</td>\n",
       "      <td id=\"T_4b194_row4_col3\" class=\"data row4 col3\" >0.000000</td>\n",
       "      <td id=\"T_4b194_row4_col4\" class=\"data row4 col4\" >0.000000</td>\n",
       "      <td id=\"T_4b194_row4_col5\" class=\"data row4 col5\" >1.000000</td>\n",
       "      <td id=\"T_4b194_row4_col6\" class=\"data row4 col6\" >0.000000</td>\n",
       "      <td id=\"T_4b194_row4_col7\" class=\"data row4 col7\" >0.000000</td>\n",
       "    </tr>\n",
       "    <tr>\n",
       "      <th id=\"T_4b194_level0_row5\" class=\"row_heading level0 row5\" >deep</th>\n",
       "      <td id=\"T_4b194_row5_col0\" class=\"data row5 col0\" >0.000000</td>\n",
       "      <td id=\"T_4b194_row5_col1\" class=\"data row5 col1\" >0.000000</td>\n",
       "      <td id=\"T_4b194_row5_col2\" class=\"data row5 col2\" >0.000000</td>\n",
       "      <td id=\"T_4b194_row5_col3\" class=\"data row5 col3\" >0.000000</td>\n",
       "      <td id=\"T_4b194_row5_col4\" class=\"data row5 col4\" >0.000000</td>\n",
       "      <td id=\"T_4b194_row5_col5\" class=\"data row5 col5\" >0.000000</td>\n",
       "      <td id=\"T_4b194_row5_col6\" class=\"data row5 col6\" >0.000000</td>\n",
       "      <td id=\"T_4b194_row5_col7\" class=\"data row5 col7\" >0.000000</td>\n",
       "    </tr>\n",
       "    <tr>\n",
       "      <th id=\"T_4b194_level0_row6\" class=\"row_heading level0 row6\" >know</th>\n",
       "      <td id=\"T_4b194_row6_col0\" class=\"data row6 col0\" >0.000000</td>\n",
       "      <td id=\"T_4b194_row6_col1\" class=\"data row6 col1\" >0.000000</td>\n",
       "      <td id=\"T_4b194_row6_col2\" class=\"data row6 col2\" >0.000000</td>\n",
       "      <td id=\"T_4b194_row6_col3\" class=\"data row6 col3\" >0.000000</td>\n",
       "      <td id=\"T_4b194_row6_col4\" class=\"data row6 col4\" >0.000000</td>\n",
       "      <td id=\"T_4b194_row6_col5\" class=\"data row6 col5\" >0.000000</td>\n",
       "      <td id=\"T_4b194_row6_col6\" class=\"data row6 col6\" >0.000000</td>\n",
       "      <td id=\"T_4b194_row6_col7\" class=\"data row6 col7\" >1.000000</td>\n",
       "    </tr>\n",
       "    <tr>\n",
       "      <th id=\"T_4b194_level0_row7\" class=\"row_heading level0 row7\" >this</th>\n",
       "      <td id=\"T_4b194_row7_col0\" class=\"data row7 col0\" >0.000000</td>\n",
       "      <td id=\"T_4b194_row7_col1\" class=\"data row7 col1\" >0.000000</td>\n",
       "      <td id=\"T_4b194_row7_col2\" class=\"data row7 col2\" >0.000000</td>\n",
       "      <td id=\"T_4b194_row7_col3\" class=\"data row7 col3\" >0.000000</td>\n",
       "      <td id=\"T_4b194_row7_col4\" class=\"data row7 col4\" >0.000000</td>\n",
       "      <td id=\"T_4b194_row7_col5\" class=\"data row7 col5\" >0.000000</td>\n",
       "      <td id=\"T_4b194_row7_col6\" class=\"data row7 col6\" >0.000000</td>\n",
       "      <td id=\"T_4b194_row7_col7\" class=\"data row7 col7\" >0.000000</td>\n",
       "    </tr>\n",
       "  </tbody>\n",
       "</table>\n"
      ],
      "text/plain": [
       "<pandas.io.formats.style.Styler at 0x1ff78a0b848>"
      ]
     },
     "execution_count": 24,
     "metadata": {},
     "output_type": "execute_result"
    }
   ],
   "source": [
    "df = pd.DataFrame(prob_matrix, index=cpd.keys(), columns=cpd.keys())\n",
    "df.style.background_gradient(cmap='coolwarm')"
   ]
  },
  {
   "cell_type": "markdown",
   "metadata": {},
   "source": [
    "- 확률 행렬도 인접 행렬로 간주할 수 있음\n",
    "- 그래프 시각화시 빈도 행렬과 동일한 결과를 얻을 수 있으나, 확률을 가중치로 사용시 부정확한 결과를 얻을 수 있음"
   ]
  },
  {
   "cell_type": "code",
   "execution_count": 27,
   "metadata": {},
   "outputs": [
    {
     "name": "stdout",
     "output_type": "stream",
     "text": [
      "['I', 'love', 'data', 'science', 'and', 'deep', 'know', 'this']\n",
      "[('I', 'love'), ('I', 'know'), ('love', 'data'), ('love', 'science'), ('data', 'science'), ('science', 'and'), ('and', 'deep'), ('know', 'this')]\n",
      "{'weight': 2}\n",
      "{'weight': 1}\n",
      "{'weight': 0.6666666666666666}\n",
      "{'weight': 0.3333333333333333}\n"
     ]
    }
   ],
   "source": [
    "prob_G = nx.from_pandas_adjacency(df)\n",
    "\n",
    "print(prob_G.nodes())\n",
    "print(prob_G.edges())\n",
    "\n",
    "print(G.edges()[('I', 'love')])         # I와 Love 사이에 있는 가중치가 2라는 것은 2번 연속 등장 했던 것을 의미한다.\n",
    "print(G.edges()[('I', 'know')])\n",
    "\n",
    "print(prob_G.edges()[('I', 'love')])    # I와 Love가 동시에 등장할 확률을 의미\n",
    "print(prob_G.edges()[('I', 'know')])"
   ]
  },
  {
   "cell_type": "code",
   "execution_count": 29,
   "metadata": {},
   "outputs": [
    {
     "data": {
      "image/png": "[encoded data removed]",
      "text/plain": [
       "<Figure size 432x288 with 1 Axes>"
      ]
     },
     "metadata": {},
     "output_type": "display_data"
    }
   ],
   "source": [
    "nx.draw(prob_G, with_labels=True)"
   ]
  }
 ],
 "metadata": {
  "interpreter": {
   "hash": "b3d248056fa68818de2d262d28f08c17eec72d9a948bd5f949ae4b63a5944d4e"
  },
  "kernelspec": {
   "display_name": "Python 3.7.11 64-bit ('py37': conda)",
   "language": "python",
   "name": "python3"
  },
  "language_info": {
   "codemirror_mode": {
    "name": "ipython",
    "version": 3
   },
   "file_extension": ".py",
   "mimetype": "text/x-python",
   "name": "python",
   "nbconvert_exporter": "python",
   "pygments_lexer": "ipython3",
   "version": "3.7.11"
  },
  "orig_nbformat": 4
 },
 "nbformat": 4,
 "nbformat_minor": 2
}
