{
 "cells": [
  {
   "cell_type": "markdown",
   "metadata": {},
   "source": [
    "Upsampling 기법\n",
    "   - Interpolation-based Interpolation\n",
    "      - Nearest-neighbor Interpolation\n",
    "      - Bilinear Interpolation\n",
    "      - Bicubic Interpolation\n",
    "   - Learning-based upsampling\n",
    "      - Transpose Convolution Layer : 저해상도 이미지 확장 후 Convolution 연산 진행\n",
    "      - Sub-pixel Convolution Layer : Convolution 연산 후 pixel별로 모음\n"
   ]
  },
  {
   "cell_type": "code",
   "execution_count": null,
   "metadata": {},
   "outputs": [],
   "source": []
  }
 ],
 "metadata": {
  "language_info": {
   "name": "python"
  },
  "orig_nbformat": 4
 },
 "nbformat": 4,
 "nbformat_minor": 2
}
