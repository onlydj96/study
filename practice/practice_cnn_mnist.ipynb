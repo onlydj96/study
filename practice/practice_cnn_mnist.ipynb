{
 "cells": [
  {
   "cell_type": "code",
   "execution_count": 1,
   "metadata": {},
   "outputs": [],
   "source": [
    "from tensorflow.keras.datasets import mnist\n",
    "from tensorflow.keras.models import Sequential\n",
    "from tensorflow.keras.layers import Dense, Dropout, Conv2D, MaxPool2D, Flatten\n",
    "import time\n",
    "import matplotlib.pyplot as plt\n",
    "import numpy as np\n",
    "import pandas as pd"
   ]
  },
  {
   "cell_type": "markdown",
   "metadata": {},
   "source": [
    "데이터 로드 및 전처리"
   ]
  },
  {
   "cell_type": "code",
   "execution_count": 49,
   "metadata": {},
   "outputs": [
    {
     "name": "stdout",
     "output_type": "stream",
     "text": [
      "(60000, 28, 28) (10000, 28, 28)\n"
     ]
    }
   ],
   "source": [
    "(x_train, y_train), (x_test, y_test) = mnist.load_data()\n",
    "\n",
    "print(x_train.shape, x_test.shape)"
   ]
  },
  {
   "cell_type": "code",
   "execution_count": 50,
   "metadata": {},
   "outputs": [
    {
     "name": "stdout",
     "output_type": "stream",
     "text": [
      "[0 1 2 3 4 5 6 7 8 9]\n"
     ]
    }
   ],
   "source": [
    "x_train = x_train.reshape(60000, 28, 28, 1)\n",
    "x_test = x_test.reshape(10000, 28, 28, 1)\n",
    "\n",
    "print(np.unique(y_train))"
   ]
  },
  {
   "cell_type": "code",
   "execution_count": 52,
   "metadata": {},
   "outputs": [
    {
     "name": "stdout",
     "output_type": "stream",
     "text": [
      "(60000, 10) (10000, 10)\n"
     ]
    }
   ],
   "source": [
    "y_train = pd.get_dummies(y_train)\n",
    "y_test = pd.get_dummies(y_test)\n",
    "\n",
    "print(y_train.shape, y_test.shape)\n"
   ]
  },
  {
   "cell_type": "markdown",
   "metadata": {},
   "source": [
    "모델구성"
   ]
  },
  {
   "cell_type": "code",
   "execution_count": 70,
   "metadata": {},
   "outputs": [],
   "source": [
    "def model_mnist():\n",
    "    model = Sequential()\n",
    "    model.add(Conv2D(5, kernel_size=(2,2), input_shape=(28, 28, 1)))   # 27, 27, 6\n",
    "    model.add(Conv2D(4, (3, 3), activation='relu'))   # 7, 7, 5\n",
    "    model.add(Conv2D(3, (2, 2), activation='relu'))   # 6, 6, 7\n",
    "    model.add(Flatten())\n",
    "    \n",
    "    model.add(Dense(60))\n",
    "    model.add(Dropout(0.2))\n",
    "    model.add(Dense(30))\n",
    "    model.add(Dense(10, activation='softmax'))\n",
    "    \n",
    "    model.compile(loss='categorical_crossentropy', \n",
    "                  optimizer='adam',\n",
    "                  metrics=['accuracy'])\n",
    "    \n",
    "    return model"
   ]
  },
  {
   "cell_type": "code",
   "execution_count": 71,
   "metadata": {},
   "outputs": [
    {
     "name": "stdout",
     "output_type": "stream",
     "text": [
      "Model: \"sequential_18\"\n",
      "_________________________________________________________________\n",
      "Layer (type)                 Output Shape              Param #   \n",
      "=================================================================\n",
      "conv2d_35 (Conv2D)           (None, 27, 27, 5)         25        \n",
      "_________________________________________________________________\n",
      "conv2d_36 (Conv2D)           (None, 25, 25, 4)         184       \n",
      "_________________________________________________________________\n",
      "conv2d_37 (Conv2D)           (None, 24, 24, 3)         51        \n",
      "_________________________________________________________________\n",
      "flatten_17 (Flatten)         (None, 1728)              0         \n",
      "_________________________________________________________________\n",
      "dense_34 (Dense)             (None, 60)                103740    \n",
      "_________________________________________________________________\n",
      "dropout (Dropout)            (None, 60)                0         \n",
      "_________________________________________________________________\n",
      "dense_35 (Dense)             (None, 30)                1830      \n",
      "_________________________________________________________________\n",
      "dense_36 (Dense)             (None, 10)                310       \n",
      "=================================================================\n",
      "Total params: 106,140\n",
      "Trainable params: 106,140\n",
      "Non-trainable params: 0\n",
      "_________________________________________________________________\n"
     ]
    }
   ],
   "source": [
    "model = model_mnist()\n",
    "model.summary()\n"
   ]
  },
  {
   "cell_type": "code",
   "execution_count": 72,
   "metadata": {},
   "outputs": [
    {
     "name": "stdout",
     "output_type": "stream",
     "text": [
      "Epoch 1/50\n",
      "160/160 [==============================] - 6s 37ms/step - loss: 5.9286 - accuracy: 0.7808 - val_loss: 0.7397 - val_accuracy: 0.9165\n",
      "Epoch 2/50\n",
      "160/160 [==============================] - 6s 37ms/step - loss: 0.7887 - accuracy: 0.8915 - val_loss: 0.3871 - val_accuracy: 0.9329\n",
      "Epoch 3/50\n",
      "160/160 [==============================] - 6s 36ms/step - loss: 0.4082 - accuracy: 0.9155 - val_loss: 0.2486 - val_accuracy: 0.9451\n",
      "Epoch 4/50\n",
      "160/160 [==============================] - 5s 34ms/step - loss: 0.2632 - accuracy: 0.9308 - val_loss: 0.2001 - val_accuracy: 0.9492\n",
      "Epoch 5/50\n",
      "160/160 [==============================] - 6s 36ms/step - loss: 0.2043 - accuracy: 0.9423 - val_loss: 0.1719 - val_accuracy: 0.9537\n",
      "Epoch 6/50\n",
      "160/160 [==============================] - 6s 37ms/step - loss: 0.1644 - accuracy: 0.9509 - val_loss: 0.1550 - val_accuracy: 0.9581\n",
      "Epoch 7/50\n",
      "160/160 [==============================] - 6s 36ms/step - loss: 0.1404 - accuracy: 0.9564 - val_loss: 0.1473 - val_accuracy: 0.9595\n",
      "Epoch 8/50\n",
      "160/160 [==============================] - 6s 37ms/step - loss: 0.1220 - accuracy: 0.9627 - val_loss: 0.1408 - val_accuracy: 0.9631\n",
      "Epoch 9/50\n",
      "160/160 [==============================] - 6s 38ms/step - loss: 0.1084 - accuracy: 0.9654 - val_loss: 0.1411 - val_accuracy: 0.9634\n",
      "Epoch 10/50\n",
      "160/160 [==============================] - 6s 37ms/step - loss: 0.0990 - accuracy: 0.9682 - val_loss: 0.1344 - val_accuracy: 0.9651\n",
      "Epoch 11/50\n",
      "160/160 [==============================] - 6s 37ms/step - loss: 0.0897 - accuracy: 0.9709 - val_loss: 0.1295 - val_accuracy: 0.9665\n",
      "Epoch 12/50\n",
      "160/160 [==============================] - 6s 38ms/step - loss: 0.0817 - accuracy: 0.9726 - val_loss: 0.1283 - val_accuracy: 0.9678\n",
      "Epoch 13/50\n",
      "160/160 [==============================] - 6s 38ms/step - loss: 0.0773 - accuracy: 0.9746 - val_loss: 0.1246 - val_accuracy: 0.9678\n",
      "Epoch 14/50\n",
      "160/160 [==============================] - 6s 37ms/step - loss: 0.0687 - accuracy: 0.9771 - val_loss: 0.1265 - val_accuracy: 0.9682\n",
      "Epoch 15/50\n",
      "160/160 [==============================] - 6s 37ms/step - loss: 0.0664 - accuracy: 0.9773 - val_loss: 0.1314 - val_accuracy: 0.9663\n",
      "Epoch 16/50\n",
      "160/160 [==============================] - 6s 38ms/step - loss: 0.0615 - accuracy: 0.9791 - val_loss: 0.1283 - val_accuracy: 0.9663\n",
      "Epoch 17/50\n",
      "160/160 [==============================] - 6s 38ms/step - loss: 0.0591 - accuracy: 0.9805 - val_loss: 0.1283 - val_accuracy: 0.9673\n",
      "Epoch 18/50\n",
      "160/160 [==============================] - 6s 37ms/step - loss: 0.0551 - accuracy: 0.9814 - val_loss: 0.1319 - val_accuracy: 0.9666\n",
      "Epoch 19/50\n",
      "160/160 [==============================] - 6s 38ms/step - loss: 0.0530 - accuracy: 0.9822 - val_loss: 0.1366 - val_accuracy: 0.9675\n",
      "Epoch 20/50\n",
      "160/160 [==============================] - 6s 37ms/step - loss: 0.0528 - accuracy: 0.9813 - val_loss: 0.1370 - val_accuracy: 0.9688\n",
      "Epoch 21/50\n",
      "160/160 [==============================] - 6s 38ms/step - loss: 0.0467 - accuracy: 0.9831 - val_loss: 0.1347 - val_accuracy: 0.9682\n",
      "Epoch 22/50\n",
      "160/160 [==============================] - 6s 37ms/step - loss: 0.0458 - accuracy: 0.9836 - val_loss: 0.1458 - val_accuracy: 0.9687\n",
      "Epoch 23/50\n",
      "160/160 [==============================] - 6s 38ms/step - loss: 0.0437 - accuracy: 0.9843 - val_loss: 0.1373 - val_accuracy: 0.9708\n",
      "Epoch 24/50\n",
      "160/160 [==============================] - 6s 37ms/step - loss: 0.0412 - accuracy: 0.9854 - val_loss: 0.1340 - val_accuracy: 0.9715\n",
      "Epoch 25/50\n",
      "160/160 [==============================] - 6s 38ms/step - loss: 0.0432 - accuracy: 0.9848 - val_loss: 0.1362 - val_accuracy: 0.9716\n",
      "Epoch 26/50\n",
      "160/160 [==============================] - 6s 38ms/step - loss: 0.0381 - accuracy: 0.9870 - val_loss: 0.1416 - val_accuracy: 0.9698\n",
      "Epoch 27/50\n",
      "160/160 [==============================] - 6s 37ms/step - loss: 0.0387 - accuracy: 0.9864 - val_loss: 0.1414 - val_accuracy: 0.9701\n",
      "Epoch 28/50\n",
      "160/160 [==============================] - 6s 37ms/step - loss: 0.0358 - accuracy: 0.9875 - val_loss: 0.1472 - val_accuracy: 0.9718\n",
      "Restoring model weights from the end of the best epoch.\n",
      "Epoch 00028: early stopping\n"
     ]
    }
   ],
   "source": [
    "from tensorflow.keras.callbacks import EarlyStopping\n",
    "es = EarlyStopping(monitor='val_loss', mode='auto', patience=15, verbose=1, restore_best_weights=True)\n",
    "hist = model.fit(x_train, y_train, epochs=50, validation_split=0.2, batch_size=300, callbacks=[es])"
   ]
  },
  {
   "cell_type": "markdown",
   "metadata": {},
   "source": [
    "시각화"
   ]
  },
  {
   "cell_type": "code",
   "execution_count": 73,
   "metadata": {},
   "outputs": [
    {
     "data": {
      "text/plain": [
       "<matplotlib.legend.Legend at 0x25af0e6d790>"
      ]
     },
     "execution_count": 73,
     "metadata": {},
     "output_type": "execute_result"
    },
    {
     "data": {
      "image/png": "[encoded data removed]",
      "text/plain": [
       "<Figure size 432x288 with 1 Axes>"
      ]
     },
     "metadata": {
      "needs_background": "light"
     },
     "output_type": "display_data"
    },
    {
     "data": {
      "image/png": "[encoded data removed]",
      "text/plain": [
       "<Figure size 432x288 with 1 Axes>"
      ]
     },
     "metadata": {
      "needs_background": "light"
     },
     "output_type": "display_data"
    }
   ],
   "source": [
    "loss = hist.history['loss']\n",
    "val_loss = hist.history['val_loss']\n",
    "acc = hist.history['accuracy']\n",
    "val_acc = hist.history['val_accuracy']\n",
    "\n",
    "epochs = range(1, len(loss) + 1)\n",
    "\n",
    "plt.plot(epochs, loss, 'r--', label='training loss')\n",
    "plt.plot(epochs, val_loss, 'b:', label='training val_loss')\n",
    "plt.grid()\n",
    "plt.legend()\n",
    "\n",
    "plt.figure()\n",
    "plt.plot(epochs, acc, 'b--', label='training accuracy')\n",
    "plt.plot(epochs, val_acc, 'r:', label='validation accuracy')\n",
    "plt.grid()\n",
    "plt.legend()"
   ]
  },
  {
   "cell_type": "code",
   "execution_count": 76,
   "metadata": {},
   "outputs": [
    {
     "name": "stdout",
     "output_type": "stream",
     "text": [
      "313/313 [==============================] - 1s 3ms/step - loss: 0.1189 - accuracy: 0.9682\n"
     ]
    }
   ],
   "source": [
    "hist2 = model.evaluate(x_test, y_test)\n",
    "results = model.predict(x_test)"
   ]
  },
  {
   "cell_type": "code",
   "execution_count": null,
   "metadata": {},
   "outputs": [],
   "source": []
  }
 ],
 "metadata": {
  "interpreter": {
   "hash": "b3ba2566441a7c06988d0923437866b63cedc61552a5af99d1f4fb67d367b25f"
  },
  "kernelspec": {
   "display_name": "Python 3.9.7 64-bit ('base': conda)",
   "language": "python",
   "name": "python3"
  },
  "language_info": {
   "codemirror_mode": {
    "name": "ipython",
    "version": 3
   },
   "file_extension": ".py",
   "mimetype": "text/x-python",
   "name": "python",
   "nbconvert_exporter": "python",
   "pygments_lexer": "ipython3",
   "version": "3.9.7"
  },
  "orig_nbformat": 4
 },
 "nbformat": 4,
 "nbformat_minor": 2
}
