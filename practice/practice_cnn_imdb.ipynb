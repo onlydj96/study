{
 "cells": [
  {
   "cell_type": "markdown",
   "metadata": {},
   "source": [
    "데이터 로드"
   ]
  },
  {
   "cell_type": "code",
   "execution_count": 11,
   "metadata": {},
   "outputs": [],
   "source": [
    "from tensorflow.keras.datasets import imdb\n",
    "from tensorflow.keras.preprocessing.sequence import pad_sequences\n",
    "from tensorflow.keras.models import Sequential\n",
    "from tensorflow.keras.layers import Dense, Embedding, Conv1D, MaxPool1D, GlobalMaxPool1D\n",
    "import matplotlib.pyplot as plt"
   ]
  },
  {
   "cell_type": "markdown",
   "metadata": {},
   "source": [
    "데이터 전처리"
   ]
  },
  {
   "cell_type": "code",
   "execution_count": 2,
   "metadata": {},
   "outputs": [
    {
     "name": "stderr",
     "output_type": "stream",
     "text": [
      "<__array_function__ internals>:5: VisibleDeprecationWarning: Creating an ndarray from ragged nested sequences (which is a list-or-tuple of lists-or-tuples-or ndarrays with different lengths or shapes) is deprecated. If you meant to do this, you must specify 'dtype=object' when creating the ndarray\n",
      "C:\\ProgramData\\Anaconda3\\lib\\site-packages\\tensorflow\\python\\keras\\datasets\\imdb.py:155: VisibleDeprecationWarning: Creating an ndarray from ragged nested sequences (which is a list-or-tuple of lists-or-tuples-or ndarrays with different lengths or shapes) is deprecated. If you meant to do this, you must specify 'dtype=object' when creating the ndarray\n",
      "  x_train, y_train = np.array(xs[:idx]), np.array(labels[:idx])\n"
     ]
    },
    {
     "name": "stdout",
     "output_type": "stream",
     "text": [
      "25000\n",
      "25000\n"
     ]
    },
    {
     "name": "stderr",
     "output_type": "stream",
     "text": [
      "C:\\ProgramData\\Anaconda3\\lib\\site-packages\\tensorflow\\python\\keras\\datasets\\imdb.py:156: VisibleDeprecationWarning: Creating an ndarray from ragged nested sequences (which is a list-or-tuple of lists-or-tuples-or ndarrays with different lengths or shapes) is deprecated. If you meant to do this, you must specify 'dtype=object' when creating the ndarray\n",
      "  x_test, y_test = np.array(xs[idx:]), np.array(labels[idx:])\n"
     ]
    }
   ],
   "source": [
    "num_words = 10000\n",
    "max_len = 500\n",
    "batch_size = 32\n",
    "\n",
    "(input_train, y_train), (input_test, y_test) = imdb.load_data(num_words=num_words)\n",
    "\n",
    "print(len(input_train))\n",
    "print(len(input_test))"
   ]
  },
  {
   "cell_type": "code",
   "execution_count": 7,
   "metadata": {},
   "outputs": [
    {
     "name": "stdout",
     "output_type": "stream",
     "text": [
      "(25000, 500)\n",
      "(25000, 500)\n"
     ]
    }
   ],
   "source": [
    "pad_x_train = pad_sequences(input_train, maxlen=max_len)\n",
    "pad_x_test = pad_sequences(input_test, maxlen=max_len)\n",
    "\n",
    "print(pad_x_train.shape)\n",
    "print(pad_x_test.shape)"
   ]
  },
  {
   "cell_type": "markdown",
   "metadata": {},
   "source": [
    "모델 구성"
   ]
  },
  {
   "cell_type": "code",
   "execution_count": 15,
   "metadata": {},
   "outputs": [],
   "source": [
    "from tensorflow.keras.optimizers import RMSprop\n",
    "def build_model():\n",
    "    model = Sequential()\n",
    "    \n",
    "    model.add(Embedding(input_dim=num_words, output_dim=32, input_length=max_len))\n",
    "    model.add(Conv1D(32, 7, activation='relu'))\n",
    "    model.add(MaxPool1D(7))\n",
    "    model.add(Conv1D(32, 5, activation='relu'))\n",
    "    model.add(MaxPool1D(5))\n",
    "    model.add(GlobalMaxPool1D())\n",
    "    model.add(Dense(1, activation='sigmoid'))\n",
    "    \n",
    "    model.compile(optimizer=RMSprop(learning_rate=1e-4), \n",
    "                  loss='binary_crossentropy', \n",
    "                  metrics=['accuracy'])\n",
    "    \n",
    "    return model"
   ]
  },
  {
   "cell_type": "code",
   "execution_count": 16,
   "metadata": {},
   "outputs": [
    {
     "name": "stdout",
     "output_type": "stream",
     "text": [
      "Model: \"sequential_2\"\n",
      "_________________________________________________________________\n",
      "Layer (type)                 Output Shape              Param #   \n",
      "=================================================================\n",
      "embedding_2 (Embedding)      (None, 500, 32)           320000    \n",
      "_________________________________________________________________\n",
      "conv1d_4 (Conv1D)            (None, 494, 32)           7200      \n",
      "_________________________________________________________________\n",
      "max_pooling1d_4 (MaxPooling1 (None, 70, 32)            0         \n",
      "_________________________________________________________________\n",
      "conv1d_5 (Conv1D)            (None, 66, 32)            5152      \n",
      "_________________________________________________________________\n",
      "max_pooling1d_5 (MaxPooling1 (None, 13, 32)            0         \n",
      "_________________________________________________________________\n",
      "global_max_pooling1d_2 (Glob (None, 32)                0         \n",
      "_________________________________________________________________\n",
      "dense_2 (Dense)              (None, 1)                 33        \n",
      "=================================================================\n",
      "Total params: 332,385\n",
      "Trainable params: 332,385\n",
      "Non-trainable params: 0\n",
      "_________________________________________________________________\n"
     ]
    }
   ],
   "source": [
    "model = build_model()\n",
    "model.summary()"
   ]
  },
  {
   "cell_type": "code",
   "execution_count": 17,
   "metadata": {},
   "outputs": [
    {
     "name": "stdout",
     "output_type": "stream",
     "text": [
      "Epoch 1/30\n",
      "157/157 [==============================] - 6s 37ms/step - loss: 0.6929 - accuracy: 0.5133 - val_loss: 0.6922 - val_accuracy: 0.5642\n",
      "Epoch 2/30\n",
      "157/157 [==============================] - 6s 35ms/step - loss: 0.6907 - accuracy: 0.5974 - val_loss: 0.6912 - val_accuracy: 0.5932\n",
      "Epoch 3/30\n",
      "157/157 [==============================] - 6s 36ms/step - loss: 0.6879 - accuracy: 0.6783 - val_loss: 0.6888 - val_accuracy: 0.6534\n",
      "Epoch 4/30\n",
      "157/157 [==============================] - 6s 36ms/step - loss: 0.6829 - accuracy: 0.7330 - val_loss: 0.6823 - val_accuracy: 0.6822\n",
      "Epoch 5/30\n",
      "157/157 [==============================] - 6s 38ms/step - loss: 0.6709 - accuracy: 0.7459 - val_loss: 0.6633 - val_accuracy: 0.7392\n",
      "Epoch 6/30\n",
      "157/157 [==============================] - 6s 36ms/step - loss: 0.6405 - accuracy: 0.7713 - val_loss: 0.6194 - val_accuracy: 0.7636\n",
      "Epoch 7/30\n",
      "157/157 [==============================] - 6s 36ms/step - loss: 0.5794 - accuracy: 0.7982 - val_loss: 0.5452 - val_accuracy: 0.8020\n",
      "Epoch 8/30\n",
      "157/157 [==============================] - 6s 36ms/step - loss: 0.4940 - accuracy: 0.8260 - val_loss: 0.4638 - val_accuracy: 0.8226\n",
      "Epoch 9/30\n",
      "157/157 [==============================] - 6s 36ms/step - loss: 0.4144 - accuracy: 0.8454 - val_loss: 0.4046 - val_accuracy: 0.8370\n",
      "Epoch 10/30\n",
      "157/157 [==============================] - 6s 36ms/step - loss: 0.3570 - accuracy: 0.8616 - val_loss: 0.3689 - val_accuracy: 0.8462\n",
      "Epoch 11/30\n",
      "157/157 [==============================] - 5s 34ms/step - loss: 0.3198 - accuracy: 0.8741 - val_loss: 0.3502 - val_accuracy: 0.8514\n",
      "Epoch 12/30\n",
      "157/157 [==============================] - 5s 33ms/step - loss: 0.2940 - accuracy: 0.8832 - val_loss: 0.3415 - val_accuracy: 0.8544\n",
      "Epoch 13/30\n",
      "157/157 [==============================] - 5s 32ms/step - loss: 0.2737 - accuracy: 0.8924 - val_loss: 0.3318 - val_accuracy: 0.8576\n",
      "Epoch 14/30\n",
      "157/157 [==============================] - 5s 32ms/step - loss: 0.2571 - accuracy: 0.8989 - val_loss: 0.3280 - val_accuracy: 0.8618\n",
      "Epoch 15/30\n",
      "157/157 [==============================] - 5s 32ms/step - loss: 0.2426 - accuracy: 0.9062 - val_loss: 0.3252 - val_accuracy: 0.8618\n",
      "Epoch 16/30\n",
      "157/157 [==============================] - 5s 33ms/step - loss: 0.2298 - accuracy: 0.9108 - val_loss: 0.3266 - val_accuracy: 0.8638\n",
      "Epoch 17/30\n",
      "157/157 [==============================] - 5s 32ms/step - loss: 0.2184 - accuracy: 0.9158 - val_loss: 0.3240 - val_accuracy: 0.8674\n",
      "Epoch 18/30\n",
      "157/157 [==============================] - 5s 32ms/step - loss: 0.2080 - accuracy: 0.9214 - val_loss: 0.3333 - val_accuracy: 0.8660\n",
      "Epoch 19/30\n",
      "157/157 [==============================] - 5s 33ms/step - loss: 0.1995 - accuracy: 0.9251 - val_loss: 0.3264 - val_accuracy: 0.8684\n",
      "Epoch 20/30\n",
      "157/157 [==============================] - 5s 32ms/step - loss: 0.1902 - accuracy: 0.9295 - val_loss: 0.3288 - val_accuracy: 0.8688\n",
      "Epoch 21/30\n",
      "157/157 [==============================] - 5s 32ms/step - loss: 0.1826 - accuracy: 0.9337 - val_loss: 0.3316 - val_accuracy: 0.8690\n",
      "Epoch 22/30\n",
      "157/157 [==============================] - 5s 33ms/step - loss: 0.1751 - accuracy: 0.9362 - val_loss: 0.3354 - val_accuracy: 0.8678\n",
      "Epoch 23/30\n",
      "157/157 [==============================] - 5s 34ms/step - loss: 0.1678 - accuracy: 0.9396 - val_loss: 0.3385 - val_accuracy: 0.8692\n",
      "Epoch 24/30\n",
      "157/157 [==============================] - 5s 32ms/step - loss: 0.1615 - accuracy: 0.9433 - val_loss: 0.3485 - val_accuracy: 0.8644\n",
      "Epoch 25/30\n",
      "157/157 [==============================] - 5s 33ms/step - loss: 0.1552 - accuracy: 0.9456 - val_loss: 0.3472 - val_accuracy: 0.8666\n",
      "Epoch 26/30\n",
      "157/157 [==============================] - 5s 32ms/step - loss: 0.1493 - accuracy: 0.9485 - val_loss: 0.3528 - val_accuracy: 0.8666\n",
      "Epoch 27/30\n",
      "157/157 [==============================] - 5s 33ms/step - loss: 0.1438 - accuracy: 0.9517 - val_loss: 0.3554 - val_accuracy: 0.8642\n",
      "Epoch 28/30\n",
      "157/157 [==============================] - 5s 33ms/step - loss: 0.1384 - accuracy: 0.9530 - val_loss: 0.3609 - val_accuracy: 0.8644\n",
      "Epoch 29/30\n",
      "157/157 [==============================] - 5s 33ms/step - loss: 0.1335 - accuracy: 0.9549 - val_loss: 0.3655 - val_accuracy: 0.8646\n",
      "Epoch 30/30\n",
      "157/157 [==============================] - 5s 33ms/step - loss: 0.1288 - accuracy: 0.9570 - val_loss: 0.3701 - val_accuracy: 0.8632\n"
     ]
    }
   ],
   "source": [
    "hist = model.fit(pad_x_train, y_train, epochs=30, batch_size=128,\n",
    "                 validation_split=0.2)"
   ]
  },
  {
   "cell_type": "markdown",
   "metadata": {},
   "source": [
    "시각화"
   ]
  },
  {
   "cell_type": "code",
   "execution_count": 18,
   "metadata": {},
   "outputs": [
    {
     "data": {
      "text/plain": [
       "<matplotlib.legend.Legend at 0x1d0905c58e0>"
      ]
     },
     "execution_count": 18,
     "metadata": {},
     "output_type": "execute_result"
    },
    {
     "data": {
      "image/png": "[encoded data removed]",
      "text/plain": [
       "<Figure size 432x288 with 1 Axes>"
      ]
     },
     "metadata": {
      "needs_background": "light"
     },
     "output_type": "display_data"
    },
    {
     "data": {
      "image/png": "[encoded data removed]",
      "text/plain": [
       "<Figure size 432x288 with 1 Axes>"
      ]
     },
     "metadata": {
      "needs_background": "light"
     },
     "output_type": "display_data"
    }
   ],
   "source": [
    "loss = hist.history['loss']\n",
    "val_loss = hist.history['val_loss']\n",
    "acc = hist.history['accuracy']\n",
    "val_acc = hist.history['val_accuracy']\n",
    "\n",
    "epochs = range(1, len(loss) + 1)\n",
    "\n",
    "plt.plot(epochs, loss, 'b--', label='training loss')\n",
    "plt.plot(epochs, val_loss, 'r:', label='validation loss')\n",
    "plt.grid()\n",
    "plt.legend()\n",
    "\n",
    "plt.figure()\n",
    "plt.plot(epochs, acc, 'b--', label='training accuracy')\n",
    "plt.plot(epochs, val_acc, 'r:', label='validation accuracy')\n",
    "plt.grid()\n",
    "plt.legend()"
   ]
  },
  {
   "cell_type": "code",
   "execution_count": 13,
   "metadata": {},
   "outputs": [
    {
     "name": "stdout",
     "output_type": "stream",
     "text": [
      "782/782 [==============================] - 2s 3ms/step - loss: 1.3081 - accuracy: 0.8280\n"
     ]
    },
    {
     "data": {
      "text/plain": [
       "[1.3080860376358032, 0.828000009059906]"
      ]
     },
     "execution_count": 13,
     "metadata": {},
     "output_type": "execute_result"
    }
   ],
   "source": [
    "model.evaluate(pad_x_test, y_test)"
   ]
  }
 ],
 "metadata": {
  "interpreter": {
   "hash": "b3ba2566441a7c06988d0923437866b63cedc61552a5af99d1f4fb67d367b25f"
  },
  "kernelspec": {
   "display_name": "Python 3.9.7 64-bit ('base': conda)",
   "language": "python",
   "name": "python3"
  },
  "language_info": {
   "codemirror_mode": {
    "name": "ipython",
    "version": 3
   },
   "file_extension": ".py",
   "mimetype": "text/x-python",
   "name": "python",
   "nbconvert_exporter": "python",
   "pygments_lexer": "ipython3",
   "version": "3.9.7"
  },
  "orig_nbformat": 4
 },
 "nbformat": 4,
 "nbformat_minor": 2
}
