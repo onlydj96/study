{
 "cells": [
  {
   "cell_type": "code",
   "execution_count": 3,
   "metadata": {},
   "outputs": [],
   "source": [
    "import cv2\n",
    "import numpy as np\n",
    "import matplotlib.pyplot as plt\n",
    "\n",
    "from PIL import Image\n",
    "import requests  # 외부에 있는 이미지를 가져올 때 사용\n",
    "from io import BytesIO\n",
    "\n",
    "url = 'https://cdn.pixabay.com/photo/2018/10/01/09/21/pets-3715733_960_720.jpg'\n",
    "\n",
    "response = requests.get(url)\n",
    "pic = Image.open(BytesIO(response.content))\n",
    "\n",
    "pic_arr = np.asarray(pic)"
   ]
  },
  {
   "cell_type": "code",
   "execution_count": 4,
   "metadata": {},
   "outputs": [
    {
     "data": {
      "text/plain": [
       "array([[[215, 124, 141],\n",
       "        [215, 124, 141],\n",
       "        [215, 124, 141],\n",
       "        ...,\n",
       "        [233, 145, 169],\n",
       "        [233, 145, 169],\n",
       "        [233, 145, 169]],\n",
       "\n",
       "       [[215, 124, 141],\n",
       "        [215, 124, 141],\n",
       "        [215, 124, 141],\n",
       "        ...,\n",
       "        [233, 145, 169],\n",
       "        [233, 145, 169],\n",
       "        [233, 145, 169]],\n",
       "\n",
       "       [[215, 124, 141],\n",
       "        [215, 124, 141],\n",
       "        [215, 124, 141],\n",
       "        ...,\n",
       "        [233, 145, 169],\n",
       "        [233, 145, 169],\n",
       "        [233, 145, 169]],\n",
       "\n",
       "       ...,\n",
       "\n",
       "       [[210, 132, 145],\n",
       "        [211, 133, 146],\n",
       "        [211, 133, 146],\n",
       "        ...,\n",
       "        [231, 153, 179],\n",
       "        [230, 152, 178],\n",
       "        [229, 151, 177]],\n",
       "\n",
       "       [[210, 132, 145],\n",
       "        [211, 133, 146],\n",
       "        [211, 133, 146],\n",
       "        ...,\n",
       "        [229, 151, 177],\n",
       "        [229, 151, 177],\n",
       "        [229, 151, 177]],\n",
       "\n",
       "       [[210, 132, 145],\n",
       "        [211, 133, 146],\n",
       "        [211, 133, 146],\n",
       "        ...,\n",
       "        [228, 150, 176],\n",
       "        [230, 152, 178],\n",
       "        [231, 153, 179]]], dtype=uint8)"
      ]
     },
     "execution_count": 4,
     "metadata": {},
     "output_type": "execute_result"
    }
   ],
   "source": [
    "pic_arr"
   ]
  },
  {
   "cell_type": "markdown",
   "metadata": {},
   "source": [
    "이미지 출력(OpenCV)\n",
    " - from google.colab.patches import cv2_imshow (Colab에서 cv2를 불러올 때)\n",
    "   - 원래는 cv2.imshow"
   ]
  },
  {
   "cell_type": "code",
   "execution_count": 5,
   "metadata": {},
   "outputs": [],
   "source": [
    "cv2.imshow('DOG', pic_arr)\n",
    "cv2.waitKey(0)             # 이미지가 응답없음이 뜰 때\n",
    "cv2.destroyAllWindows() "
   ]
  },
  {
   "cell_type": "markdown",
   "metadata": {},
   "source": [
    "OpenCV의 채널 순서\n",
    "   - openCV를 통해 영상(이미지)을 다룰 때의 채널 순서는 B G R\n",
    "   - matplotlib은 R G B 순서\n"
   ]
  },
  {
   "cell_type": "markdown",
   "metadata": {},
   "source": [
    "cv2.cvtColor() : convert to color\n",
    "   - image array, 변경할 색공간을 인자로 넣어줌\n",
    "   - 변경할 색공간은 여러가지가 있다\n",
    "      - cv2.COLOR_BGR2RGB\n",
    "      - cv2.COLOR_RGB2GRAY\n",
    "      - cv2.COLOR_GRAY2RGB\n",
    "      - ..."
   ]
  },
  {
   "cell_type": "code",
   "execution_count": 6,
   "metadata": {},
   "outputs": [],
   "source": [
    "image = cv2.cvtColor(pic_arr, cv2.COLOR_RGB2BGR)\n",
    "cv2.imshow('dog', image)\n",
    "cv2.waitKey(0)\n",
    "cv2.destroyAllWindows()"
   ]
  },
  {
   "cell_type": "code",
   "execution_count": 16,
   "metadata": {},
   "outputs": [
    {
     "name": "stdout",
     "output_type": "stream",
     "text": [
      "[215 124 141]\n"
     ]
    }
   ],
   "source": [
    "print(image[0][0])"
   ]
  },
  {
   "cell_type": "markdown",
   "metadata": {},
   "source": [
    "   - image, pic_arr 비교\n",
    "      - 0 1 2 인덱스 중 0, 2가 바뀐 것을 알 수 있음"
   ]
  },
  {
   "cell_type": "code",
   "execution_count": 17,
   "metadata": {},
   "outputs": [
    {
     "name": "stdout",
     "output_type": "stream",
     "text": [
      "[215 124 141]\n",
      "[141 124 215]\n"
     ]
    }
   ],
   "source": [
    "print(image[0][0])\n",
    "print(pic_arr[0][0])"
   ]
  },
  {
   "cell_type": "markdown",
   "metadata": {},
   "source": [
    "   - (참고) array[:, :, ::-1]을 통해서도 인덱스 순서를 바꿀 수 있음\n"
   ]
  },
  {
   "cell_type": "code",
   "execution_count": 20,
   "metadata": {},
   "outputs": [],
   "source": [
    "temp_arr = pic_arr[:, :, ::-1]"
   ]
  },
  {
   "cell_type": "code",
   "execution_count": 23,
   "metadata": {},
   "outputs": [
    {
     "name": "stdout",
     "output_type": "stream",
     "text": [
      "[141 124 215]\n",
      "[215 124 141]\n"
     ]
    }
   ],
   "source": [
    "print(pic_arr[0][0])\n",
    "print(temp_arr[0][0])"
   ]
  }
 ],
 "metadata": {
  "interpreter": {
   "hash": "b3ba2566441a7c06988d0923437866b63cedc61552a5af99d1f4fb67d367b25f"
  },
  "kernelspec": {
   "display_name": "Python 3.9.7 64-bit ('base': conda)",
   "language": "python",
   "name": "python3"
  },
  "language_info": {
   "codemirror_mode": {
    "name": "ipython",
    "version": 3
   },
   "file_extension": ".py",
   "mimetype": "text/x-python",
   "name": "python",
   "nbconvert_exporter": "python",
   "pygments_lexer": "ipython3",
   "version": "3.9.7"
  },
  "orig_nbformat": 4
 },
 "nbformat": 4,
 "nbformat_minor": 2
}
