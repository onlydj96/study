{
 "cells": [
  {
   "cell_type": "code",
   "execution_count": 13,
   "metadata": {},
   "outputs": [],
   "source": [
    "import os\n",
    "from imageio import imread\n",
    "import numpy as np\n",
    "from PIL import Image"
   ]
  },
  {
   "cell_type": "code",
   "execution_count": 14,
   "metadata": {},
   "outputs": [],
   "source": [
    "BATCH_SIZE = 64\n",
    "DATA_X_PATH = '../downgraded/'\n",
    "DATA_Y_PATH = '../train'"
   ]
  },
  {
   "cell_type": "code",
   "execution_count": 15,
   "metadata": {},
   "outputs": [],
   "source": [
    "def get_image_list(path):\n",
    "    l = os.listdir(path)\n",
    "    train_list = []\n",
    "    for f in l:\n",
    "        if f[-4:] == '.png' or '.jpg':\n",
    "            train_list.append(f)\n",
    "    return train_list"
   ]
  },
  {
   "cell_type": "code",
   "execution_count": 16,
   "metadata": {},
   "outputs": [],
   "source": [
    "img_list = get_image_list(DATA_X_PATH)\n",
    "imgs_to_train = len(img_list) *  (7, 3)[0] // 10\n",
    "train_list = img_list[:imgs_to_train]\n",
    "test_list = img_list[imgs_to_train:]"
   ]
  },
  {
   "cell_type": "code",
   "execution_count": 17,
   "metadata": {},
   "outputs": [],
   "source": [
    "def get_image_batch(target_list, offset):\n",
    "    target = target_list[offset:offset+BATCH_SIZE]\n",
    "    batch_x = []\n",
    "    batch_y = []\n",
    "    for t in target:\n",
    "        x = imread(os.path.join(DATA_X_PATH, t))\n",
    "        y = imread(os.path.join(DATA_Y_PATH, t))\n",
    "        x = resized_img = Image.fromarray(x).resize(size=(128, 128 ,3))\n",
    "        batch_x.append(x)\n",
    "        batch_y.append(y)\n",
    "    batch_x = np.array(batch_x)/127.5 - 1.\n",
    "    batch_y = np.array(batch_y)/127.5 - 1.\n",
    "    return batch_x, batch_y"
   ]
  },
  {
   "cell_type": "code",
   "execution_count": 19,
   "metadata": {},
   "outputs": [],
   "source": [
    "def image_gen(target_list):\n",
    "    while True:\n",
    "        for step in range(len(target_list)//BATCH_SIZE):\n",
    "            offset = step*BATCH_SIZE\n",
    "            batch_x, batch_y = get_image_batch(target_list, offset)\n",
    "            yield (batch_x, batch_y)"
   ]
  },
  {
   "cell_type": "code",
   "execution_count": null,
   "metadata": {},
   "outputs": [],
   "source": []
  }
 ],
 "metadata": {
  "interpreter": {
   "hash": "3b2a3e2f2f3becee12495ea02e16c44ac6a87253b3da619be1b2ce1aceff9a27"
  },
  "kernelspec": {
   "display_name": "Python 3.9.7 64-bit ('tf270gpu': conda)",
   "language": "python",
   "name": "python3"
  },
  "language_info": {
   "codemirror_mode": {
    "name": "ipython",
    "version": 3
   },
   "file_extension": ".py",
   "mimetype": "text/x-python",
   "name": "python",
   "nbconvert_exporter": "python",
   "pygments_lexer": "ipython3",
   "version": "3.9.7"
  },
  "orig_nbformat": 4
 },
 "nbformat": 4,
 "nbformat_minor": 2
}
