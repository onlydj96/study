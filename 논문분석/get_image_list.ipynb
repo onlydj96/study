{
 "cells": [
  {
   "cell_type": "code",
   "execution_count": 4,
   "metadata": {},
   "outputs": [],
   "source": [
    "import os\n",
    "import re\n",
    "import glob"
   ]
  },
  {
   "cell_type": "code",
   "execution_count": 5,
   "metadata": {},
   "outputs": [],
   "source": [
    "def get_image_list(path):\n",
    "    l = os.listdir(path)\n",
    "    train_list = []\n",
    "    for f in l:\n",
    "        if f[-4:] == '.png' or '.jpg':\n",
    "            train_list.append(f)\n",
    "    return train_list"
   ]
  },
  {
   "cell_type": "code",
   "execution_count": 7,
   "metadata": {},
   "outputs": [
    {
     "data": {
      "text/plain": [
       "1500"
      ]
     },
     "execution_count": 7,
     "metadata": {},
     "output_type": "execute_result"
    }
   ],
   "source": [
    "img = get_image_list('../train/')\n",
    "len(img)"
   ]
  },
  {
   "cell_type": "code",
   "execution_count": null,
   "metadata": {},
   "outputs": [],
   "source": [
    "def get_image_list(data_path, scales=[2, 3, 4]):\n",
    "    l = glob.glob(os.path.join(data_path,\"*\"))\n",
    "\t# print(len(l))\n",
    "    l = [f for f in l if re.search(\"^\\d+.mat$\", os.path.basename(f))]\n",
    "\t# print(len(l))\n",
    "    train_list = []\n",
    "    for f in l:\n",
    "        if os.path.exists(f):\t\n",
    "            for i in range(len(scales)):\n",
    "                scale = scales[i]\n",
    "                string_scale = \"_\" + str(scale) + \".mat\"\n",
    "                if os.path.exists(f[:-4]+string_scale): train_list.append([f, f[:-4]+string_scale])\n",
    "    return train_list"
   ]
  },
  {
   "cell_type": "markdown",
   "metadata": {},
   "source": [
    "image_get_list는 파일을 순서대로 불러와서 리스트 형태안에 파일의 이름을 넣는 함수이다"
   ]
  }
 ],
 "metadata": {
  "interpreter": {
   "hash": "3b2a3e2f2f3becee12495ea02e16c44ac6a87253b3da619be1b2ce1aceff9a27"
  },
  "kernelspec": {
   "display_name": "Python 3.9.7 64-bit ('tf270gpu': conda)",
   "language": "python",
   "name": "python3"
  },
  "language_info": {
   "codemirror_mode": {
    "name": "ipython",
    "version": 3
   },
   "file_extension": ".py",
   "mimetype": "text/x-python",
   "name": "python",
   "nbconvert_exporter": "python",
   "pygments_lexer": "ipython3",
   "version": "3.9.7"
  },
  "orig_nbformat": 4
 },
 "nbformat": 4,
 "nbformat_minor": 2
}
