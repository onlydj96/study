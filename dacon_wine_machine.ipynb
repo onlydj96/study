{
 "cells": [
  {
   "cell_type": "code",
   "execution_count": 2,
   "metadata": {},
   "outputs": [],
   "source": [
    "import numpy as np\n",
    "import pandas as pd\n",
    "import optuna\n",
    "from lightgbm import LGBMClassifier\n",
    "from sklearn.model_selection import StratifiedKFold\n",
    "from optuna.samplers import TPESampler\n",
    "from optuna.pruners import SuccessiveHalvingPruner"
   ]
  },
  {
   "cell_type": "code",
   "execution_count": 3,
   "metadata": {},
   "outputs": [],
   "source": [
    "# 훈련 데이터 불러오기\n",
    "df = pd.read_csv('../_data/dacon/wine/train.csv')"
   ]
  },
  {
   "cell_type": "code",
   "execution_count": 4,
   "metadata": {},
   "outputs": [],
   "source": [
    "# 타입 변경\n",
    "# white -> 0, red -> 1\n",
    "type_to_num = {'white':0, 'red':1}\n",
    "df['type'] = df['type'].replace(type_to_num)"
   ]
  },
  {
   "cell_type": "code",
   "execution_count": 6,
   "metadata": {},
   "outputs": [],
   "source": [
    "# 퀄리티 변경\n",
    "# 4 -> 0, 5 -> 1, 6 -> 2, 7 -> 3, 8 -> 4\n",
    "quality_to_num = {4:0, 5:1, 6:2, 7:3, 8:4}\n",
    "df['quality'] = df['quality'].replace(quality_to_num)\n",
    "\n",
    "# Feature, Target 지정\n",
    "features = ['fixed acidity', 'volatile acidity', 'citric acid', 'residual sugar', \n",
    "            'chlorides', 'free sulfur dioxide', 'total sulfur dioxide', 'density', \n",
    "            'pH', 'sulphates', 'alcohol', 'type']\n",
    "target = 'quality'\n",
    "\n"
   ]
  },
  {
   "cell_type": "code",
   "execution_count": 7,
   "metadata": {},
   "outputs": [],
   "source": [
    "# 교차 검증용 데이터셋 구성\n",
    "df_trains = []\n",
    "df_valids = []\n",
    "skf = StratifiedKFold(n_splits=5, random_state=0, shuffle=True)\n",
    "for train_index, valid_index in skf.split(df[features], df[target]):\n",
    "    df_train = df.loc[train_index]\n",
    "    df_valid = df.loc[valid_index]\n",
    "    df_trains.append(df_train)\n",
    "    df_valids.append(df_valid)"
   ]
  },
  {
   "cell_type": "code",
   "execution_count": 8,
   "metadata": {},
   "outputs": [],
   "source": [
    "def accuracy(true, pred):\n",
    "    return np.mean(true==pred)\n",
    "\n",
    "def objective(trial):\n",
    "    params = {\n",
    "        'num_leaves': trial.suggest_int('num_leaves', 2, 1024, step=1, log=True), \n",
    "        'max_depth': trial.suggest_int('max_depth', 1, 10, step=1, log=False), \n",
    "        'learning_rate': trial.suggest_float('learning_rate', 0.0001, 0.1, log=True), \n",
    "        'n_estimators': trial.suggest_int('n_estimators', 8, 1024, step=1, log=True), \n",
    "        'objective': 'multiclass', \n",
    "        'class_weight': trial.suggest_categorical('class_weight', ['balanced', None]),\n",
    "        'min_child_samples': trial.suggest_int('min_child_samples', 10, 50, step=1, log=False), \n",
    "        'subsample': trial.suggest_uniform('subsample', 0.7, 1.0), \n",
    "        'colsample_bytree': trial.suggest_uniform('colsample_bytree', 0.7, 1.0),\n",
    "        'reg_alpha': trial.suggest_uniform('reg_alpha', 0.0, 1.0),\n",
    "        'reg_lambda': trial.suggest_uniform('reg_lambda', 0.0, 10.0),\n",
    "        'random_state': 0\n",
    "    }\n",
    "    \n",
    "    score = []\n",
    "    for df_train, df_valid in zip(df_trains, df_valids):\n",
    "        clf = LGBMClassifier(**params)\n",
    "        clf.fit(df_train[features], df_train[target])\n",
    "        \n",
    "        pred = clf.predict(df_valid[features])\n",
    "        true = df_valid[target].values\n",
    "        score.append(accuracy(true, pred))\n",
    "    score = np.mean(score)\n",
    "    return score\n"
   ]
  },
  {
   "cell_type": "code",
   "execution_count": 9,
   "metadata": {},
   "outputs": [
    {
     "name": "stderr",
     "output_type": "stream",
     "text": [
      "\u001b[32m[I 2021-12-10 16:01:42,513]\u001b[0m A new study created in memory with name: no-name-89ffbb91-b209-4f53-a13b-193731debba6\u001b[0m\n",
      "\u001b[32m[I 2021-12-10 16:01:43,620]\u001b[0m Trial 0 finished with value: 0.5456553466583086 and parameters: {'num_leaves': 54, 'max_depth': 8, 'learning_rate': 0.006431172050131994, 'n_estimators': 109, 'class_weight': None, 'min_child_samples': 27, 'subsample': 0.9675319002346239, 'colsample_bytree': 0.9890988281503088, 'reg_alpha': 0.3834415188257777, 'reg_lambda': 7.917250380826646}. Best is trial 0 with value: 0.5456553466583086.\u001b[0m\n",
      "\u001b[32m[I 2021-12-10 16:01:43,719]\u001b[0m Trial 1 finished with value: 0.47352869399610487 and parameters: {'num_leaves': 47, 'max_depth': 6, 'learning_rate': 0.05981221901152557, 'n_estimators': 11, 'class_weight': 'balanced', 'min_child_samples': 44, 'subsample': 0.9334470252849552, 'colsample_bytree': 0.9610036444740457, 'reg_alpha': 0.978618342232764, 'reg_lambda': 7.9915856421672355}. Best is trial 0 with value: 0.5456553466583086.\u001b[0m\n",
      "\u001b[32m[I 2021-12-10 16:01:45,100]\u001b[0m Trial 2 finished with value: 0.43887339040391227 and parameters: {'num_leaves': 30, 'max_depth': 8, 'learning_rate': 0.00022637229697395497, 'n_estimators': 174, 'class_weight': None, 'min_child_samples': 31, 'subsample': 0.8243985819971571, 'colsample_bytree': 0.7793666836313881, 'reg_alpha': 0.7742336894342167, 'reg_lambda': 4.5615033221654855}. Best is trial 0 with value: 0.5456553466583086.\u001b[0m\n",
      "\u001b[32m[I 2021-12-10 16:01:45,343]\u001b[0m Trial 3 finished with value: 0.5323469597714625 and parameters: {'num_leaves': 61, 'max_depth': 1, 'learning_rate': 0.007126995609048582, 'n_estimators': 152, 'class_weight': None, 'min_child_samples': 37, 'subsample': 0.8078523701721357, 'colsample_bytree': 0.8311095861398023, 'reg_alpha': 0.6976311959272649, 'reg_lambda': 0.6022547162926983}. Best is trial 0 with value: 0.5456553466583086.\u001b[0m\n",
      "\u001b[32m[I 2021-12-10 16:01:45,525]\u001b[0m Trial 4 finished with value: 0.43887339040391227 and parameters: {'num_leaves': 116, 'max_depth': 7, 'learning_rate': 0.0004277083049962072, 'n_estimators': 14, 'class_weight': None, 'min_child_samples': 33, 'subsample': 0.8315804540386961, 'colsample_bytree': 0.9965121514177678, 'reg_alpha': 0.10204481074802807, 'reg_lambda': 2.088767560948347}. Best is trial 0 with value: 0.5456553466583086.\u001b[0m\n",
      "\u001b[32m[I 2021-12-10 16:01:45,704]\u001b[0m Trial 5 finished with value: 0.4555806508725674 and parameters: {'num_leaves': 4, 'max_depth': 7, 'learning_rate': 0.000575274081411669, 'n_estimators': 74, 'class_weight': 'balanced', 'min_child_samples': 14, 'subsample': 0.896898876839582, 'colsample_bytree': 0.7414548854045842, 'reg_alpha': 0.1965823616800535, 'reg_lambda': 3.687251706609641}. Best is trial 0 with value: 0.5456553466583086.\u001b[0m\n",
      "\u001b[32m[I 2021-12-10 16:01:45,748]\u001b[0m Trial 6 finished with value: 0.41194366952019557 and parameters: {'num_leaves': 319, 'max_depth': 1, 'learning_rate': 0.03264635677523523, 'n_estimators': 12, 'class_weight': 'balanced', 'min_child_samples': 50, 'subsample': 0.8814536559235138, 'colsample_bytree': 0.9217790738194904, 'reg_alpha': 0.039187792254320675, 'reg_lambda': 2.828069625764096}. Best is trial 0 with value: 0.5456553466583086.\u001b[0m\n",
      "\u001b[32m[I 2021-12-10 16:01:45,836]\u001b[0m Trial 7 finished with value: 0.4558892913709858 and parameters: {'num_leaves': 3, 'max_depth': 3, 'learning_rate': 0.00022708223335487552, 'n_estimators': 36, 'class_weight': 'balanced', 'min_child_samples': 38, 'subsample': 0.8699804362619725, 'colsample_bytree': 0.7796168472818336, 'reg_alpha': 0.5232480534666997, 'reg_lambda': 0.9394051075844168}. Best is trial 0 with value: 0.5456553466583086.\u001b[0m\n",
      "\u001b[32m[I 2021-12-10 16:01:47,836]\u001b[0m Trial 8 finished with value: 0.47693953038792997 and parameters: {'num_leaves': 64, 'max_depth': 10, 'learning_rate': 0.000903039728888594, 'n_estimators': 200, 'class_weight': None, 'min_child_samples': 21, 'subsample': 0.754957408602135, 'colsample_bytree': 0.8759538804430249, 'reg_alpha': 0.020107546187493552, 'reg_lambda': 8.289400292173632}. Best is trial 0 with value: 0.5456553466583086.\u001b[0m\n",
      "\u001b[32m[I 2021-12-10 16:01:48,215]\u001b[0m Trial 9 finished with value: 0.4073044917959049 and parameters: {'num_leaves': 2, 'max_depth': 7, 'learning_rate': 0.0006456897906217104, 'n_estimators': 279, 'class_weight': 'balanced', 'min_child_samples': 33, 'subsample': 0.8776125793815517, 'colsample_bytree': 0.871675571737262, 'reg_alpha': 0.2230816326406183, 'reg_lambda': 9.52749011516985}. Best is trial 0 with value: 0.5456553466583086.\u001b[0m\n",
      "\u001b[32m[I 2021-12-10 16:01:50,949]\u001b[0m Trial 10 finished with value: 0.581868686627014 and parameters: {'num_leaves': 11, 'max_depth': 10, 'learning_rate': 0.005178515009995974, 'n_estimators': 725, 'class_weight': None, 'min_child_samples': 22, 'subsample': 0.9623738478253122, 'colsample_bytree': 0.9247056876505003, 'reg_alpha': 0.3720763170816872, 'reg_lambda': 6.289744271966317}. Best is trial 10 with value: 0.581868686627014.\u001b[0m\n",
      "\u001b[32m[I 2021-12-10 16:01:54,491]\u001b[0m Trial 11 finished with value: 0.5846550643359922 and parameters: {'num_leaves': 11, 'max_depth': 10, 'learning_rate': 0.005786967208840589, 'n_estimators': 921, 'class_weight': None, 'min_child_samples': 22, 'subsample': 0.9921812768132975, 'colsample_bytree': 0.9344843334464683, 'reg_alpha': 0.3929761707520939, 'reg_lambda': 6.430945352142265}. Best is trial 11 with value: 0.5846550643359922.\u001b[0m\n",
      "\u001b[32m[I 2021-12-10 16:01:58,551]\u001b[0m Trial 12 finished with value: 0.5747465080557562 and parameters: {'num_leaves': 13, 'max_depth': 10, 'learning_rate': 0.0026140425367936876, 'n_estimators': 953, 'class_weight': None, 'min_child_samples': 20, 'subsample': 0.9945715575731272, 'colsample_bytree': 0.9191722328169482, 'reg_alpha': 0.42454921401291057, 'reg_lambda': 6.053916670656307}. Best is trial 11 with value: 0.5846550643359922.\u001b[0m\n",
      "\u001b[32m[I 2021-12-10 16:02:02,197]\u001b[0m Trial 13 finished with value: 0.59578909087429 and parameters: {'num_leaves': 11, 'max_depth': 10, 'learning_rate': 0.015584210185902279, 'n_estimators': 992, 'class_weight': None, 'min_child_samples': 10, 'subsample': 0.9468641344535665, 'colsample_bytree': 0.9294533481158067, 'reg_alpha': 0.3022451842077033, 'reg_lambda': 5.846803415349768}. Best is trial 13 with value: 0.59578909087429.\u001b[0m\n",
      "\u001b[32m[I 2021-12-10 16:02:03,557]\u001b[0m Trial 14 finished with value: 0.5818658155526102 and parameters: {'num_leaves': 7, 'max_depth': 4, 'learning_rate': 0.019204792096438585, 'n_estimators': 516, 'class_weight': None, 'min_child_samples': 11, 'subsample': 0.9994784023003805, 'colsample_bytree': 0.9507979760054737, 'reg_alpha': 0.5686808122969887, 'reg_lambda': 5.882620379332417}. Best is trial 13 with value: 0.59578909087429.\u001b[0m\n",
      "\u001b[32m[I 2021-12-10 16:02:05,101]\u001b[0m Trial 15 finished with value: 0.5948646049162364 and parameters: {'num_leaves': 13, 'max_depth': 9, 'learning_rate': 0.01652716397988514, 'n_estimators': 372, 'class_weight': None, 'min_child_samples': 16, 'subsample': 0.9278559710950893, 'colsample_bytree': 0.8376848109574482, 'reg_alpha': 0.26349283857462574, 'reg_lambda': 4.91010618185904}. Best is trial 13 with value: 0.59578909087429.\u001b[0m\n",
      "\u001b[32m[I 2021-12-10 16:02:07,049]\u001b[0m Trial 16 finished with value: 0.6029122264703489 and parameters: {'num_leaves': 19, 'max_depth': 9, 'learning_rate': 0.0174627893038549, 'n_estimators': 370, 'class_weight': None, 'min_child_samples': 14, 'subsample': 0.9232011521416416, 'colsample_bytree': 0.8432624132341656, 'reg_alpha': 0.22928986898163708, 'reg_lambda': 4.5905802868180645}. Best is trial 16 with value: 0.6029122264703489.\u001b[0m\n",
      "\u001b[32m[I 2021-12-10 16:02:08,876]\u001b[0m Trial 17 finished with value: 0.6112637033988736 and parameters: {'num_leaves': 681, 'max_depth': 5, 'learning_rate': 0.08577965502427358, 'n_estimators': 370, 'class_weight': None, 'min_child_samples': 10, 'subsample': 0.7005934005618105, 'colsample_bytree': 0.8803248211766086, 'reg_alpha': 0.27941698728025666, 'reg_lambda': 3.9531567694363217}. Best is trial 17 with value: 0.6112637033988736.\u001b[0m\n",
      "\u001b[32m[I 2021-12-10 16:02:10,454]\u001b[0m Trial 18 finished with value: 0.5982668280848499 and parameters: {'num_leaves': 604, 'max_depth': 4, 'learning_rate': 0.09515492948366741, 'n_estimators': 374, 'class_weight': None, 'min_child_samples': 15, 'subsample': 0.730493370829936, 'colsample_bytree': 0.811831102729148, 'reg_alpha': 0.18070274842170203, 'reg_lambda': 3.5079198434014947}. Best is trial 17 with value: 0.6112637033988736.\u001b[0m\n",
      "\u001b[32m[I 2021-12-10 16:02:10,786]\u001b[0m Trial 19 finished with value: 0.5905316751283609 and parameters: {'num_leaves': 198, 'max_depth': 5, 'learning_rate': 0.04616431999500606, 'n_estimators': 58, 'class_weight': None, 'min_child_samples': 26, 'subsample': 0.7006795767035764, 'colsample_bytree': 0.8762555313119568, 'reg_alpha': 0.611507660894709, 'reg_lambda': 1.8508472014299744}. Best is trial 17 with value: 0.6112637033988736.\u001b[0m\n",
      "\u001b[32m[I 2021-12-10 16:02:11,029]\u001b[0m Trial 20 finished with value: 0.583103248620688 and parameters: {'num_leaves': 560, 'max_depth': 5, 'learning_rate': 0.09165600819983274, 'n_estimators': 37, 'class_weight': None, 'min_child_samples': 17, 'subsample': 0.7853823189781065, 'colsample_bytree': 0.7192100264855914, 'reg_alpha': 0.11922973319295023, 'reg_lambda': 4.225115378074596}. Best is trial 17 with value: 0.6112637033988736.\u001b[0m\n",
      "\u001b[32m[I 2021-12-10 16:02:11,927]\u001b[0m Trial 21 finished with value: 0.5815528684425857 and parameters: {'num_leaves': 808, 'max_depth': 3, 'learning_rate': 0.09833043751211941, 'n_estimators': 329, 'class_weight': None, 'min_child_samples': 13, 'subsample': 0.7130977524739411, 'colsample_bytree': 0.8088850860326746, 'reg_alpha': 0.18603908637265587, 'reg_lambda': 3.7246560494426277}. Best is trial 17 with value: 0.6112637033988736.\u001b[0m\n",
      "\u001b[32m[I 2021-12-10 16:02:13,327]\u001b[0m Trial 22 finished with value: 0.5846498006995852 and parameters: {'num_leaves': 346, 'max_depth': 3, 'learning_rate': 0.03226631004202865, 'n_estimators': 524, 'class_weight': None, 'min_child_samples': 17, 'subsample': 0.7387185830504223, 'colsample_bytree': 0.7898237498596964, 'reg_alpha': 0.3266868401643823, 'reg_lambda': 2.9062965765888586}. Best is trial 17 with value: 0.6112637033988736.\u001b[0m\n",
      "\u001b[32m[I 2021-12-10 16:02:15,050]\u001b[0m Trial 23 finished with value: 0.5948641264038359 and parameters: {'num_leaves': 956, 'max_depth': 4, 'learning_rate': 0.054401786602069714, 'n_estimators': 495, 'class_weight': None, 'min_child_samples': 10, 'subsample': 0.758027339255002, 'colsample_bytree': 0.8575632249409479, 'reg_alpha': 0.1326301179490822, 'reg_lambda': 3.349099851246418}. Best is trial 17 with value: 0.6112637033988736.\u001b[0m\n",
      "\u001b[32m[I 2021-12-10 16:02:17,258]\u001b[0m Trial 24 finished with value: 0.5527722615931591 and parameters: {'num_leaves': 133, 'max_depth': 6, 'learning_rate': 0.0022118991687078825, 'n_estimators': 244, 'class_weight': None, 'min_child_samples': 14, 'subsample': 0.7176371889750428, 'colsample_bytree': 0.8202294982581005, 'reg_alpha': 0.46164313383437594, 'reg_lambda': 1.8005629173968436}. Best is trial 17 with value: 0.6112637033988736.\u001b[0m\n",
      "\u001b[32m[I 2021-12-10 16:02:17,733]\u001b[0m Trial 25 finished with value: 0.5592709385063714 and parameters: {'num_leaves': 23, 'max_depth': 4, 'learning_rate': 0.011692863865898377, 'n_estimators': 121, 'class_weight': None, 'min_child_samples': 26, 'subsample': 0.7770173789228041, 'colsample_bytree': 0.8942497988313995, 'reg_alpha': 0.29330422947314494, 'reg_lambda': 5.315805815466878}. Best is trial 17 with value: 0.6112637033988736.\u001b[0m\n",
      "\u001b[32m[I 2021-12-10 16:02:18,397]\u001b[0m Trial 26 finished with value: 0.5769165617926989 and parameters: {'num_leaves': 466, 'max_depth': 2, 'learning_rate': 0.029700188188181754, 'n_estimators': 387, 'class_weight': None, 'min_child_samples': 19, 'subsample': 0.7266103138857047, 'colsample_bytree': 0.7579967686401591, 'reg_alpha': 0.17281420157476698, 'reg_lambda': 4.244667718547696}. Best is trial 17 with value: 0.6112637033988736.\u001b[0m\n",
      "\u001b[32m[I 2021-12-10 16:02:21,710]\u001b[0m Trial 27 finished with value: 0.6007421727334064 and parameters: {'num_leaves': 203, 'max_depth': 5, 'learning_rate': 0.07165493756534252, 'n_estimators': 655, 'class_weight': None, 'min_child_samples': 14, 'subsample': 0.9109032574798377, 'colsample_bytree': 0.8076305652561139, 'reg_alpha': 0.0037407464541237556, 'reg_lambda': 7.1983703575439835}. Best is trial 17 with value: 0.6112637033988736.\u001b[0m\n",
      "\u001b[32m[I 2021-12-10 16:02:26,340]\u001b[0m Trial 28 finished with value: 0.6060043736033419 and parameters: {'num_leaves': 192, 'max_depth': 6, 'learning_rate': 0.02515304710533404, 'n_estimators': 651, 'class_weight': None, 'min_child_samples': 12, 'subsample': 0.9127274704962325, 'colsample_bytree': 0.8458705963963902, 'reg_alpha': 0.03847436454033048, 'reg_lambda': 7.017872289778529}. Best is trial 17 with value: 0.6112637033988736.\u001b[0m\n",
      "\u001b[32m[I 2021-12-10 16:02:27,349]\u001b[0m Trial 29 finished with value: 0.5629894583718137 and parameters: {'num_leaves': 92, 'max_depth': 8, 'learning_rate': 0.009376737701815886, 'n_estimators': 107, 'class_weight': None, 'min_child_samples': 24, 'subsample': 0.8522297861265595, 'colsample_bytree': 0.8953516575651794, 'reg_alpha': 0.2611252197711502, 'reg_lambda': 7.246170457013266}. Best is trial 17 with value: 0.6112637033988736.\u001b[0m\n",
      "\u001b[32m[I 2021-12-10 16:02:29,642]\u001b[0m Trial 30 finished with value: 0.5264631712930841 and parameters: {'num_leaves': 23, 'max_depth': 9, 'learning_rate': 0.0015128080070068543, 'n_estimators': 217, 'class_weight': None, 'min_child_samples': 11, 'subsample': 0.9093170163362558, 'colsample_bytree': 0.8474177808831905, 'reg_alpha': 0.08982469798542272, 'reg_lambda': 9.053917900727}. Best is trial 17 with value: 0.6112637033988736.\u001b[0m\n",
      "\u001b[32m[I 2021-12-10 16:02:32,914]\u001b[0m Trial 31 finished with value: 0.5985740330460664 and parameters: {'num_leaves': 214, 'max_depth': 5, 'learning_rate': 0.02348874968493739, 'n_estimators': 656, 'class_weight': None, 'min_child_samples': 13, 'subsample': 0.9113415781807231, 'colsample_bytree': 0.7981131807358698, 'reg_alpha': 0.0066887881605795455, 'reg_lambda': 7.083105381620645}. Best is trial 17 with value: 0.6112637033988736.\u001b[0m\n",
      "\u001b[32m[I 2021-12-10 16:02:37,652]\u001b[0m Trial 32 finished with value: 0.6044578215244447 and parameters: {'num_leaves': 210, 'max_depth': 6, 'learning_rate': 0.04852596451235528, 'n_estimators': 631, 'class_weight': None, 'min_child_samples': 18, 'subsample': 0.9371641669783622, 'colsample_bytree': 0.8575132381713588, 'reg_alpha': 0.06723589616953998, 'reg_lambda': 7.016039178204615}. Best is trial 17 with value: 0.6112637033988736.\u001b[0m\n",
      "\u001b[32m[I 2021-12-10 16:02:40,981]\u001b[0m Trial 33 finished with value: 0.6149793521899121 and parameters: {'num_leaves': 44, 'max_depth': 6, 'learning_rate': 0.04460858062534195, 'n_estimators': 472, 'class_weight': None, 'min_child_samples': 19, 'subsample': 0.9600234690051823, 'colsample_bytree': 0.8600647435633442, 'reg_alpha': 0.07866307267311232, 'reg_lambda': 5.264052107752651}. Best is trial 33 with value: 0.6149793521899121.\u001b[0m\n",
      "\u001b[32m[I 2021-12-10 16:02:46,661]\u001b[0m Trial 34 finished with value: 0.6100253133059943 and parameters: {'num_leaves': 46, 'max_depth': 6, 'learning_rate': 0.0650044285751222, 'n_estimators': 685, 'class_weight': None, 'min_child_samples': 18, 'subsample': 0.9699716595255654, 'colsample_bytree': 0.8581757788248165, 'reg_alpha': 0.9663663672151227, 'reg_lambda': 8.52938445138491}. Best is trial 33 with value: 0.6149793521899121.\u001b[0m\n",
      "\u001b[32m[I 2021-12-10 16:02:47,967]\u001b[0m Trial 35 finished with value: 0.6035314215167886 and parameters: {'num_leaves': 39, 'max_depth': 7, 'learning_rate': 0.04166503210139552, 'n_estimators': 150, 'class_weight': None, 'min_child_samples': 28, 'subsample': 0.9674945103019817, 'colsample_bytree': 0.9003894535725872, 'reg_alpha': 0.8831043807538106, 'reg_lambda': 8.536801044607955}. Best is trial 33 with value: 0.6149793521899121.\u001b[0m\n",
      "\u001b[32m[I 2021-12-10 16:02:51,689]\u001b[0m Trial 36 finished with value: 0.6128136050645753 and parameters: {'num_leaves': 76, 'max_depth': 6, 'learning_rate': 0.06472338519504536, 'n_estimators': 478, 'class_weight': None, 'min_child_samples': 19, 'subsample': 0.9522250350802018, 'colsample_bytree': 0.971612821801991, 'reg_alpha': 0.9312947892319032, 'reg_lambda': 7.659941628185141}. Best is trial 33 with value: 0.6149793521899121.\u001b[0m\n",
      "\u001b[32m[I 2021-12-10 16:02:55,192]\u001b[0m Trial 37 finished with value: 0.6090974777611361 and parameters: {'num_leaves': 44, 'max_depth': 6, 'learning_rate': 0.06878585975002528, 'n_estimators': 467, 'class_weight': None, 'min_child_samples': 24, 'subsample': 0.9811899159774516, 'colsample_bytree': 0.9789422831542827, 'reg_alpha': 0.9082590493051848, 'reg_lambda': 9.475879920675748}. Best is trial 33 with value: 0.6149793521899121.\u001b[0m\n",
      "\u001b[32m[I 2021-12-10 16:02:57,591]\u001b[0m Trial 38 finished with value: 0.6072418066714198 and parameters: {'num_leaves': 101, 'max_depth': 8, 'learning_rate': 0.039816838396017004, 'n_estimators': 247, 'class_weight': None, 'min_child_samples': 29, 'subsample': 0.9519983044694167, 'colsample_bytree': 0.9725270321472582, 'reg_alpha': 0.9941566679922389, 'reg_lambda': 8.088615112967535}. Best is trial 33 with value: 0.6149793521899121.\u001b[0m\n",
      "\u001b[32m[I 2021-12-10 16:02:58,643]\u001b[0m Trial 39 finished with value: 0.43887339040391227 and parameters: {'num_leaves': 71, 'max_depth': 6, 'learning_rate': 0.00012066026259918026, 'n_estimators': 156, 'class_weight': None, 'min_child_samples': 41, 'subsample': 0.8161379867374956, 'colsample_bytree': 0.9606252015516251, 'reg_alpha': 0.809010672910212, 'reg_lambda': 8.691520576916716}. Best is trial 33 with value: 0.6149793521899121.\u001b[0m\n",
      "\u001b[32m[I 2021-12-10 16:03:00,970]\u001b[0m Trial 40 finished with value: 0.6066240471621822 and parameters: {'num_leaves': 32, 'max_depth': 7, 'learning_rate': 0.06461372061188231, 'n_estimators': 283, 'class_weight': None, 'min_child_samples': 23, 'subsample': 0.9749613176993754, 'colsample_bytree': 0.9067554574937796, 'reg_alpha': 0.6943595718787638, 'reg_lambda': 7.856003450599957}. Best is trial 33 with value: 0.6149793521899121.\u001b[0m\n",
      "\u001b[32m[I 2021-12-10 16:03:04,309]\u001b[0m Trial 41 finished with value: 0.6097181083447778 and parameters: {'num_leaves': 38, 'max_depth': 6, 'learning_rate': 0.06754344077601097, 'n_estimators': 466, 'class_weight': None, 'min_child_samples': 25, 'subsample': 0.9758599176955234, 'colsample_bytree': 0.9846360703972017, 'reg_alpha': 0.931200244074118, 'reg_lambda': 9.987522877216628}. Best is trial 33 with value: 0.6149793521899121.\u001b[0m\n",
      "\u001b[32m[I 2021-12-10 16:03:04,406]\u001b[0m Trial 42 finished with value: 0.5338939903627603 and parameters: {'num_leaves': 48, 'max_depth': 5, 'learning_rate': 0.07130496036702204, 'n_estimators': 8, 'class_weight': None, 'min_child_samples': 31, 'subsample': 0.9516522429847303, 'colsample_bytree': 0.986309567389921, 'reg_alpha': 0.8981604060545452, 'reg_lambda': 9.208729809225114}. Best is trial 33 with value: 0.6149793521899121.\u001b[0m\n",
      "\u001b[32m[I 2021-12-10 16:03:12,190]\u001b[0m Trial 43 finished with value: 0.6118852910073165 and parameters: {'num_leaves': 78, 'max_depth': 7, 'learning_rate': 0.03738885777113985, 'n_estimators': 814, 'class_weight': None, 'min_child_samples': 20, 'subsample': 0.9837007743828318, 'colsample_bytree': 0.9984956074413138, 'reg_alpha': 0.9505808120104327, 'reg_lambda': 9.977461063198499}. Best is trial 33 with value: 0.6149793521899121.\u001b[0m\n",
      "\u001b[32m[I 2021-12-10 16:03:20,369]\u001b[0m Trial 44 finished with value: 0.6091003488355401 and parameters: {'num_leaves': 71, 'max_depth': 7, 'learning_rate': 0.034096595123529895, 'n_estimators': 852, 'class_weight': None, 'min_child_samples': 20, 'subsample': 0.847570719789718, 'colsample_bytree': 0.9446369399691197, 'reg_alpha': 0.841509047549879, 'reg_lambda': 9.883758239837618}. Best is trial 33 with value: 0.6149793521899121.\u001b[0m\n",
      "\u001b[32m[I 2021-12-10 16:03:28,479]\u001b[0m Trial 45 finished with value: 0.6100262703307957 and parameters: {'num_leaves': 127, 'max_depth': 7, 'learning_rate': 0.04560617312266597, 'n_estimators': 830, 'class_weight': None, 'min_child_samples': 19, 'subsample': 0.9593635095330248, 'colsample_bytree': 0.8837087205058999, 'reg_alpha': 0.7368360992955105, 'reg_lambda': 7.568882658154171}. Best is trial 33 with value: 0.6149793521899121.\u001b[0m\n",
      "\u001b[32m[I 2021-12-10 16:03:33,783]\u001b[0m Trial 46 finished with value: 0.5976490685756122 and parameters: {'num_leaves': 145, 'max_depth': 7, 'learning_rate': 0.012042027051294514, 'n_estimators': 784, 'class_weight': None, 'min_child_samples': 48, 'subsample': 0.8898500982388414, 'colsample_bytree': 0.9969639195037978, 'reg_alpha': 0.7129123251373498, 'reg_lambda': 7.7824234249667885}. Best is trial 33 with value: 0.6149793521899121.\u001b[0m\n",
      "\u001b[32m[I 2021-12-10 16:03:44,512]\u001b[0m Trial 47 finished with value: 0.6140519951574546 and parameters: {'num_leaves': 299, 'max_depth': 8, 'learning_rate': 0.02424453389648765, 'n_estimators': 968, 'class_weight': None, 'min_child_samples': 21, 'subsample': 0.9412544630677805, 'colsample_bytree': 0.8715234957841991, 'reg_alpha': 0.7624443935295906, 'reg_lambda': 5.185003675036178}. Best is trial 33 with value: 0.6149793521899121.\u001b[0m\n",
      "\u001b[32m[I 2021-12-10 16:03:51,191]\u001b[0m Trial 48 finished with value: 0.5914590321608185 and parameters: {'num_leaves': 385, 'max_depth': 8, 'learning_rate': 0.004034088999812773, 'n_estimators': 548, 'class_weight': None, 'min_child_samples': 21, 'subsample': 0.9897588305607814, 'colsample_bytree': 0.9111408712639162, 'reg_alpha': 0.6312778544504657, 'reg_lambda': 5.505378462193068}. Best is trial 33 with value: 0.6149793521899121.\u001b[0m\n",
      "\u001b[32m[I 2021-12-10 16:04:01,348]\u001b[0m Trial 49 finished with value: 0.6152879926883306 and parameters: {'num_leaves': 266, 'max_depth': 8, 'learning_rate': 0.022418795177880497, 'n_estimators': 1015, 'class_weight': None, 'min_child_samples': 36, 'subsample': 0.9354625185212285, 'colsample_bytree': 0.9579158817449414, 'reg_alpha': 0.8332097920886655, 'reg_lambda': 6.494770261851729}. Best is trial 49 with value: 0.6152879926883306.\u001b[0m\n"
     ]
    }
   ],
   "source": [
    "# Hyperparameter Tuning\n",
    "study = optuna.create_study(direction='maximize', sampler=TPESampler(seed=0), pruner=SuccessiveHalvingPruner())\n",
    "study.optimize(objective, n_trials=50)\n",
    "\n",
    "# Best Parameter로 모델 훈련\n",
    "clfs = []\n",
    "for df_train in df_trains:\n",
    "    clf = LGBMClassifier(**study.best_params)\n",
    "    clf.fit(df_train[features], df_train[target])\n",
    "    clfs.append(clf)"
   ]
  },
  {
   "cell_type": "code",
   "execution_count": 17,
   "metadata": {},
   "outputs": [],
   "source": [
    "# 테스트 데이터 불러오기\n",
    "df_test = pd.read_csv('../_data/dacon/wine/test.csv')\n",
    "df_test['type'] = df_test['type'].replace(type_to_num)\n",
    "\n",
    "# 예측 수행 (soft voting)\n",
    "pred = [clf.predict_proba(df_test[features]) for clf in clfs]\n",
    "pred = np.mean(pred, axis=0)\n",
    "pred = np.argmax(pred, axis=1)+4"
   ]
  },
  {
   "cell_type": "code",
   "execution_count": 1,
   "metadata": {},
   "outputs": [
    {
     "ename": "NameError",
     "evalue": "name 'pd' is not defined",
     "output_type": "error",
     "traceback": [
      "\u001b[1;31m---------------------------------------------------------------------------\u001b[0m",
      "\u001b[1;31mNameError\u001b[0m                                 Traceback (most recent call last)",
      "\u001b[1;32m~\\AppData\\Local\\Temp/ipykernel_13892/3233431545.py\u001b[0m in \u001b[0;36m<module>\u001b[1;34m\u001b[0m\n\u001b[1;32m----> 1\u001b[1;33m \u001b[0mdf_submit\u001b[0m \u001b[1;33m=\u001b[0m \u001b[0mpd\u001b[0m\u001b[1;33m.\u001b[0m\u001b[0mread_csv\u001b[0m\u001b[1;33m(\u001b[0m\u001b[1;34m'../_data/dacon/wine/sample_submission.csv'\u001b[0m\u001b[1;33m)\u001b[0m\u001b[1;33m\u001b[0m\u001b[1;33m\u001b[0m\u001b[0m\n\u001b[0m\u001b[0;32m      2\u001b[0m \u001b[0mdf_submit\u001b[0m\u001b[1;33m[\u001b[0m\u001b[1;34m'quality'\u001b[0m\u001b[1;33m]\u001b[0m \u001b[1;33m=\u001b[0m \u001b[0mpred\u001b[0m\u001b[1;33m\u001b[0m\u001b[1;33m\u001b[0m\u001b[0m\n\u001b[0;32m      3\u001b[0m \u001b[0mdf_submit\u001b[0m\u001b[1;33m.\u001b[0m\u001b[0mto_csv\u001b[0m\u001b[1;33m(\u001b[0m\u001b[1;34m\"../_data/dacon/wine/winequality1.csv\"\u001b[0m\u001b[1;33m,\u001b[0m \u001b[0mindex\u001b[0m\u001b[1;33m=\u001b[0m\u001b[1;32mFalse\u001b[0m\u001b[1;33m)\u001b[0m\u001b[1;33m\u001b[0m\u001b[1;33m\u001b[0m\u001b[0m\n",
      "\u001b[1;31mNameError\u001b[0m: name 'pd' is not defined"
     ]
    }
   ],
   "source": [
    "df_submit = pd.read_csv('../_data/dacon/wine/sample_submission.csv')\n",
    "df_submit['quality'] = pred\n",
    "df_submit.to_csv(\"../_data/dacon/wine/winequality1.csv\", index=False) "
   ]
  },
  {
   "cell_type": "code",
   "execution_count": 20,
   "metadata": {},
   "outputs": [
    {
     "ename": "TypeError",
     "evalue": "accuracy_score() missing 1 required positional argument: 'y_pred'",
     "output_type": "error",
     "traceback": [
      "\u001b[1;31m---------------------------------------------------------------------------\u001b[0m",
      "\u001b[1;31mTypeError\u001b[0m                                 Traceback (most recent call last)",
      "\u001b[1;32m~\\AppData\\Local\\Temp/ipykernel_11332/4074427558.py\u001b[0m in \u001b[0;36m<module>\u001b[1;34m\u001b[0m\n\u001b[0;32m      1\u001b[0m \u001b[1;32mfrom\u001b[0m \u001b[0msklearn\u001b[0m\u001b[1;33m.\u001b[0m\u001b[0mmetrics\u001b[0m \u001b[1;32mimport\u001b[0m \u001b[0maccuracy_score\u001b[0m\u001b[1;33m\u001b[0m\u001b[1;33m\u001b[0m\u001b[0m\n\u001b[1;32m----> 2\u001b[1;33m \u001b[0mprint\u001b[0m\u001b[1;33m(\u001b[0m\u001b[0maccuracy_score\u001b[0m\u001b[1;33m(\u001b[0m\u001b[0mpred\u001b[0m\u001b[1;33m)\u001b[0m\u001b[1;33m)\u001b[0m\u001b[1;33m\u001b[0m\u001b[1;33m\u001b[0m\u001b[0m\n\u001b[0m",
      "\u001b[1;32mC:\\ProgramData\\Anaconda3\\lib\\site-packages\\sklearn\\utils\\validation.py\u001b[0m in \u001b[0;36minner_f\u001b[1;34m(*args, **kwargs)\u001b[0m\n\u001b[0;32m     61\u001b[0m             \u001b[0mextra_args\u001b[0m \u001b[1;33m=\u001b[0m \u001b[0mlen\u001b[0m\u001b[1;33m(\u001b[0m\u001b[0margs\u001b[0m\u001b[1;33m)\u001b[0m \u001b[1;33m-\u001b[0m \u001b[0mlen\u001b[0m\u001b[1;33m(\u001b[0m\u001b[0mall_args\u001b[0m\u001b[1;33m)\u001b[0m\u001b[1;33m\u001b[0m\u001b[1;33m\u001b[0m\u001b[0m\n\u001b[0;32m     62\u001b[0m             \u001b[1;32mif\u001b[0m \u001b[0mextra_args\u001b[0m \u001b[1;33m<=\u001b[0m \u001b[1;36m0\u001b[0m\u001b[1;33m:\u001b[0m\u001b[1;33m\u001b[0m\u001b[1;33m\u001b[0m\u001b[0m\n\u001b[1;32m---> 63\u001b[1;33m                 \u001b[1;32mreturn\u001b[0m \u001b[0mf\u001b[0m\u001b[1;33m(\u001b[0m\u001b[1;33m*\u001b[0m\u001b[0margs\u001b[0m\u001b[1;33m,\u001b[0m \u001b[1;33m**\u001b[0m\u001b[0mkwargs\u001b[0m\u001b[1;33m)\u001b[0m\u001b[1;33m\u001b[0m\u001b[1;33m\u001b[0m\u001b[0m\n\u001b[0m\u001b[0;32m     64\u001b[0m \u001b[1;33m\u001b[0m\u001b[0m\n\u001b[0;32m     65\u001b[0m             \u001b[1;31m# extra_args > 0\u001b[0m\u001b[1;33m\u001b[0m\u001b[1;33m\u001b[0m\u001b[0m\n",
      "\u001b[1;31mTypeError\u001b[0m: accuracy_score() missing 1 required positional argument: 'y_pred'"
     ]
    }
   ],
   "source": [
    "from sklearn.metrics import accuracy_score\n",
    "print(accuracy_score(df_test))"
   ]
  }
 ],
 "metadata": {
  "interpreter": {
   "hash": "b3ba2566441a7c06988d0923437866b63cedc61552a5af99d1f4fb67d367b25f"
  },
  "kernelspec": {
   "display_name": "Python 3.9.7 64-bit ('base': conda)",
   "language": "python",
   "name": "python3"
  },
  "language_info": {
   "codemirror_mode": {
    "name": "ipython",
    "version": 3
   },
   "file_extension": ".py",
   "mimetype": "text/x-python",
   "name": "python",
   "nbconvert_exporter": "python",
   "pygments_lexer": "ipython3",
   "version": "3.9.7"
  },
  "orig_nbformat": 4
 },
 "nbformat": 4,
 "nbformat_minor": 2
}
